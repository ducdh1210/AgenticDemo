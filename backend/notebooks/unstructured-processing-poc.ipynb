{
 "cells": [
  {
   "cell_type": "code",
   "execution_count": 1,
   "metadata": {},
   "outputs": [],
   "source": [
    "# Warning control\n",
    "import warnings\n",
    "\n",
    "warnings.filterwarnings(\"ignore\")\n",
    "import logging\n",
    "\n",
    "# logger = logging.getLogger()\n",
    "# logger.setLevel(logging.CRITICAL)\n",
    "\n",
    "import nltk\n",
    "\n",
    "nltk.download(\"punkt_tab\")\n",
    "nltk.download(\"averaged_perceptron_tagger_eng\")"
   ]
  },
  {
   "cell_type": "code",
   "execution_count": 2,
   "metadata": {},
   "outputs": [],
   "source": [
    "import json\n",
    "from IPython.display import JSON\n",
    "\n",
    "from unstructured_client import UnstructuredClient\n",
    "from unstructured_client.models import shared\n",
    "from unstructured_client.models.errors import SDKError\n",
    "\n",
    "from unstructured.chunking.basic import chunk_elements\n",
    "from unstructured.chunking.title import chunk_by_title\n",
    "\n",
    "# from unstructured.partition.pdf import partition_pdf\n",
    "from unstructured.staging.base import dict_to_elements\n",
    "import chromadb\n",
    "\n",
    "from pathlib import Path\n",
    "\n",
    "import os\n",
    "from dotenv import load_dotenv\n"
   ]
  },
  {
   "cell_type": "code",
   "execution_count": 3,
   "metadata": {},
   "outputs": [],
   "source": [
    "from unstructured.partition.pdf import partition_pdf\n"
   ]
  },
  {
   "cell_type": "code",
   "execution_count": 4,
   "metadata": {},
   "outputs": [],
   "source": [
    "load_dotenv()\n",
    "UNSTRUCTURED_API_KEY = os.getenv(\"UNSTRUCTURED_API_KEY\")"
   ]
  },
  {
   "cell_type": "code",
   "execution_count": null,
   "metadata": {},
   "outputs": [],
   "source": []
  },
  {
   "cell_type": "code",
   "execution_count": 7,
   "metadata": {},
   "outputs": [],
   "source": [
    "file_dir = Path.cwd().parents[1] / \"data\" / \"pdf\"\n",
    "doc1 = file_dir / \"DOA-vs-VKA-blood-clots.pdf\"\n",
    "doc2 = file_dir / \"fimmu-14-1145145.pdf\"\n"
   ]
  },
  {
   "cell_type": "code",
   "execution_count": 8,
   "metadata": {},
   "outputs": [
    {
     "data": {
      "text/plain": [
       "<module 'unstructured.__version__' from '/Users/ducdo/Repo/Demo/.venv/lib/python3.11/site-packages/unstructured/__version__.py'>"
      ]
     },
     "execution_count": 8,
     "metadata": {},
     "output_type": "execute_result"
    }
   ],
   "source": [
    "import unstructured\n",
    "\n",
    "unstructured.__version__\n"
   ]
  },
  {
   "cell_type": "code",
   "execution_count": 12,
   "metadata": {},
   "outputs": [],
   "source": [
    "# Before calling the API, replace filename and ensure sdk is installed: \"pip install unstructured-client\"\n",
    "# See https://docs.unstructured.io/api-reference/api-services/sdk for more details\n",
    "\n",
    "import unstructured_client\n",
    "from unstructured_client.models import operations, shared\n",
    "\n",
    "client = unstructured_client.UnstructuredClient(\n",
    "    api_key_auth=UNSTRUCTURED_API_KEY,\n",
    "    server_url=\"https://api.unstructuredapp.io\",\n",
    ")\n",
    "\n",
    "filename = \"/Users/ducdo/Repo/Demo/data/pdf/DOA-vs-VKA-blood-clots.pdf\"\n",
    "with open(filename, \"rb\") as f:\n",
    "    files = shared.Files(\n",
    "        content=f.read(),\n",
    "        file_name=filename,\n",
    "    )\n",
    "\n",
    "req = shared.PartitionParameters(\n",
    "    files=files,\n",
    "    strategy=\"hi_res\",\n",
    "    hi_res_model_name=\"yolox\",\n",
    ")\n",
    "\n",
    "try:\n",
    "    resp = client.general.partition(req)\n",
    "    dld_elements = dict_to_elements(resp.elements)\n",
    "except SDKError as e:\n",
    "    print(e)"
   ]
  },
  {
   "cell_type": "code",
   "execution_count": 14,
   "metadata": {},
   "outputs": [],
   "source": [
    "dld_elements\n",
    "\n",
    "import pickle\n",
    "\n",
    "with open(\"dld_elements_DOA-vs-VKA-blood-clots.pkl\", \"wb\") as f:\n",
    "    pickle.dump(dld_elements, f)\n"
   ]
  },
  {
   "cell_type": "code",
   "execution_count": 21,
   "metadata": {},
   "outputs": [],
   "source": [
    "pdf_elements = partition_pdf(\n",
    "    filename=doc2,\n",
    "    strategy=\"fast\",\n",
    ")\n"
   ]
  },
  {
   "cell_type": "code",
   "execution_count": 25,
   "metadata": {},
   "outputs": [
    {
     "data": {
      "text/plain": [
       "{'text': 'OPEN ACCESS',\n",
       " 'embeddings': None,\n",
       " 'id': 'e6171eb0540cfebb97143f7f936ee50b',\n",
       " 'metadata': <unstructured.documents.elements.ElementMetadata at 0x13f364f50>}"
      ]
     },
     "execution_count": 25,
     "metadata": {},
     "output_type": "execute_result"
    }
   ],
   "source": [
    "pdf_elements[0].__dict__"
   ]
  },
  {
   "cell_type": "code",
   "execution_count": null,
   "metadata": {},
   "outputs": [],
   "source": []
  }
 ],
 "metadata": {
  "kernelspec": {
   "display_name": ".venv",
   "language": "python",
   "name": "python3"
  },
  "language_info": {
   "codemirror_mode": {
    "name": "ipython",
    "version": 3
   },
   "file_extension": ".py",
   "mimetype": "text/x-python",
   "name": "python",
   "nbconvert_exporter": "python",
   "pygments_lexer": "ipython3",
   "version": "3.11.9"
  }
 },
 "nbformat": 4,
 "nbformat_minor": 2
}
