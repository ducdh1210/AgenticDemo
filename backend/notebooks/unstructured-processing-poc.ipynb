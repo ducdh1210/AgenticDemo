{
 "cells": [
  {
   "cell_type": "markdown",
   "metadata": {},
   "source": [
    "# Set up notebook\n"
   ]
  },
  {
   "cell_type": "code",
   "execution_count": 48,
   "metadata": {},
   "outputs": [
    {
     "name": "stderr",
     "output_type": "stream",
     "text": [
      "[nltk_data] Downloading package punkt_tab to /Users/ducdo/nltk_data...\n",
      "[nltk_data]   Package punkt_tab is already up-to-date!\n",
      "[nltk_data] Downloading package averaged_perceptron_tagger_eng to\n",
      "[nltk_data]     /Users/ducdo/nltk_data...\n",
      "[nltk_data]   Package averaged_perceptron_tagger_eng is already up-to-\n",
      "[nltk_data]       date!\n"
     ]
    }
   ],
   "source": [
    "# Warning control\n",
    "import warnings\n",
    "\n",
    "warnings.filterwarnings(\"ignore\")\n",
    "import logging\n",
    "\n",
    "# logger = logging.getLogger()\n",
    "# logger.setLevel(logging.CRITICAL)\n",
    "\n",
    "import nltk\n",
    "\n",
    "nltk.download(\"punkt_tab\")\n",
    "nltk.download(\"averaged_perceptron_tagger_eng\")\n",
    "import collections\n",
    "from io import StringIO\n",
    "from lxml import etree"
   ]
  },
  {
   "cell_type": "code",
   "execution_count": 47,
   "metadata": {},
   "outputs": [],
   "source": [
    "import json\n",
    "from IPython.display import JSON\n",
    "\n",
    "from unstructured_client import UnstructuredClient\n",
    "from unstructured_client.models import shared\n",
    "from unstructured_client.models.errors import SDKError\n",
    "\n",
    "from unstructured.chunking.basic import chunk_elements\n",
    "from unstructured.chunking.title import chunk_by_title\n",
    "\n",
    "from unstructured.partition.pdf import partition_pdf\n",
    "from unstructured.staging.base import dict_to_elements\n",
    "from unstructured_client.models import operations\n",
    "import chromadb\n",
    "\n",
    "from pathlib import Path\n",
    "import pickle\n",
    "import os\n",
    "from dotenv import load_dotenv\n",
    "from IPython.core.display import HTML\n"
   ]
  },
  {
   "cell_type": "code",
   "execution_count": 11,
   "metadata": {},
   "outputs": [],
   "source": [
    "load_dotenv()\n",
    "UNSTRUCTURED_API_KEY = os.getenv(\"UNSTRUCTURED_API_KEY\")"
   ]
  },
  {
   "cell_type": "code",
   "execution_count": 12,
   "metadata": {},
   "outputs": [],
   "source": [
    "import unstructured_client\n",
    "\n",
    "\n",
    "client = unstructured_client.UnstructuredClient(\n",
    "    api_key_auth=UNSTRUCTURED_API_KEY,\n",
    "    server_url=\"https://api.unstructuredapp.io\",\n",
    ")\n"
   ]
  },
  {
   "cell_type": "markdown",
   "metadata": {},
   "source": [
    "# Utility functions\n"
   ]
  },
  {
   "cell_type": "code",
   "execution_count": null,
   "metadata": {},
   "outputs": [],
   "source": [
    "def partition_pdf_dld(\n",
    "    filename,\n",
    "    skip_infer_table_types=[],\n",
    "    pdf_infer_table_structure=True,\n",
    "):\n",
    "    \"\"\"\n",
    "    Partitions a PDF file into its constituent elements using the Unstructured API.\n",
    "\n",
    "    This function reads a PDF file, partitions it into its elements such as text, tables, and images,\n",
    "    and returns these elements in a structured format. It allows for the inference of table structures\n",
    "    within the PDF and can skip certain types of tables during the inference process.\n",
    "\n",
    "    Args:\n",
    "        filename (str): The path to the PDF file to be partitioned.\n",
    "        skip_infer_table_types (list[str], optional): A list of table types to skip during table structure inference. Defaults to [].\n",
    "        pdf_infer_table_structure (bool, optional): A flag indicating whether to infer table structures within the PDF. Defaults to True.\n",
    "\n",
    "    Returns:\n",
    "        list[dict]: A list of dictionaries, each representing an element extracted from the PDF file.\n",
    "    \"\"\"\n",
    "    with open(filename, \"rb\") as f:\n",
    "        files = shared.Files(\n",
    "            content=f.read(),\n",
    "            file_name=filename,\n",
    "        )\n",
    "\n",
    "    req = shared.PartitionParameters(\n",
    "        files=files,\n",
    "        strategy=\"hi_res\",\n",
    "        hi_res_model_name=\"yolox\",\n",
    "        pdf_infer_table_structure=pdf_infer_table_structure,\n",
    "        skip_infer_table_types=skip_infer_table_types,\n",
    "    )\n",
    "\n",
    "    try:\n",
    "        resp = client.general.partition(req)\n",
    "        dld_elements = dict_to_elements(resp.elements)\n",
    "    except SDKError as e:\n",
    "        print(e)\n",
    "    return dld_elements\n"
   ]
  },
  {
   "cell_type": "code",
   "execution_count": 57,
   "metadata": {},
   "outputs": [],
   "source": [
    "def parse_and_display_table_html(\n",
    "    table_html: str, print_html: bool = False, display_html: bool = True\n",
    ") -> None:\n",
    "    \"\"\"\n",
    "    Parses and displays the given HTML table string.\n",
    "\n",
    "    Args:\n",
    "        table_html (str): The HTML string representation of the table to be parsed and displayed.\n",
    "\n",
    "    Returns:\n",
    "        None\n",
    "    \"\"\"\n",
    "    parser = etree.XMLParser(remove_blank_text=True)\n",
    "    file_obj = StringIO(table_html)\n",
    "    tree = etree.parse(file_obj, parser)\n",
    "    if print_html:\n",
    "        print(etree.tostring(tree, pretty_print=True).decode())\n",
    "    if display_html:\n",
    "        display(HTML(table_html))"
   ]
  },
  {
   "cell_type": "markdown",
   "metadata": {},
   "source": [
    "# File paths\n"
   ]
  },
  {
   "cell_type": "code",
   "execution_count": 6,
   "metadata": {},
   "outputs": [],
   "source": [
    "file_dir = Path.cwd().parents[1] / \"data\" / \"pdf\"\n",
    "doc1 = file_dir / \"DOA-vs-VKA-blood-clots.pdf\"\n",
    "doc2 = file_dir / \"fimmu-14-1145145.pdf\"\n"
   ]
  },
  {
   "cell_type": "markdown",
   "metadata": {},
   "source": [
    "# Extract elements using different strategies\n"
   ]
  },
  {
   "cell_type": "markdown",
   "metadata": {},
   "source": [
    "## 1) Fast strategy -- only text extraction from a text-based PDF, then content normalization\n"
   ]
  },
  {
   "cell_type": "code",
   "execution_count": 7,
   "metadata": {},
   "outputs": [],
   "source": [
    "doc1_pdf_elements = partition_pdf(\n",
    "    filename=doc1,\n",
    "    strategy=\"fast\",\n",
    ")\n"
   ]
  },
  {
   "cell_type": "code",
   "execution_count": 34,
   "metadata": {},
   "outputs": [
    {
     "data": {
      "text/plain": [
       "Counter({'NarrativeText': 143,\n",
       "         'UncategorizedText': 121,\n",
       "         'Title': 114,\n",
       "         'ListItem': 52})"
      ]
     },
     "execution_count": 34,
     "metadata": {},
     "output_type": "execute_result"
    }
   ],
   "source": [
    "doc1_pdf_elements_categories = [el.category for el in doc1_pdf_elements]\n",
    "collections.Counter(doc1_pdf_elements_categories)\n"
   ]
  },
  {
   "cell_type": "markdown",
   "metadata": {},
   "source": [
    "## 2) Document-layout-detection (DLD) strategy -- extract text and layout from a mixed-format PDF\n"
   ]
  },
  {
   "cell_type": "code",
   "execution_count": 49,
   "metadata": {},
   "outputs": [
    {
     "data": {
      "text/plain": [
       "'/Users/ducdo/Repo/Demo/data/pdf/DOA-vs-VKA-blood-clots.pdf'"
      ]
     },
     "execution_count": 49,
     "metadata": {},
     "output_type": "execute_result"
    }
   ],
   "source": [
    "str(doc1)\n"
   ]
  },
  {
   "cell_type": "code",
   "execution_count": 17,
   "metadata": {},
   "outputs": [],
   "source": [
    "doc1_dld_elements = partition_pdf_dld(filename=str(doc1))\n"
   ]
  },
  {
   "cell_type": "code",
   "execution_count": 46,
   "metadata": {},
   "outputs": [],
   "source": [
    "doc1_dld_elements_with_infer_table_structure = partition_pdf_dld(\n",
    "    filename=str(doc1), skip_infer_table_types=[], pdf_infer_table_structure=True\n",
    ")\n",
    "\n",
    "with open(\"doc1_dld_elements.pkl\", \"wb\") as f:\n",
    "    pickle.dump(doc1_dld_elements_with_infer_table_structure, f)"
   ]
  },
  {
   "cell_type": "code",
   "execution_count": 53,
   "metadata": {},
   "outputs": [
    {
     "name": "stdout",
     "output_type": "stream",
     "text": [
      "Counter({'Title': 437, 'UncategorizedText': 125, 'ListItem': 45, 'NarrativeText': 44, 'Header': 14, 'Footer': 4, 'FigureCaption': 1, 'Table': 1})\n",
      "Counter({'Title': 437, 'UncategorizedText': 125, 'ListItem': 45, 'NarrativeText': 44, 'Header': 14, 'Footer': 4, 'FigureCaption': 1, 'Table': 1})\n"
     ]
    }
   ],
   "source": [
    "doc1_dld_elements_categories = [el.category for el in doc1_dld_elements]\n",
    "print(collections.Counter(doc1_dld_elements_categories))\n",
    "doc1_dld_elements_with_infer_table_structure_categories = [\n",
    "    el.category for el in doc1_dld_elements_with_infer_table_structure\n",
    "]\n",
    "print(collections.Counter(doc1_dld_elements_with_infer_table_structure_categories))\n"
   ]
  },
  {
   "cell_type": "code",
   "execution_count": 58,
   "metadata": {},
   "outputs": [
    {
     "data": {
      "text/html": [
       "<table><thead><tr><th>Clinical Guidelines</th><th>Recommendation</th></tr></thead><tbody><tr><td rowspan=\"2\">European Alliance of Associations for Rheumatology (EULEAR), 2019 (5)</td><td>For patients with venous thrombosis, indefinite anticoagulation is recommended. DOACs may be an alternative in patients unable to achieve target INR with VKAs, or intolerant to VKAs. Rivaroxaban should not be used in triple positive patients due to the increased risk of recurrent thrombosis.</td></tr><tr><td>For arterial events, indefinite anticoagulation is also recommended, avoiding the use of DOACs</td></tr><tr><td>European Society of Cardiology (ESC), 2019 (35)</td><td>Indefinite treatment with VK As is recommended. DOACs are not recommended.</td></tr><tr><td>American Society of Hematology (ASH), 2020 (36)</td><td>Indefinite anticoagulation with VK As is recommended. The use of DOACs is discouraged</td></tr><tr><td rowspan=\"2\">British Society for Haematology (BSH), 2020 (37)</td><td>For patients with venous thrombosis, indefinite anticoagulation is recommended. DOACs should not be used in triple-positive patients. Evidence i insufficient to establish recommendations in single or double positive patients. In general, it is suggested to avoid them; however, if patients are already being treated with DOACs, they may be continued depending on the clinical profile and patient preferences.</td></tr><tr><td>In patients with arterial thrombosis, indefinite treatment with VKAs is recommended. DOACs are not recommended.</td></tr><tr><td>National Institute for Health and Care Excellence (NICE), 2020 (38)</td><td>'VKAs are recommended in triple positive patients,</td></tr><tr><td>International Society on Thrombosis and Haemostasis (ISTH), 2020 (39)</td><td>In patients with high-risk thrombotic APS*, VKAs are recommended. In patients with APS without high-risk criteria who are already on DOACs therapy, it may be maintained depending on the clinical profile and patient preference.</td></tr><tr><td>American College of Cardiology (ACC), 2024 (40)</td><td>DOAC:s are not considered standard treatment in patients with APS.</td></tr></tbody></table>"
      ],
      "text/plain": [
       "<IPython.core.display.HTML object>"
      ]
     },
     "metadata": {},
     "output_type": "display_data"
    }
   ],
   "source": [
    "doc1_tables = [el for el in doc1_dld_elements if el.category == \"Table\"]\n",
    "# doc1_table_example = doc1_tables[0].text\n",
    "# table_html = doc1_tables[0].metadata.text_as_html\n",
    "parse_and_display_table_html(doc1_tables[0].metadata.text_as_html)"
   ]
  },
  {
   "cell_type": "code",
   "execution_count": 59,
   "metadata": {},
   "outputs": [],
   "source": [
    "doc2_dld_elements_with_infer_table_structure = partition_pdf_dld(\n",
    "    filename=str(doc2), skip_infer_table_types=[], pdf_infer_table_structure=True\n",
    ")\n",
    "doc2_tables = [\n",
    "    el for el in doc2_dld_elements_with_infer_table_structure if el.category == \"Table\"\n",
    "]\n",
    "# doc2_table_example = doc2_tables[0].text\n",
    "parse_and_display_table_html(doc2_tables[0].metadata.text_as_html)\n"
   ]
  },
  {
   "cell_type": "code",
   "execution_count": null,
   "metadata": {},
   "outputs": [],
   "source": []
  }
 ],
 "metadata": {
  "kernelspec": {
   "display_name": ".venv",
   "language": "python",
   "name": "python3"
  },
  "language_info": {
   "codemirror_mode": {
    "name": "ipython",
    "version": 3
   },
   "file_extension": ".py",
   "mimetype": "text/x-python",
   "name": "python",
   "nbconvert_exporter": "python",
   "pygments_lexer": "ipython3",
   "version": "3.11.9"
  }
 },
 "nbformat": 4,
 "nbformat_minor": 2
}
