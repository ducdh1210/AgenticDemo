{
 "cells": [
  {
   "cell_type": "markdown",
   "metadata": {},
   "source": [
    "# TODO:\n",
    "\n",
    "- Remove references\n",
    "- reach goal: handle chunking witth tables\n",
    "- handle footers</p>\n"
   ]
  },
  {
   "cell_type": "markdown",
   "metadata": {},
   "source": [
    "# Set up notebook\n"
   ]
  },
  {
   "cell_type": "code",
   "execution_count": 1,
   "metadata": {},
   "outputs": [
    {
     "name": "stderr",
     "output_type": "stream",
     "text": [
      "[nltk_data] Downloading package punkt_tab to /Users/ducdo/nltk_data...\n",
      "[nltk_data]   Package punkt_tab is already up-to-date!\n",
      "[nltk_data] Downloading package averaged_perceptron_tagger_eng to\n",
      "[nltk_data]     /Users/ducdo/nltk_data...\n",
      "[nltk_data]   Package averaged_perceptron_tagger_eng is already up-to-\n",
      "[nltk_data]       date!\n"
     ]
    }
   ],
   "source": [
    "# Warning control\n",
    "import warnings\n",
    "\n",
    "warnings.filterwarnings(\"ignore\")\n",
    "import logging\n",
    "\n",
    "# logger = logging.getLogger()\n",
    "# logger.setLevel(logging.CRITICAL)\n",
    "\n",
    "import nltk\n",
    "\n",
    "nltk.download(\"punkt_tab\")\n",
    "nltk.download(\"averaged_perceptron_tagger_eng\")\n",
    "import collections\n",
    "from io import StringIO\n",
    "from lxml import etree"
   ]
  },
  {
   "cell_type": "code",
   "execution_count": 4,
   "metadata": {},
   "outputs": [],
   "source": [
    "import json\n",
    "from IPython.display import JSON\n",
    "\n",
    "from unstructured_client import UnstructuredClient\n",
    "from unstructured_client.models import shared\n",
    "from unstructured_client.models.errors import SDKError\n",
    "\n",
    "from unstructured.chunking.basic import chunk_elements\n",
    "from unstructured.chunking.title import chunk_by_title\n",
    "\n",
    "\n",
    "from unstructured.partition.pdf import partition_pdf, partition_pdf_or_image\n",
    "from unstructured.staging.base import dict_to_elements\n",
    "from unstructured_client.models import operations\n",
    "import chromadb\n",
    "\n",
    "from pathlib import Path\n",
    "import pickle\n",
    "import os\n",
    "from dotenv import load_dotenv\n",
    "from IPython.core.display import HTML\n"
   ]
  },
  {
   "cell_type": "code",
   "execution_count": 5,
   "metadata": {},
   "outputs": [],
   "source": [
    "import sys\n",
    "\n",
    "sys.path.append(str(Path.cwd().parents[1]))\n",
    "from backend.config import CONNECTION_STRING, COLLECTION_NAME\n"
   ]
  },
  {
   "cell_type": "code",
   "execution_count": 6,
   "metadata": {},
   "outputs": [],
   "source": [
    "load_dotenv()\n",
    "UNSTRUCTURED_API_KEY = os.getenv(\"UNSTRUCTURED_API_KEY\")"
   ]
  },
  {
   "cell_type": "code",
   "execution_count": 7,
   "metadata": {},
   "outputs": [],
   "source": [
    "import unstructured_client\n",
    "\n",
    "\n",
    "client = unstructured_client.UnstructuredClient(\n",
    "    api_key_auth=UNSTRUCTURED_API_KEY,\n",
    "    server_url=\"https://api.unstructuredapp.io\",\n",
    ")\n"
   ]
  },
  {
   "cell_type": "markdown",
   "metadata": {},
   "source": [
    "# Testing with xml\n"
   ]
  },
  {
   "cell_type": "code",
   "execution_count": 18,
   "metadata": {},
   "outputs": [],
   "source": [
    "xmlString = \"\"\"\n",
    "<!DOCTYPE article\n",
    "PUBLIC \"-//NLM//DTD JATS (Z39.96) Journal Archiving and Interchange DTD with MathML3 v1.3 20210610//EN\" \"JATS-archivearticle1-3-mathml3.dtd\">\n",
    "<article dtd-version=\"1.3\" xml:lang=\"en\" article-type=\"case-report\"><?properties open_access?><processing-meta base-tagset=\"archiving\" mathml-version=\"3.0\" table-model=\"xhtml\" tagset-family=\"jats\"><restricted-by>pmc</restricted-by></processing-meta><front><journal-meta><journal-id journal-id-type=\"nlm-ta\">J Fungi (Basel)</journal-id><journal-id journal-id-type=\"iso-abbrev\">J Fungi (Basel)</journal-id><journal-id journal-id-type=\"publisher-id\">jof</journal-id><journal-title-group><journal-title>Journal of Fungi</journal-title></journal-title-group><issn pub-type=\"epub\">2309-608X</issn><publisher><publisher-name>MDPI</publisher-name></publisher></journal-meta><article-meta><article-id pub-id-type=\"pmid\">34575746</article-id><article-id pub-id-type=\"pmc\">8472188</article-id><article-id pub-id-type=\"doi\">10.3390/jof7090708</article-id><article-id pub-id-type=\"publisher-id\">jof-07-00708</article-id><article-categories><subj-group subj-group-type=\"heading\"><subject>Case Report</subject></subj-group></article-categories><title-group><article-title>Mucormycosis in CAPA, a Possible Fungal Super-Infection</article-title></title-group><contrib-group><contrib contrib-type=\"author\"><name><surname>Saltini</surname><given-names>Paola</given-names></name><xref rid=\"af1-jof-07-00708\" ref-type=\"aff\">1</xref><xref rid=\"af2-jof-07-00708\" ref-type=\"aff\">2</xref><xref rid=\"af3-jof-07-00708\" ref-type=\"aff\">3</xref><xref rid=\"fn1-jof-07-00708\" ref-type=\"author-notes\">&#x02020;</xref></contrib><contrib contrib-type=\"author\"><contrib-id contrib-id-type=\"orcid\" authenticated=\"true\">https://orcid.org/0000-0003-1386-6180</contrib-id><name><surname>Palomba</surname><given-names>Emanuele</given-names></name><xref rid=\"af1-jof-07-00708\" ref-type=\"aff\">1</xref><xref rid=\"af2-jof-07-00708\" ref-type=\"aff\">2</xref><xref rid=\"af3-jof-07-00708\" ref-type=\"aff\">3</xref><xref rid=\"fn1-jof-07-00708\" ref-type=\"author-notes\">&#x02020;</xref></contrib><contrib contrib-type=\"author\"><name><surname>Castelli</surname><given-names>Valeria</given-names></name><xref rid=\"af1-jof-07-00708\" ref-type=\"aff\">1</xref><xref rid=\"af2-jof-07-00708\" ref-type=\"aff\">2</xref><xref rid=\"af3-jof-07-00708\" ref-type=\"aff\">3</xref></contrib><contrib contrib-type=\"author\"><name><surname>Fava</surname><given-names>Marco</given-names></name><xref rid=\"af1-jof-07-00708\" ref-type=\"aff\">1</xref><xref rid=\"af2-jof-07-00708\" ref-type=\"aff\">2</xref><xref rid=\"af3-jof-07-00708\" ref-type=\"aff\">3</xref></contrib><contrib contrib-type=\"author\"><name><surname>Alagna</surname><given-names>Laura</given-names></name><xref rid=\"af1-jof-07-00708\" ref-type=\"aff\">1</xref></contrib><contrib contrib-type=\"author\"><contrib-id contrib-id-type=\"orcid\" authenticated=\"true\">https://orcid.org/0000-0003-4988-0427</contrib-id><name><surname>Biscarini</surname><given-names>Simona</given-names></name><xref rid=\"af1-jof-07-00708\" ref-type=\"aff\">1</xref></contrib><contrib contrib-type=\"author\"><name><surname>Mantero</surname><given-names>Marco</given-names></name><xref rid=\"af2-jof-07-00708\" ref-type=\"aff\">2</xref><xref rid=\"af4-jof-07-00708\" ref-type=\"aff\">4</xref></contrib><contrib contrib-type=\"author\"><contrib-id contrib-id-type=\"orcid\" authenticated=\"true\">https://orcid.org/0000-0002-2285-9970</contrib-id><name><surname>Blasi</surname><given-names>Francesco</given-names></name><xref rid=\"af2-jof-07-00708\" ref-type=\"aff\">2</xref><xref rid=\"af4-jof-07-00708\" ref-type=\"aff\">4</xref></contrib><contrib contrib-type=\"author\"><name><surname>Grancini</surname><given-names>Anna</given-names></name><xref rid=\"af5-jof-07-00708\" ref-type=\"aff\">5</xref></contrib><contrib contrib-type=\"author\"><name><surname>Bandera</surname><given-names>Alessandra</given-names></name><xref rid=\"af1-jof-07-00708\" ref-type=\"aff\">1</xref><xref rid=\"af2-jof-07-00708\" ref-type=\"aff\">2</xref><xref rid=\"af3-jof-07-00708\" ref-type=\"aff\">3</xref></contrib><contrib contrib-type=\"author\"><name><surname>Gori</surname><given-names>Andrea</given-names></name><xref rid=\"af1-jof-07-00708\" ref-type=\"aff\">1</xref><xref rid=\"af2-jof-07-00708\" ref-type=\"aff\">2</xref><xref rid=\"af3-jof-07-00708\" ref-type=\"aff\">3</xref></contrib><contrib contrib-type=\"author\"><name><surname>Muscatello</surname><given-names>Antonio</given-names></name><xref rid=\"af1-jof-07-00708\" ref-type=\"aff\">1</xref></contrib><contrib contrib-type=\"author\"><contrib-id contrib-id-type=\"orcid\" authenticated=\"true\">https://orcid.org/0000-0002-0383-9579</contrib-id><name><surname>Lombardi</surname><given-names>Andrea</given-names></name><xref rid=\"af1-jof-07-00708\" ref-type=\"aff\">1</xref><xref rid=\"af2-jof-07-00708\" ref-type=\"aff\">2</xref><xref rid=\"c1-jof-07-00708\" ref-type=\"corresp\">*</xref></contrib></contrib-group><contrib-group><contrib contrib-type=\"editor\"><name><surname>Perlin</surname><given-names>David S.</given-names></name><role>Academic Editor</role></contrib></contrib-group><aff id=\"af1-jof-07-00708\"><label>1</label>Infectious Diseases Unit, Fondazione IRCCS Ca&#x02019; Granda Ospedale Maggiore Policlinico, 20122 Milano, Italy; <email>paola.saltini@unimi.it</email> (P.S.); <email>emanuele.palomba@unimi.it</email> (E.P.); <email>valeria.castelli@unimi.it</email> (V.C.); <email>marco.fava@unimi.it</email> (M.F.); <email>laura.alagna@policlinico.mi.it</email> (L.A.); <email>simona.biscarini@policlinico.mi.it</email> (S.B.); <email>alessandra.bandera@unimi.it</email> (A.B.); <email>andrea.gori@unimi.it</email> (A.G.); <email>antonio.muscatello@policlinico.mi.it</email> (A.M.)</aff><aff id=\"af2-jof-07-00708\"><label>2</label>Department of Pathophysiology and Transplantation, University of Milano, 20122 Milano, Italy; <email>marco.mantero@unimi.it</email> (M.M.); <email>francesco.blasi@unimi.it</email> (F.B.)</aff><aff id=\"af3-jof-07-00708\"><label>3</label>Centre for Multidisciplinary Research in Health Science (MACH), University of Milano, 20122 Milano, Italy</aff><aff id=\"af4-jof-07-00708\"><label>4</label>Respiratory Unit and Cystic Fibrosis Adult Center, IRCCS Fondazione IRCCS Ca&#x02019; Granda Ospedale Maggiore Policlinico, 20122 Milano, Italy</aff><aff id=\"af5-jof-07-00708\"><label>5</label>UOS Microbiology, Central Laboratory, IRCCS Foundation, C&#x000e0; Granda Ospedale Maggiore Policlinico, 20122 Milano, Italy; <email>anna.grancini@policlinico.mi.it</email></aff><author-notes><corresp id=\"c1-jof-07-00708\"><label>*</label>Correspondence: <email>andrea.lombardi@unimi.it</email>; Tel.: +39-02-5503-4767</corresp><fn id=\"fn1-jof-07-00708\"><label>&#x02020;</label><p>These authors contributed equally to the study.</p></fn></author-notes><pub-date pub-type=\"epub\"><day>28</day><month>8</month><year>2021</year></pub-date><pub-date pub-type=\"collection\"><month>9</month><year>2021</year></pub-date><volume>7</volume><issue>9</issue><elocation-id>708</elocation-id><history><date date-type=\"received\"><day>06</day><month>8</month><year>2021</year></date><date date-type=\"accepted\"><day>26</day><month>8</month><year>2021</year></date></history><permissions><copyright-statement>&#x000a9; 2021 by the authors.</copyright-statement><copyright-year>2021</copyright-year><license><ali:license_ref xmlns:ali=\"http://www.niso.org/schemas/ali/1.0/\" specific-use=\"textmining\" content-type=\"ccbylicense\">https://creativecommons.org/licenses/by/4.0/</ali:license_ref><license-p>Licensee MDPI, Basel, Switzerland. This article is an open access article distributed under the terms and conditions of the Creative Commons Attribution (CC BY) license (<ext-link xmlns:xlink=\"http://www.w3.org/1999/xlink\" ext-link-type=\"uri\" xlink:href=\"https://creativecommons.org/licenses/by/4.0/\">https://creativecommons.org/licenses/by/4.0/</ext-link>).</license-p></license></permissions><abstract><p>The occurrence of pulmonary fungal superinfection due to <italic toggle=\"yes\">Aspergillus</italic> spp. in patients with COVID-19 is a well-described complication associated with significant morbidity and mortality. This can be related to a directed effect of the virus and to the immunosuppressive role of the therapies administered for the disease. Here, we describe the first case of pulmonary infection due to Mucorales occurring in a patient with a concomitant diagnosis of COVID-19-associated pulmonary aspergillosis.</p></abstract><kwd-group><kwd>mucormycosis</kwd><kwd>CAPA</kwd><kwd>COVID-19</kwd></kwd-group></article-meta></front><body><sec sec-type=\"intro\" id=\"sec1-jof-07-00708\"><title>1. Introduction</title><p>Since December 2019, the coronavirus disease 2019 (COVID-19) quickly spread worldwide and was declared as a pandemic by the World Health Organization (WHO) on 11 March 2020 [<xref rid=\"B1-jof-07-00708\" ref-type=\"bibr\">1</xref>]. The disease pattern of COVID-19 can range from mild to life-threatening pneumonia, with worst outcomes in elder patients and people with comorbidities such as severe asthma, diabetes mellitus or cancer [<xref rid=\"B2-jof-07-00708\" ref-type=\"bibr\">2</xref>]. The direct damage of the airway epithelium caused by the virus, the severe lymphopenia and the immune dysfunction induced by the infection [<xref rid=\"B3-jof-07-00708\" ref-type=\"bibr\">3</xref>,<xref rid=\"B4-jof-07-00708\" ref-type=\"bibr\">4</xref>] facilitate bacterial and fungal superinfection. Moreover, patients requiring oxygen or ventilatory support are currently managed with systemic glucocorticoids, the only treatment which has been demonstrated to reduce mortality [<xref rid=\"B5-jof-07-00708\" ref-type=\"bibr\">5</xref>,<xref rid=\"B6-jof-07-00708\" ref-type=\"bibr\">6</xref>], but steroid administration is a well-known risk factor for infections [<xref rid=\"B7-jof-07-00708\" ref-type=\"bibr\">7</xref>]. Usually, steroid therapy is administered as dexamethasone 6 mg/day based on the results of the RECOVERY trial [<xref rid=\"B8-jof-07-00708\" ref-type=\"bibr\">8</xref>], but other immunomodulatory molecules with immunosuppressive action are widely used, even if the efficacy of methylprednisolone and hydrocortisone has not been so clearly demonstrated [<xref rid=\"B9-jof-07-00708\" ref-type=\"bibr\">9</xref>,<xref rid=\"B10-jof-07-00708\" ref-type=\"bibr\">10</xref>,<xref rid=\"B11-jof-07-00708\" ref-type=\"bibr\">11</xref>]. Opportunistic fungal infections are of concern in such patients as an additional contributing factor to mortality.</p><p>There have been several reports of COVID-19-associated pulmonary aspergillosis (CAPA) [<xref rid=\"B12-jof-07-00708\" ref-type=\"bibr\">12</xref>] and some cases of mucormycosis, especially in patients with diabetes [<xref rid=\"B13-jof-07-00708\" ref-type=\"bibr\">13</xref>,<xref rid=\"B14-jof-07-00708\" ref-type=\"bibr\">14</xref>]. The diagnosis of COVID-19-associated mucormycosis (CAM) is more challenging because it is less frequently suspected by the clinicians and the causative agents are more difficult to isolate in cultures. Furthermore, the diagnosis cannot be helped by biomarkers such as &#x003b2;-D-glucan and galactomannan, as it is possible for aspergillosis [<xref rid=\"B15-jof-07-00708\" ref-type=\"bibr\">15</xref>,<xref rid=\"B16-jof-07-00708\" ref-type=\"bibr\">16</xref>].</p><p>Here we report the first case of the coexistence of two destructive fungal diseases, pulmonary aspergillosis and mucormycosis, in a patient with COVID-19 who was treated with corticosteroids. Our case emphasizes the importance of the clinical suspicion of invasive mould disease in this setting and the need to repeat microbiological investigations on bronchoalveolar lavage or other respiratory specimens, especially in case of poor response to treatment.</p></sec><sec id=\"sec2-jof-07-00708\"><title>2. Materials and Methods</title><p>In our laboratory, respiratory samples of patients at risk for fungal infections, such as patients hospitalized in the intensive care unit, are routinely investigated for the presence of fungi. Our protocols include the culture of respiratory samples on Sabouraud Dextrose Agar, incubated at 32 &#x000b0;C for 5&#x02013;20 days.</p><sec><title>Genus and Species Identification and Susceptibility Testing</title><p>Identification to genus and species level is strongly recommended for improved epidemiological data and to guide the choice of the antifungal treatment. We employed matrix assisted laser desorption ionisation time of flight (MALDI-TOF; Vitek MS BioM&#x000e8;rieux&#x02013;IVD; Liyon, France) together with the macro and microscopic morphological evaluation of the fungus. The commercial methods E-test (BioM&#x000e8;rieux) with RPMI-1640 medium (BioM&#x000e8;rieux) was used for the antifungal susceptibility. For Aspergillus spp., the EUCAST clinical breakpoint for fungi was employed [<xref rid=\"B17-jof-07-00708\" ref-type=\"bibr\">17</xref>]. No interpretative clinical breakpoints are available for Mucorales spp., and the classification of isolates as susceptible or resistant is not possible.</p></sec></sec><sec id=\"sec3-jof-07-00708\"><title>3. Case Presentation</title><p>A 72-year-old man with a history of myelodysplastic syndrome, type 2 diabetes and arterial hypertension was admitted to the Respiratory Care unit of our hospital with a diagnosis of SARS-CoV-2 pneumonia. The patient developed acute respiratory distress. On day 5 he underwent non-invasive ventilation with Continuous Positive Airway Pressure (CPAP) and a treatment with intravenous corticosteroids, initially with dexamethasone 6 mg every 24 h (two-day course) and then with methylprednisolone 40 mg every 12 h (25-days course with subsequent decalage). Given the sustained fever, the altered biochemistry indexes (C reactive protein 31.65 mg/dL) and his myelosuppression (neutrophil count 1270 /mmc), the patient was treated with multiple empiric antibiotic lines (piperacillin/tazobactam, cefepime and ceftobiprole). Finally, on day 27, he was treated with daptomycin and ceftaroline for <italic toggle=\"yes\">Enterococcus faecium</italic> bloodstream infection, with a subsequent shift to vancomycin and ceftaroline for the lack of clinical response. On day 30, a transthoracic echocardiography was performed, excluding valvular vegetations compatible with endocarditis, whereas the thoracic high-resolution computed tomography (HRCT) performed on day 38 showed pseudo-nodular cavitary consolidations in the right apical zone (<xref rid=\"jof-07-00708-f001\" ref-type=\"fig\">Figure 1</xref>A). The CT scan of facial bones only showed an inflammatory thickness of the left maxillary sinus. In the suspect of COVID-19 associated pulmonary aspergillosis (CAPA), voriconazole iv (300 mg every 12 h) was started. <italic toggle=\"yes\">Aspergillus fumigatus</italic> susceptible to azoles (the MIC of voriconazole was 0.094 mg/L) was isolated on samples of broncho-alveolar lavage performed on day 39, and antibiotic therapy with vancomycin and ceftaroline was stopped. Due to the lack of clinical improvement (the need for oxygen therapy with high-flow nasal cannula and the persistent fever), on day 53, therapy was then maximized, adding anidulafungin (200 mg the first day, then 100 mg/day) to voriconazole and introducing wide range empiric antibiotic therapy with linezolid (600 mg every 12 h) and piperacillin/tazobactam (3.50 g every 8 h).</p><p>The patient was then transferred to the Infectious Diseases (ID) department because of the worsening pulmonary radiological pattern and the persistence of fever. On day 55, the patient underwent a fundus oculi exam, which resulted negative for local infections. Blood cultures were performed at different times during his ID ward stay, and they were all negative. Blood cultures for mycobacteria and blood samples for galactomannan, &#x003b2;-D-glucan, HSV-1 DNA, HSV-2 DNA, CMV-DNA, EBV-DNA and BKV- DNA, serologies for <italic toggle=\"yes\">Toxoplasma gondii</italic> and <italic toggle=\"yes\">Strongyloides stercoralis</italic> and bacteria associated with atypical pneumonia were also collected and yielded a negative result. On day 58, the patient underwent a bone marrow biopsy and bone marrow aspiration, tested negative for CMV, EBV and <italic toggle=\"yes\">Parvovirus</italic> B-19 DNA, <italic toggle=\"yes\">Leishmania</italic> spp. PCR and bacterial and mycobacterial cultures. The same day, gas exchange deteriorated and respiratory distress increased. Non-invasive ventilation with CPAP was then restarted. A thorax CT scan showed a ground-glass and crazy-paving pattern (<xref rid=\"jof-07-00708-f001\" ref-type=\"fig\">Figure 1</xref>C). Therapy with methylprednisolone and trimethoprim-sulfamethoxazole (STX) was then started due to the clinical and radiological suspicion of <italic toggle=\"yes\">Pneumocystis jirovecii</italic> pneumonia, despite the ongoing prophylaxis with atovaquone that was started because of myelodysplastic syndrome and corticosteroids therapy. Moreover, linezolid was stopped and meropenem was substituted with piperacillin/tazobactam. On day 59, a bronchial aspiration (BAS) was performed, and a Mucorales (identified after some weeks as a <italic toggle=\"yes\">Mucor circinelloides</italic> resistant to voriconazole and susceptible to amphotericin B with a MIC of 0.094 mg/L) was identified. On day 61, the antifungal therapy was changed and the patient was administered with amphotericin B (7 mg/kg/day) and caspofungin (50 mg/day). The search for <italic toggle=\"yes\">Pneumocystis jirovecii</italic> DNA on BAS material was negative; therefore, STX was stopped and steroidal therapy was reduced. The patient further deteriorated, with worsening hypoxaemia and dyspnoea despite maximized CPAP support, and he finally died on day 64.</p></sec><sec sec-type=\"discussion\" id=\"sec4-jof-07-00708\"><title>4. Discussion</title><p>Different incidence rates of CAPA have been described in the literature, from 0.7&#x02013;7.7% among COVID patients to higher percentages among ICU patients and people with severe COVID-19 pneumonia [<xref rid=\"B12-jof-07-00708\" ref-type=\"bibr\">12</xref>,<xref rid=\"B18-jof-07-00708\" ref-type=\"bibr\">18</xref>]. The more frequent baseline conditions associated with CAPA are diabetes mellitus, corticosteroid administration, chronic cardiovascular diseases, renal failure and obesity [<xref rid=\"B12-jof-07-00708\" ref-type=\"bibr\">12</xref>,<xref rid=\"B19-jof-07-00708\" ref-type=\"bibr\">19</xref>]. As highlighted by our case, the clinical management of fragile patients with COVID-19 represents a difficult challenge. The coexistence of an impaired immune system alongside comorbidities often hampers differential diagnosis and the correct clinical and therapeutic approach. In this setting, SARS-CoV-2 infection can be the initial trigger of respiratory failure, and it favors infective complications. This can be related to a direct effect, consequently to airway epithelium damage and gut microbiota composition alteration, which favors fungal superinfection. Or, it can happen indirectly due to prolonged hospitalization, ventilatory support and the long courses of corticosteroid therapy required in the management of COVID-19 patients [<xref rid=\"B20-jof-07-00708\" ref-type=\"bibr\">20</xref>]. For these reasons, it is crucial to be aware of such risks, monitoring these patients with even further precaution and eventually performing regular screening for opportunistic infections (e.g., fungal biomarkers such as &#x003b2;-D-glucan and galactomannan). Furthermore, in the case of unresponsiveness to standard care for COVID-19, the clinical workup should be extended to extensive cultural enquiries (e.g., bronchoalveolar lavage) in addition to thoracic and paranasal sinuses imaging, aiming at the early recognition of microbiological and radiological signs of fungal disease. In conclusion, since SARS-CoV-2 continues to be a worldwide concern, other data are needed to better assess the incidence and the management of fungal superinfections in COVID-19. Prompt diagnosis is paramount to start appropriate antifungal therapy and, as emphasized by our experience, shape the clinical course of fragile COVID-19 patients.</p></sec></body><back><fn-group><fn><p><bold>Publisher&#x02019;s Note:</bold> MDPI stays neutral with regard to jurisdictional claims in published maps and institutional affiliations.</p></fn></fn-group><notes><title>Author Contributions</title><p>Resources, data curation and writing, P.S., E.P. and A.L.; A.G. (Anna Grancini) performed microbiological tests; all other authors participated in the review and editing of the final graft. All authors have read and agreed to the published version of the manuscript.</p></notes><notes><title>Funding</title><p>This research received no external funding.</p></notes><notes notes-type=\"data-availability\"><title>Data Availability Statement</title><p>Data will be provided on reasonable request.</p></notes><notes notes-type=\"COI-statement\"><title>Conflicts of Interest</title><p>The authors declare no conflict of interest.</p></notes><ref-list><title>References</title><ref id=\"B1-jof-07-00708\"><label>1.</label><element-citation publication-type=\"webpage\"><article-title>WHO Director-General&#x02019;s Opening Remarks at the Media Briefing on COVID-19&#x02014;11 March 2020</article-title><comment>Available online: <ext-link xmlns:xlink=\"http://www.w3.org/1999/xlink\" xlink:href=\"https://www.who.int/dg/speeches/detail/who-director-general-s-opening-remarks-at-the-media-briefing-on-covid-19---11-march-2020\" ext-link-type=\"uri\">https://www.who.int/dg/speeches/detail/who-director-general-s-opening-remarks-at-the-media-briefing-on-covid-19---11-march-2020</ext-link></comment><date-in-citation content-type=\"access-date\" iso-8601-date=\"2020-03-17\">(accessed on 17 March 2020)</date-in-citation></element-citation></ref><ref id=\"B2-jof-07-00708\"><label>2.</label><element-citation publication-type=\"journal\"><person-group person-group-type=\"author\">\n",
    "<name><surname>Williamson</surname><given-names>E.J.</given-names></name>\n",
    "<name><surname>Walker</surname><given-names>A.J.</given-names></name>\n",
    "<name><surname>Bhaskaran</surname><given-names>K.</given-names></name>\n",
    "<name><surname>Bacon</surname><given-names>S.</given-names></name>\n",
    "<name><surname>Bates</surname><given-names>C.</given-names></name>\n",
    "<name><surname>Morton</surname><given-names>C.E.</given-names></name>\n",
    "<name><surname>Curtis</surname><given-names>H.J.</given-names></name>\n",
    "<name><surname>Mehrkar</surname><given-names>A.</given-names></name>\n",
    "<name><surname>Evans</surname><given-names>D.</given-names></name>\n",
    "<name><surname>Inglesby</surname><given-names>P.</given-names></name>\n",
    "<etal/>\n",
    "</person-group><article-title>Factors associated with COVID-19-related death using OpenSAFELY</article-title><source>Nature</source><year>2020</year><volume>584</volume><fpage>430</fpage><lpage>436</lpage><pub-id pub-id-type=\"doi\">10.1038/s41586-020-2521-4</pub-id><pub-id pub-id-type=\"pmid\">32640463</pub-id></element-citation></ref><ref id=\"B3-jof-07-00708\"><label>3.</label><element-citation publication-type=\"journal\"><person-group person-group-type=\"author\">\n",
    "<name><surname>Zhang</surname><given-names>Y.</given-names></name>\n",
    "<name><surname>Geng</surname><given-names>X.</given-names></name>\n",
    "<name><surname>Tan</surname><given-names>Y.</given-names></name>\n",
    "<name><surname>Li</surname><given-names>Q.</given-names></name>\n",
    "<name><surname>Xu</surname><given-names>C.</given-names></name>\n",
    "<name><surname>Xu</surname><given-names>J.</given-names></name>\n",
    "<name><surname>Hao</surname><given-names>L.</given-names></name>\n",
    "<name><surname>Zeng</surname><given-names>Z.</given-names></name>\n",
    "<name><surname>Luo</surname><given-names>X.</given-names></name>\n",
    "<name><surname>Liu</surname><given-names>F.</given-names></name>\n",
    "<etal/>\n",
    "</person-group><article-title>New understanding of the damage of SARS-CoV-2 infection outside the respiratory system</article-title><source>Biomed. Pharm.</source><year>2020</year><volume>127</volume><fpage>110195</fpage><pub-id pub-id-type=\"doi\">10.1016/j.biopha.2020.110195</pub-id><pub-id pub-id-type=\"pmid\">32361161</pub-id></element-citation></ref><ref id=\"B4-jof-07-00708\"><label>4.</label><element-citation publication-type=\"journal\"><person-group person-group-type=\"author\">\n",
    "<name><surname>Qin</surname><given-names>C.</given-names></name>\n",
    "<name><surname>Zhou</surname><given-names>L.</given-names></name>\n",
    "<name><surname>Hu</surname><given-names>Z.</given-names></name>\n",
    "<name><surname>Zhang</surname><given-names>S.</given-names></name>\n",
    "<name><surname>Yang</surname><given-names>S.</given-names></name>\n",
    "<name><surname>Tao</surname><given-names>Y.</given-names></name>\n",
    "<name><surname>Xie</surname><given-names>C.</given-names></name>\n",
    "<name><surname>Ma</surname><given-names>K.</given-names></name>\n",
    "<name><surname>Shang</surname><given-names>K.</given-names></name>\n",
    "<name><surname>Wang</surname><given-names>W.</given-names></name>\n",
    "<etal/>\n",
    "</person-group><article-title>Dysregulation of immune response in patients with coronavirus 2019 (COVID-19) in Wuhan, China</article-title><source>Clin. Infect. Dis.</source><year>2020</year><volume>71</volume><fpage>762</fpage><lpage>768</lpage><pub-id pub-id-type=\"doi\">10.1093/cid/ciaa248</pub-id><pub-id pub-id-type=\"pmid\">32161940</pub-id></element-citation></ref><ref id=\"B5-jof-07-00708\"><label>5.</label><element-citation publication-type=\"journal\"><person-group person-group-type=\"author\">\n",
    "<name><surname>Sterne</surname><given-names>J.</given-names></name>\n",
    "<name><surname>Murthy</surname><given-names>S.</given-names></name>\n",
    "<name><surname>Diaz</surname><given-names>J.V.</given-names></name>\n",
    "<name><surname>Slutsky</surname><given-names>A.S.</given-names></name>\n",
    "<name><surname>Villar</surname><given-names>J.</given-names></name>\n",
    "<name><surname>Angus</surname><given-names>D.C.</given-names></name>\n",
    "<name><surname>Annane</surname><given-names>D.</given-names></name>\n",
    "<name><surname>Azevedo</surname><given-names>L.C.P.</given-names></name>\n",
    "<name><surname>Berwanger</surname><given-names>O.</given-names></name>\n",
    "<name><surname>Cavalcanti</surname><given-names>A.B.</given-names></name>\n",
    "<etal/>\n",
    "</person-group><article-title>Association between Administration of Systemic Corticosteroids and Mortality among Critically Ill Patients with COVID-19, A Meta-analysis</article-title><source>JAMA&#x02014;J. Am. Med. Assoc.</source><year>2020</year><volume>324</volume><fpage>1330</fpage><lpage>1341</lpage><pub-id pub-id-type=\"doi\">10.1001/jama.2020.17023</pub-id></element-citation></ref><ref id=\"B6-jof-07-00708\"><label>6.</label><element-citation publication-type=\"journal\"><person-group person-group-type=\"author\">\n",
    "<name><surname>Siemieniuk</surname><given-names>R.A.</given-names></name>\n",
    "<name><surname>Bartoszko</surname><given-names>J.J.</given-names></name>\n",
    "<name><surname>Ge</surname><given-names>L.</given-names></name>\n",
    "<name><surname>Zeraatkar</surname><given-names>D.</given-names></name>\n",
    "<name><surname>Izcovich</surname><given-names>A.</given-names></name>\n",
    "<name><surname>Kum</surname><given-names>E.</given-names></name>\n",
    "<name><surname>Pardo-Hernandez</surname><given-names>H.</given-names></name>\n",
    "<name><surname>Qasim</surname><given-names>A.</given-names></name>\n",
    "<name><surname>Martinez</surname><given-names>J.P.D.</given-names></name>\n",
    "<name><surname>Rochwerg</surname><given-names>B.</given-names></name>\n",
    "<etal/>\n",
    "</person-group><article-title>Drug treatments for COVID-19, living systematic review and network meta-analysis</article-title><source>BMJ</source><year>2020</year><volume>370</volume><fpage>m2980</fpage><pub-id pub-id-type=\"doi\">10.1136/bmj.m2980</pub-id><pub-id pub-id-type=\"pmid\">32732190</pub-id></element-citation></ref><ref id=\"B7-jof-07-00708\"><label>7.</label><element-citation publication-type=\"journal\"><person-group person-group-type=\"author\">\n",
    "<name><surname>Fardet</surname><given-names>L.</given-names></name>\n",
    "<name><surname>Petersen</surname><given-names>I.</given-names></name>\n",
    "<name><surname>Nazareth</surname><given-names>I.</given-names></name>\n",
    "</person-group><article-title>Common Infections in Patients Prescribed Systemic Glucocorticoids in Primary Care: A Population-Based Cohort Study</article-title><source>PLoS Med.</source><year>2016</year><volume>13</volume><elocation-id>e1002024</elocation-id><pub-id pub-id-type=\"doi\">10.1371/journal.pmed.1002024</pub-id><pub-id pub-id-type=\"pmid\">27218256</pub-id></element-citation></ref><ref id=\"B8-jof-07-00708\"><label>8.</label><element-citation publication-type=\"journal\"><person-group person-group-type=\"author\">\n",
    "<collab>RECOVERY Collaborative Group</collab>\n",
    "<name><surname>Horby</surname><given-names>P.</given-names></name>\n",
    "<name><surname>Lim</surname><given-names>W.S.</given-names></name>\n",
    "<name><surname>Emberson</surname><given-names>J.R.</given-names></name>\n",
    "<name><surname>Mafham</surname><given-names>M.</given-names></name>\n",
    "<name><surname>Bell</surname><given-names>J.L.</given-names></name>\n",
    "<name><surname>Linsell</surname><given-names>L.</given-names></name>\n",
    "<name><surname>Staplin</surname><given-names>N.</given-names></name>\n",
    "<name><surname>Brightling</surname><given-names>C.</given-names></name>\n",
    "<name><surname>Ustianowski</surname><given-names>A.</given-names></name>\n",
    "<etal/>\n",
    "</person-group><article-title>Dexamethasone in Hospitalized Patients with COVID-19</article-title><source>N. Engl. J. Med.</source><year>2021</year><volume>384</volume><fpage>693</fpage><lpage>704</lpage><pub-id pub-id-type=\"doi\">10.1056/nejmoa2021436</pub-id><pub-id pub-id-type=\"pmid\">32678530</pub-id></element-citation></ref><ref id=\"B9-jof-07-00708\"><label>9.</label><element-citation publication-type=\"journal\"><person-group person-group-type=\"author\">\n",
    "<name><surname>Dequin</surname><given-names>P.-F.</given-names></name>\n",
    "<name><surname>Heming</surname><given-names>N.</given-names></name>\n",
    "<name><surname>Meziani</surname><given-names>F.</given-names></name>\n",
    "<name><surname>Plantef&#x000e8;ve</surname><given-names>G.</given-names></name>\n",
    "<name><surname>Voiriot</surname><given-names>G.</given-names></name>\n",
    "<name><surname>Badi&#x000e9;</surname><given-names>J.</given-names></name>\n",
    "<name><surname>Fran&#x000e7;ois</surname><given-names>B.</given-names></name>\n",
    "<name><surname>Aubron</surname><given-names>C.</given-names></name>\n",
    "<name><surname>Ricard</surname><given-names>J.-D.</given-names></name>\n",
    "<name><surname>Ehrmann</surname><given-names>S.</given-names></name>\n",
    "<etal/>\n",
    "</person-group><article-title>Effect of Hydrocortisone on 21-Day Mortality or Respiratory Support among Critically Ill Patients with COVID-19, A Randomized Clinical Trial</article-title><source>JAMA&#x02014;J. Am. Med. Assoc.</source><year>2020</year><volume>324</volume><fpage>1298</fpage><lpage>1306</lpage><pub-id pub-id-type=\"doi\">10.1001/jama.2020.16761</pub-id><pub-id pub-id-type=\"pmid\">32876689</pub-id></element-citation></ref><ref id=\"B10-jof-07-00708\"><label>10.</label><element-citation publication-type=\"journal\"><person-group person-group-type=\"author\">\n",
    "<name><surname>Angus</surname><given-names>D.C.</given-names></name>\n",
    "<name><surname>Derde</surname><given-names>L.</given-names></name>\n",
    "<name><surname>Al-Beidh</surname><given-names>F.</given-names></name>\n",
    "<name><surname>Annane</surname><given-names>D.</given-names></name>\n",
    "<name><surname>Arabi</surname><given-names>Y.</given-names></name>\n",
    "<name><surname>Beane</surname><given-names>A.</given-names></name>\n",
    "<name><surname>Van Bentum-Puijk</surname><given-names>W.</given-names></name>\n",
    "<name><surname>Berry</surname><given-names>L.</given-names></name>\n",
    "<name><surname>Bhimani</surname><given-names>Z.</given-names></name>\n",
    "<name><surname>Bonten</surname><given-names>M.</given-names></name>\n",
    "<etal/>\n",
    "</person-group><article-title>Effect of Hydrocortisone on Mortality and Organ Support in Patients with Severe COVID-19, the REMAP-CAP COVID-19 Corticosteroid Domain Randomized Clinical Trial</article-title><source>JAMA&#x02014;J. Am. Med. Assoc.</source><year>2020</year><volume>324</volume><fpage>1317</fpage><lpage>1329</lpage><pub-id pub-id-type=\"doi\">10.1001/jama.2020.17022</pub-id></element-citation></ref><ref id=\"B11-jof-07-00708\"><label>11.</label><element-citation publication-type=\"journal\"><person-group person-group-type=\"author\">\n",
    "<name><surname>Jeronimo</surname><given-names>C.M.P.</given-names></name>\n",
    "<name><surname>Farias</surname><given-names>M.E.L.</given-names></name>\n",
    "<name><surname>Val</surname><given-names>F.F.A.</given-names></name>\n",
    "<name><surname>Sampaio</surname><given-names>V.S.</given-names></name>\n",
    "<name><surname>Alexandre</surname><given-names>M.A.A.</given-names></name>\n",
    "<name><surname>Melo</surname><given-names>G.C.</given-names></name>\n",
    "<name><surname>Safe</surname><given-names>I.P.</given-names></name>\n",
    "<name><surname>Borba</surname><given-names>M.G.S.</given-names></name>\n",
    "<name><surname>Netto</surname><given-names>R.L.A.</given-names></name>\n",
    "<name><surname>Maciel</surname><given-names>A.B.S.</given-names></name>\n",
    "<etal/>\n",
    "</person-group><article-title>Methylprednisolone as Adjunctive Therapy for Patients Hospitalized with Coronavirus Disease 2019 (COVID-19; Metcovid): A Randomized, Double-blind, Phase IIb, Placebo-controlled Trial</article-title><source>Clin. Infect. Dis.</source><year>2021</year><volume>72</volume><fpage>e373</fpage><lpage>e381</lpage><pub-id pub-id-type=\"doi\">10.1093/cid/ciaa1177</pub-id><pub-id pub-id-type=\"pmid\">32785710</pub-id></element-citation></ref><ref id=\"B12-jof-07-00708\"><label>12.</label><element-citation publication-type=\"journal\"><person-group person-group-type=\"author\">\n",
    "<name><surname>Salmanton-Garcia</surname><given-names>J.</given-names></name>\n",
    "<name><surname>Sprute</surname><given-names>R.</given-names></name>\n",
    "<name><surname>Stemler</surname><given-names>J.</given-names></name>\n",
    "<name><surname>Bartoletti</surname><given-names>M.</given-names></name>\n",
    "<name><surname>Dupont</surname><given-names>D.</given-names></name>\n",
    "<name><surname>Valerio</surname><given-names>M.</given-names></name>\n",
    "<name><surname>Garcia-Vidal</surname><given-names>C.</given-names></name>\n",
    "<name><surname>Falces-Romero</surname><given-names>I.</given-names></name>\n",
    "<name><surname>Machado</surname><given-names>M.</given-names></name>\n",
    "<name><surname>de la Villa</surname><given-names>S.</given-names></name>\n",
    "<etal/>\n",
    "</person-group><article-title>COVID-19&#x02013;associated pulmonary aspergillosis, March&#x02013;August 2020</article-title><source>Emerg. Infect. Dis.</source><year>2021</year><volume>27</volume><fpage>1077</fpage><pub-id pub-id-type=\"doi\">10.3201/eid2704.204895</pub-id><pub-id pub-id-type=\"pmid\">33539721</pub-id></element-citation></ref><ref id=\"B13-jof-07-00708\"><label>13.</label><element-citation publication-type=\"journal\"><person-group person-group-type=\"author\">\n",
    "<name><surname>John</surname><given-names>T.</given-names></name>\n",
    "<name><surname>Jacob</surname><given-names>C.</given-names></name>\n",
    "<name><surname>Kontoyiannis</surname><given-names>D.</given-names></name>\n",
    "</person-group><article-title>When uncontrolled diabetes mellitus and severe COVID-19 converge: The perfect storm for mucormycosis</article-title><source>J. Fungi</source><year>2021</year><volume>7</volume><elocation-id>298</elocation-id><pub-id pub-id-type=\"doi\">10.3390/jof7040298</pub-id><pub-id pub-id-type=\"pmid\">33920755</pub-id></element-citation></ref><ref id=\"B14-jof-07-00708\"><label>14.</label><element-citation publication-type=\"journal\"><person-group person-group-type=\"author\">\n",
    "<name><surname>Garg</surname><given-names>D.</given-names></name>\n",
    "<name><surname>Muthu</surname><given-names>V.</given-names></name>\n",
    "<name><surname>Sehgal</surname><given-names>I.S.</given-names></name>\n",
    "<name><surname>Ramachandran</surname><given-names>R.</given-names></name>\n",
    "<name><surname>Kaur</surname><given-names>H.</given-names></name>\n",
    "<name><surname>Bhalla</surname><given-names>A.</given-names></name>\n",
    "<name><surname>Puri</surname><given-names>G.D.</given-names></name>\n",
    "<name><surname>Chakrabarti</surname><given-names>A.</given-names></name>\n",
    "<name><surname>Agarwal</surname><given-names>R.</given-names></name>\n",
    "</person-group><article-title>Coronavirus Disease (COVID-19) Associated Mucormycosis (CAM): Case Report and Systematic Review of Literature</article-title><source>Mycopathologia</source><year>2021</year><volume>186</volume><fpage>289</fpage><lpage>298</lpage><pub-id pub-id-type=\"doi\">10.1007/s11046-021-00528-2</pub-id><pub-id pub-id-type=\"pmid\">33544266</pub-id></element-citation></ref><ref id=\"B15-jof-07-00708\"><label>15.</label><element-citation publication-type=\"journal\"><person-group person-group-type=\"author\">\n",
    "<name><surname>Skiada</surname><given-names>A.</given-names></name>\n",
    "<name><surname>Pavleas</surname><given-names>I.</given-names></name>\n",
    "<name><surname>Drogari-Apiranthitou</surname><given-names>M.</given-names></name>\n",
    "</person-group><article-title>Epidemiology and diagnosis of mucormycosis: An update</article-title><source>J. Fungi</source><year>2020</year><volume>6</volume><elocation-id>265</elocation-id><pub-id pub-id-type=\"doi\">10.3390/jof6040265</pub-id><pub-id pub-id-type=\"pmid\">33147877</pub-id></element-citation></ref><ref id=\"B16-jof-07-00708\"><label>16.</label><element-citation publication-type=\"journal\"><person-group person-group-type=\"author\">\n",
    "<name><surname>Koehler</surname><given-names>P.</given-names></name>\n",
    "<name><surname>Bassetti</surname><given-names>M.</given-names></name>\n",
    "<name><surname>Chakrabarti</surname><given-names>A.</given-names></name>\n",
    "<name><surname>Chen</surname><given-names>S.C.A.</given-names></name>\n",
    "<name><surname>Colombo</surname><given-names>A.L.</given-names></name>\n",
    "<name><surname>Hoenigl</surname><given-names>M.</given-names></name>\n",
    "<name><surname>Klimko</surname><given-names>N.</given-names></name>\n",
    "<name><surname>Lass-Fl&#x000f6;rl</surname><given-names>C.</given-names></name>\n",
    "<name><surname>Oladele</surname><given-names>R.O.</given-names></name>\n",
    "<name><surname>Vinh</surname><given-names>D.C.</given-names></name>\n",
    "<etal/>\n",
    "</person-group><article-title>Defining and managing COVID-19-associated pulmonary aspergillosis: The 2020 ECMM/ISHAM consensus criteria for research and clinical guidance</article-title><source>Lancet Infect. Dis.</source><year>2021</year><volume>21</volume><fpage>e149</fpage><lpage>e162</lpage><pub-id pub-id-type=\"doi\">10.1016/S1473-3099(20)30847-1</pub-id><pub-id pub-id-type=\"pmid\">33333012</pub-id></element-citation></ref><ref id=\"B17-jof-07-00708\"><label>17.</label><element-citation publication-type=\"journal\"><person-group person-group-type=\"author\">\n",
    "<name><surname>Guinea</surname><given-names>J.</given-names></name>\n",
    "</person-group><article-title>Updated EUCAST Clinical Breakpoints against Aspergillus, Implications for the Clinical Microbiology Laboratory</article-title><source>J. Fungi</source><year>2020</year><volume>6</volume><elocation-id>343</elocation-id><pub-id pub-id-type=\"doi\">10.3390/jof6040343</pub-id><pub-id pub-id-type=\"pmid\">33291313</pub-id></element-citation></ref><ref id=\"B18-jof-07-00708\"><label>18.</label><element-citation publication-type=\"journal\"><person-group person-group-type=\"author\">\n",
    "<name><surname>Van Arkel</surname><given-names>A.L.E.</given-names></name>\n",
    "<name><surname>Rijpstra</surname><given-names>T.A.</given-names></name>\n",
    "<name><surname>Belderbos</surname><given-names>H.N.A.</given-names></name>\n",
    "<name><surname>van Wijngaarden</surname><given-names>P.</given-names></name>\n",
    "<name><surname>Verweij</surname><given-names>P.E.</given-names></name>\n",
    "<name><surname>Bentvelsen</surname><given-names>R.G.</given-names></name>\n",
    "</person-group><article-title>COVID-19-associated pulmonary aspergillosis</article-title><source>Am. J. Respir. Crit. Care Med.</source><year>2020</year><volume>202</volume><fpage>132</fpage><lpage>135</lpage><pub-id pub-id-type=\"doi\">10.1164/rccm.202004-1038LE</pub-id><pub-id pub-id-type=\"pmid\">32396381</pub-id></element-citation></ref><ref id=\"B19-jof-07-00708\"><label>19.</label><element-citation publication-type=\"journal\"><person-group person-group-type=\"author\">\n",
    "<name><surname>Nasir</surname><given-names>N.</given-names></name>\n",
    "<name><surname>Farooqi</surname><given-names>J.</given-names></name>\n",
    "<name><surname>Mahmood</surname><given-names>S.F.</given-names></name>\n",
    "<name><surname>Jabeen</surname><given-names>K.</given-names></name>\n",
    "</person-group><article-title>COVID-19-associated pulmonary aspergillosis (CAPA) in patients admitted with severe COVID-19 pneumonia: An observational study from Pakistan</article-title><source>Mycoses</source><year>2020</year><volume>63</volume><fpage>766</fpage><lpage>770</lpage><pub-id pub-id-type=\"doi\">10.1111/myc.13135</pub-id><pub-id pub-id-type=\"pmid\">32585069</pub-id></element-citation></ref><ref id=\"B20-jof-07-00708\"><label>20.</label><element-citation publication-type=\"journal\"><person-group person-group-type=\"author\">\n",
    "<name><surname>Hong</surname><given-names>B.S.</given-names></name>\n",
    "<name><surname>Kim</surname><given-names>M.-R.</given-names></name>\n",
    "</person-group><article-title>Interplays between human microbiota and microRNAs in COVID-19 pathogenesis: A literature review</article-title><source>Phys. Act. Nutr.</source><year>2021</year><volume>25</volume><fpage>1</fpage><lpage>7</lpage><pub-id pub-id-type=\"doi\">10.20463/pan.2021.0008</pub-id><pub-id pub-id-type=\"pmid\">34315200</pub-id></element-citation></ref></ref-list></back><floats-group><fig position=\"float\" id=\"jof-07-00708-f001\"><label>Figure 1</label><caption><p>Timeline of the case, highlighting the therapies administered, the respiratory support provided and the evolution of the pulmonary lesion (<bold>A</bold> chest CT scan at day 38 since diagnosis, <bold>B</bold> chest CT scan at day 51 since diagnosis, <bold>C</bold> chest CT scan at day 58 since diagnosis).</p></caption><graphic xmlns:xlink=\"http://www.w3.org/1999/xlink\" xlink:href=\"jof-07-00708-g001\" position=\"float\"/></fig></floats-group></article>\"\"\"\n",
    "with open(\"open.xml\", \"w\") as xml_file:\n",
    "    xml_file.write(xmlString)"
   ]
  },
  {
   "cell_type": "code",
   "execution_count": 9,
   "metadata": {},
   "outputs": [
    {
     "data": {
      "text/plain": [
       "'\\n  <books>\\n    <book id=\"bk103\">\\n      <author>Corets, Eva</author>\\n      <title>Maeve Ascendant</title>\\n    </book>\\n    <book id=\"bk104\">\\n      <author>Corets, Eva</author>\\n      <title>Oberon\\'s Legacy</title>\\n    </book>\\n  </books>'"
      ]
     },
     "execution_count": 9,
     "metadata": {},
     "output_type": "execute_result"
    }
   ],
   "source": [
    "xml_file = open(\"open.xml\", \"r\")"
   ]
  },
  {
   "cell_type": "code",
   "execution_count": 19,
   "metadata": {},
   "outputs": [
    {
     "name": "stdout",
     "output_type": "stream",
     "text": [
      "[<unstructured.documents.elements.Title object at 0x1064b9350>, <unstructured.documents.elements.Title object at 0x1477d7fd0>, <unstructured.documents.elements.Title object at 0x1477d8150>, <unstructured.documents.elements.Title object at 0x1477d8990>, <unstructured.documents.elements.Title object at 0x1477d8ad0>, <unstructured.documents.elements.Text object at 0x1477d8f10>, <unstructured.documents.elements.Title object at 0x1477d9190>, <unstructured.documents.elements.Text object at 0x1477d9210>, <unstructured.documents.elements.Text object at 0x1477d9350>, <unstructured.documents.elements.Text object at 0x1477d9710>, <unstructured.documents.elements.Text object at 0x1477d9b10>, <unstructured.documents.elements.Title object at 0x1477d9e10>, <unstructured.documents.elements.Title object at 0x1477da490>, <unstructured.documents.elements.Title object at 0x1477da850>, <unstructured.documents.elements.Title object at 0x1477dab50>, <unstructured.documents.elements.Text object at 0x1477daad0>, <unstructured.documents.elements.Text object at 0x1477dabd0>, <unstructured.documents.elements.Text object at 0x1477dac50>, <unstructured.documents.elements.Text object at 0x1477db0d0>, <unstructured.documents.elements.Text object at 0x1477db3d0>, <unstructured.documents.elements.Title object at 0x1477db6d0>, <unstructured.documents.elements.Title object at 0x1477db9d0>, <unstructured.documents.elements.Text object at 0x1477db950>, <unstructured.documents.elements.Text object at 0x1477dba50>, <unstructured.documents.elements.Text object at 0x1477dbad0>, <unstructured.documents.elements.Text object at 0x1477dbe90>, <unstructured.documents.elements.Title object at 0x1477dc0d0>, <unstructured.documents.elements.Title object at 0x1477dc390>, <unstructured.documents.elements.Text object at 0x1477dc210>, <unstructured.documents.elements.Text object at 0x1477dc410>, <unstructured.documents.elements.Text object at 0x1477dc490>, <unstructured.documents.elements.Title object at 0x1477dc990>, <unstructured.documents.elements.Title object at 0x1477dccd0>, <unstructured.documents.elements.Text object at 0x1477dcc10>, <unstructured.documents.elements.Text object at 0x1477dcd50>, <unstructured.documents.elements.Text object at 0x1477dcdd0>, <unstructured.documents.elements.Title object at 0x1477dd2d0>, <unstructured.documents.elements.Title object at 0x1477dd610>, <unstructured.documents.elements.Text object at 0x1477dd590>, <unstructured.documents.elements.Text object at 0x1477dda90>, <unstructured.documents.elements.Title object at 0x1477ddd10>, <unstructured.documents.elements.Title object at 0x1477ddfd0>, <unstructured.documents.elements.Text object at 0x1477dde50>, <unstructured.documents.elements.Title object at 0x1477de3d0>, <unstructured.documents.elements.Title object at 0x1477de510>, <unstructured.documents.elements.Text object at 0x1477de4d0>, <unstructured.documents.elements.Text object at 0x1477de610>, <unstructured.documents.elements.Text object at 0x1477dea50>, <unstructured.documents.elements.Title object at 0x1477ded10>, <unstructured.documents.elements.Title object at 0x1477df050>, <unstructured.documents.elements.Text object at 0x1477df010>, <unstructured.documents.elements.Text object at 0x1477df0d0>, <unstructured.documents.elements.Title object at 0x1477df510>, <unstructured.documents.elements.Title object at 0x1477df810>, <unstructured.documents.elements.Text object at 0x1477df6d0>, <unstructured.documents.elements.Title object at 0x1477dfc10>, <unstructured.documents.elements.Title object at 0x1477dfed0>, <unstructured.documents.elements.Text object at 0x1477dfd50>, <unstructured.documents.elements.Text object at 0x1477dff50>, <unstructured.documents.elements.Text object at 0x1477dffd0>, <unstructured.documents.elements.Title object at 0x1477e4510>, <unstructured.documents.elements.Title object at 0x1477e4810>, <unstructured.documents.elements.Text object at 0x1477e47d0>, <unstructured.documents.elements.Text object at 0x1477e4890>, <unstructured.documents.elements.Text object at 0x1477e4910>, <unstructured.documents.elements.Title object at 0x1477e4dd0>, <unstructured.documents.elements.Title object at 0x1477e5090>, <unstructured.documents.elements.Text object at 0x1477e4f10>, <unstructured.documents.elements.Text object at 0x1477e5490>, <unstructured.documents.elements.Title object at 0x1477e5750>, <unstructured.documents.elements.Title object at 0x1477e5890>, <unstructured.documents.elements.Text object at 0x1477e5850>, <unstructured.documents.elements.Text object at 0x1477e5910>, <unstructured.documents.elements.ListItem object at 0x1477e5990>, <unstructured.documents.elements.Title object at 0x1477e5e10>, <unstructured.documents.elements.Title object at 0x1477e61d0>, <unstructured.documents.elements.Title object at 0x1477e64d0>, <unstructured.documents.elements.Text object at 0x1477e6590>, <unstructured.documents.elements.EmailAddress object at 0x1477e6510>, <unstructured.documents.elements.EmailAddress object at 0x1477e6610>, <unstructured.documents.elements.EmailAddress object at 0x1477e6710>, <unstructured.documents.elements.EmailAddress object at 0x1477e67d0>, <unstructured.documents.elements.EmailAddress object at 0x1477e6890>, <unstructured.documents.elements.EmailAddress object at 0x1477e6990>, <unstructured.documents.elements.EmailAddress object at 0x1477e6a90>, <unstructured.documents.elements.EmailAddress object at 0x1477e6b90>, <unstructured.documents.elements.EmailAddress object at 0x1477e6c90>, <unstructured.documents.elements.Text object at 0x1477e6d90>, <unstructured.documents.elements.EmailAddress object at 0x1477e6e90>, <unstructured.documents.elements.EmailAddress object at 0x1477e6f90>, <unstructured.documents.elements.Text object at 0x1477e7090>, <unstructured.documents.elements.Text object at 0x1477e7190>, <unstructured.documents.elements.Text object at 0x1477e7290>, <unstructured.documents.elements.EmailAddress object at 0x1477e7390>, <unstructured.documents.elements.ListItem object at 0x1477e7490>, <unstructured.documents.elements.EmailAddress object at 0x1477e7590>, <unstructured.documents.elements.Text object at 0x1477e7950>, <unstructured.documents.elements.NarrativeText object at 0x1477e8190>, <unstructured.documents.elements.Text object at 0x1477e8890>, <unstructured.documents.elements.Text object at 0x1477e8810>, <unstructured.documents.elements.Text object at 0x1477e8710>, <unstructured.documents.elements.Text object at 0x1477e8210>, <unstructured.documents.elements.Text object at 0x1477e8390>, <unstructured.documents.elements.Text object at 0x1477e8450>, <unstructured.documents.elements.Text object at 0x1477e84d0>, <unstructured.documents.elements.Text object at 0x1477e8990>, <unstructured.documents.elements.Text object at 0x1477e8b50>, <unstructured.documents.elements.Text object at 0x1477e8bd0>, <unstructured.documents.elements.Text object at 0x1477e8d10>, <unstructured.documents.elements.Text object at 0x1477e8ed0>, <unstructured.documents.elements.Text object at 0x1477e8f50>, <unstructured.documents.elements.Text object at 0x1477e9090>, <unstructured.documents.elements.Title object at 0x1477e9a50>, <unstructured.documents.elements.Text object at 0x1477e9e90>, <unstructured.documents.elements.Title object at 0x1477ea310>, <unstructured.documents.elements.Title object at 0x1477ea150>, <unstructured.documents.elements.NarrativeText object at 0x1477eaad0>, <unstructured.documents.elements.Title object at 0x1477eafd0>, <unstructured.documents.elements.Title object at 0x1477ebb90>, <unstructured.documents.elements.Title object at 0x1477eb990>, <unstructured.documents.elements.Title object at 0x1477ebb10>, <unstructured.documents.elements.Title object at 0x1477ebe90>, <unstructured.documents.elements.ListItem object at 0x1477ebf10>, <unstructured.documents.elements.Text object at 0x1477f0050>, <unstructured.documents.elements.Text object at 0x1477f0110>, <unstructured.documents.elements.Text object at 0x1477f0190>, <unstructured.documents.elements.Text object at 0x1477f0290>, <unstructured.documents.elements.Text object at 0x1477f0390>, <unstructured.documents.elements.Text object at 0x1477f0490>, <unstructured.documents.elements.Text object at 0x1477f0590>, <unstructured.documents.elements.Text object at 0x1477f0690>, <unstructured.documents.elements.Text object at 0x1477f0790>, <unstructured.documents.elements.Text object at 0x1477f0990>, <unstructured.documents.elements.Text object at 0x1477f0b50>, <unstructured.documents.elements.NarrativeText object at 0x1477f3010>, <unstructured.documents.elements.Text object at 0x1477f2d50>, <unstructured.documents.elements.Text object at 0x1477f2c50>, <unstructured.documents.elements.Text object at 0x1477f2450>, <unstructured.documents.elements.Text object at 0x1477f24d0>, <unstructured.documents.elements.Text object at 0x1477f26d0>, <unstructured.documents.elements.NarrativeText object at 0x1477f3cd0>, <unstructured.documents.elements.NarrativeText object at 0x1477f87d0>, <unstructured.documents.elements.ListItem object at 0x1477f8850>, <unstructured.documents.elements.NarrativeText object at 0x1477f9750>, <unstructured.documents.elements.Title object at 0x1477f9c10>, <unstructured.documents.elements.Text object at 0x1477f9bd0>, <unstructured.documents.elements.NarrativeText object at 0x1477fb410>, <unstructured.documents.elements.ListItem object at 0x1477fb490>, <unstructured.documents.elements.Title object at 0x1477fbdd0>, <unstructured.documents.elements.Title object at 0x1477fbb50>, <unstructured.documents.elements.Title object at 0x1477fc610>, <unstructured.documents.elements.NarrativeText object at 0x1477fe410>, <unstructured.documents.elements.Title object at 0x1477fed10>, <unstructured.documents.elements.NarrativeText object at 0x1477ff090>, <unstructured.documents.elements.Title object at 0x1477fedd0>, <unstructured.documents.elements.Title object at 0x1477ff410>, <unstructured.documents.elements.Title object at 0x1477ff510>, <unstructured.documents.elements.Title object at 0x1477ffdd0>, <unstructured.documents.elements.Title object at 0x1477ffe90>, <unstructured.documents.elements.Title object at 0x1477ffe10>, <unstructured.documents.elements.NarrativeText object at 0x147805750>, <unstructured.documents.elements.ListItem object at 0x147805790>, <unstructured.documents.elements.Text object at 0x147805950>, <unstructured.documents.elements.Text object at 0x147805a90>, <unstructured.documents.elements.Text object at 0x147805bd0>, <unstructured.documents.elements.Text object at 0x147805d10>, <unstructured.documents.elements.Text object at 0x147805e50>, <unstructured.documents.elements.NarrativeText object at 0x147807ed0>, <unstructured.documents.elements.Title object at 0x147807bd0>, <unstructured.documents.elements.Title object at 0x147807e50>, <unstructured.documents.elements.NarrativeText object at 0x147809190>, <unstructured.documents.elements.Title object at 0x147809490>, <unstructured.documents.elements.NarrativeText object at 0x147809d90>, <unstructured.documents.elements.Title object at 0x147809e50>, <unstructured.documents.elements.NarrativeText object at 0x14780aa10>, <unstructured.documents.elements.Title object at 0x14780aa90>, <unstructured.documents.elements.NarrativeText object at 0x14780b650>, <unstructured.documents.elements.Title object at 0x14780b6d0>, <unstructured.documents.elements.Text object at 0x14780ba10>, <unstructured.documents.elements.Title object at 0x1478104d0>, <unstructured.documents.elements.NarrativeText object at 0x147810ad0>, <unstructured.documents.elements.Title object at 0x147811410>, <unstructured.documents.elements.NarrativeText object at 0x1478115d0>, <unstructured.documents.elements.Text object at 0x140d8c810>, <unstructured.documents.elements.Title object at 0x145349d10>, <unstructured.documents.elements.Text object at 0x14110ad90>, <unstructured.documents.elements.Title object at 0x140da0cd0>, <unstructured.documents.elements.Text object at 0x13f3e0610>, <unstructured.documents.elements.Title object at 0x1477d7490>, <unstructured.documents.elements.Text object at 0x13f418e50>, <unstructured.documents.elements.Title object at 0x1477d9110>, <unstructured.documents.elements.Text object at 0x1477da750>, <unstructured.documents.elements.Title object at 0x1477d95d0>, <unstructured.documents.elements.Text object at 0x140da1850>, <unstructured.documents.elements.Title object at 0x1477d9a90>, <unstructured.documents.elements.Text object at 0x13f3e1d50>, <unstructured.documents.elements.Title object at 0x1477da3d0>, <unstructured.documents.elements.Text object at 0x141121f90>, <unstructured.documents.elements.Title object at 0x140882750>, <unstructured.documents.elements.Text object at 0x140882a90>, <unstructured.documents.elements.Title object at 0x1477da650>, <unstructured.documents.elements.Text object at 0x1477db310>, <unstructured.documents.elements.Title object at 0x141123610>, <unstructured.documents.elements.Text object at 0x14110b910>, <unstructured.documents.elements.NarrativeText object at 0x147814550>, <unstructured.documents.elements.Title object at 0x1406348d0>, <unstructured.documents.elements.Text object at 0x1477dc690>, <unstructured.documents.elements.Text object at 0x147814ad0>, <unstructured.documents.elements.Text object at 0x147814790>, <unstructured.documents.elements.Text object at 0x147814c50>, <unstructured.documents.elements.Text object at 0x122bd5550>, <unstructured.documents.elements.Text object at 0x1477dc850>, <unstructured.documents.elements.Text object at 0x1477dd810>, <unstructured.documents.elements.Title object at 0x1477ddc90>, <unstructured.documents.elements.Text object at 0x140d3d650>, <unstructured.documents.elements.Title object at 0x141116210>, <unstructured.documents.elements.Text object at 0x1477dbf90>, <unstructured.documents.elements.Title object at 0x1477dded0>, <unstructured.documents.elements.Text object at 0x147815e50>, <unstructured.documents.elements.Title object at 0x1477de990>, <unstructured.documents.elements.Text object at 0x1477dec90>, <unstructured.documents.elements.Title object at 0x1408d6f50>, <unstructured.documents.elements.Text object at 0x1477ded90>, <unstructured.documents.elements.Title object at 0x147816710>, <unstructured.documents.elements.Text object at 0x1408b7390>, <unstructured.documents.elements.Title object at 0x1477df710>, <unstructured.documents.elements.Text object at 0x140d95490>, <unstructured.documents.elements.Title object at 0x140d95150>, <unstructured.documents.elements.Text object at 0x1477e4210>, <unstructured.documents.elements.Title object at 0x1477e4b10>, <unstructured.documents.elements.Text object at 0x140d94110>, <unstructured.documents.elements.Title object at 0x1477e5010>, <unstructured.documents.elements.Text object at 0x1477e4cd0>, <unstructured.documents.elements.Title object at 0x140cf3f50>, <unstructured.documents.elements.Title object at 0x1477e5fd0>, <unstructured.documents.elements.Text object at 0x140d366d0>, <unstructured.documents.elements.Text object at 0x140d34fd0>, <unstructured.documents.elements.Text object at 0x140d347d0>, <unstructured.documents.elements.Text object at 0x1477e6490>, <unstructured.documents.elements.Text object at 0x1477e6290>, <unstructured.documents.elements.Text object at 0x1477dad50>, <unstructured.documents.elements.Title object at 0x1477e7e50>, <unstructured.documents.elements.Text object at 0x1477e7d10>, <unstructured.documents.elements.Title object at 0x1477e7bd0>, <unstructured.documents.elements.Text object at 0x1477e7a90>, <unstructured.documents.elements.Title object at 0x1477e9810>, <unstructured.documents.elements.Text object at 0x1477e9790>, <unstructured.documents.elements.Title object at 0x140d35090>, <unstructured.documents.elements.Text object at 0x140d35f90>, <unstructured.documents.elements.Title object at 0x1477e7ed0>, <unstructured.documents.elements.Text object at 0x1477e94d0>, <unstructured.documents.elements.Title object at 0x1477e9a90>, <unstructured.documents.elements.Text object at 0x140d373d0>, <unstructured.documents.elements.Title object at 0x1477d9610>, <unstructured.documents.elements.Text object at 0x140d34190>, <unstructured.documents.elements.Title object at 0x1408c8850>, <unstructured.documents.elements.Text object at 0x1477e9e50>, <unstructured.documents.elements.Title object at 0x140da1310>, <unstructured.documents.elements.Text object at 0x1477ea550>, <unstructured.documents.elements.Title object at 0x141112c90>, <unstructured.documents.elements.Text object at 0x140583090>, <unstructured.documents.elements.Text object at 0x140d3fad0>, <unstructured.documents.elements.Title object at 0x1477ebb50>, <unstructured.documents.elements.Text object at 0x1477f0d50>, <unstructured.documents.elements.Text object at 0x1477f0f10>, <unstructured.documents.elements.Text object at 0x1477f1050>, <unstructured.documents.elements.Text object at 0x1477f1190>, <unstructured.documents.elements.Text object at 0x147812750>, <unstructured.documents.elements.Text object at 0x1477f2990>, <unstructured.documents.elements.Text object at 0x14110bdd0>, <unstructured.documents.elements.Title object at 0x140883d50>, <unstructured.documents.elements.Text object at 0x1477f8bd0>, <unstructured.documents.elements.Title object at 0x1477f92d0>, <unstructured.documents.elements.Text object at 0x1477f9410>, <unstructured.documents.elements.Title object at 0x1477d98d0>, <unstructured.documents.elements.Text object at 0x1477d9f90>, <unstructured.documents.elements.Title object at 0x1477f9990>, <unstructured.documents.elements.Text object at 0x1477fa5d0>, <unstructured.documents.elements.Title object at 0x1477fad10>, <unstructured.documents.elements.Text object at 0x1477fb250>, <unstructured.documents.elements.Title object at 0x14110b450>, <unstructured.documents.elements.Text object at 0x1477ebd50>, <unstructured.documents.elements.Title object at 0x1477fc4d0>, <unstructured.documents.elements.Text object at 0x1477fc210>, <unstructured.documents.elements.Title object at 0x1477fcd90>, <unstructured.documents.elements.Text object at 0x1477fcc10>, <unstructured.documents.elements.Title object at 0x1477fced0>, <unstructured.documents.elements.Text object at 0x1477fd890>, <unstructured.documents.elements.Title object at 0x1477fe490>, <unstructured.documents.elements.Text object at 0x1477fe890>, <unstructured.documents.elements.Text object at 0x1477ff390>, <unstructured.documents.elements.Title object at 0x1408d4290>, <unstructured.documents.elements.Text object at 0x1478041d0>, <unstructured.documents.elements.Text object at 0x147804a10>, <unstructured.documents.elements.Text object at 0x147804b50>, <unstructured.documents.elements.Text object at 0x1478042d0>, <unstructured.documents.elements.Text object at 0x147804d10>, <unstructured.documents.elements.Text object at 0x140cda9d0>, <unstructured.documents.elements.Title object at 0x147807a50>, <unstructured.documents.elements.Text object at 0x140877f10>, <unstructured.documents.elements.Title object at 0x147807dd0>, <unstructured.documents.elements.Text object at 0x1408e0290>, <unstructured.documents.elements.Title object at 0x140d786d0>, <unstructured.documents.elements.Text object at 0x147808550>, <unstructured.documents.elements.Title object at 0x147808610>, <unstructured.documents.elements.Text object at 0x147808910>, <unstructured.documents.elements.Title object at 0x1408a8d90>, <unstructured.documents.elements.Text object at 0x147808ed0>, <unstructured.documents.elements.Title object at 0x147809150>, <unstructured.documents.elements.Text object at 0x147809a50>, <unstructured.documents.elements.Title object at 0x122bb2210>, <unstructured.documents.elements.Text object at 0x14780a6d0>, <unstructured.documents.elements.Title object at 0x14780a150>, <unstructured.documents.elements.Text object at 0x14780a050>, <unstructured.documents.elements.Title object at 0x14780b090>, <unstructured.documents.elements.Text object at 0x14780b310>, <unstructured.documents.elements.Title object at 0x14780ae10>, <unstructured.documents.elements.Text object at 0x14780bad0>, <unstructured.documents.elements.NarrativeText object at 0x1477f8190>, <unstructured.documents.elements.Title object at 0x14780bd50>, <unstructured.documents.elements.Text object at 0x147810250>, <unstructured.documents.elements.Text object at 0x147810390>, <unstructured.documents.elements.Text object at 0x14780be10>, <unstructured.documents.elements.Text object at 0x14780bf10>, <unstructured.documents.elements.Text object at 0x147810810>, <unstructured.documents.elements.Text object at 0x140894b10>, <unstructured.documents.elements.Title object at 0x147810e10>, <unstructured.documents.elements.Text object at 0x147811110>, <unstructured.documents.elements.Title object at 0x1478111d0>, <unstructured.documents.elements.Text object at 0x147810dd0>, <unstructured.documents.elements.Title object at 0x141110a10>, <unstructured.documents.elements.Text object at 0x1477f1490>, <unstructured.documents.elements.Text object at 0x1408bc590>, <unstructured.documents.elements.Title object at 0x1477f8590>, <unstructured.documents.elements.Text object at 0x140ced2d0>, <unstructured.documents.elements.Text object at 0x140ceced0>, <unstructured.documents.elements.Text object at 0x1477ea190>, <unstructured.documents.elements.Text object at 0x14780a7d0>, <unstructured.documents.elements.Text object at 0x147812310>, <unstructured.documents.elements.Text object at 0x140bdad50>, <unstructured.documents.elements.Title object at 0x147813350>, <unstructured.documents.elements.Title object at 0x147813410>, <unstructured.documents.elements.Text object at 0x1478122d0>, <unstructured.documents.elements.Title object at 0x147813510>, <unstructured.documents.elements.Text object at 0x14780b850>, <unstructured.documents.elements.Title object at 0x1477fb650>, <unstructured.documents.elements.Text object at 0x1477dbdd0>, <unstructured.documents.elements.Title object at 0x10d1ebed0>, <unstructured.documents.elements.Text object at 0x1477fbc90>, <unstructured.documents.elements.Title object at 0x14550ced0>, <unstructured.documents.elements.Text object at 0x1477fce10>, <unstructured.documents.elements.Title object at 0x140d0fd90>, <unstructured.documents.elements.Text object at 0x140d0f950>, <unstructured.documents.elements.Title object at 0x140d0d590>, <unstructured.documents.elements.Text object at 0x14110fc10>, <unstructured.documents.elements.Title object at 0x140d0f910>, <unstructured.documents.elements.Text object at 0x140d0df10>, <unstructured.documents.elements.Title object at 0x1477f1910>, <unstructured.documents.elements.Text object at 0x1477f3a10>, <unstructured.documents.elements.Title object at 0x106bbe350>, <unstructured.documents.elements.Title object at 0x140d953d0>, <unstructured.documents.elements.Text object at 0x140d79610>, <unstructured.documents.elements.Text object at 0x140d3c510>, <unstructured.documents.elements.Text object at 0x140d3ca90>, <unstructured.documents.elements.Text object at 0x140d3d490>, <unstructured.documents.elements.Text object at 0x13f6ac750>, <unstructured.documents.elements.Text object at 0x140d974d0>, <unstructured.documents.elements.Text object at 0x140b71910>, <unstructured.documents.elements.Title object at 0x140b71810>, <unstructured.documents.elements.Text object at 0x140d354d0>, <unstructured.documents.elements.Title object at 0x141124f90>, <unstructured.documents.elements.Text object at 0x140749010>, <unstructured.documents.elements.Title object at 0x140d36890>, <unstructured.documents.elements.Text object at 0x1477e4f90>, <unstructured.documents.elements.Title object at 0x1477e5b90>, <unstructured.documents.elements.Text object at 0x1477fc590>, <unstructured.documents.elements.Title object at 0x140d96410>, <unstructured.documents.elements.Text object at 0x1477df410>, <unstructured.documents.elements.Title object at 0x1477e6050>, <unstructured.documents.elements.Text object at 0x14110bcd0>, <unstructured.documents.elements.Title object at 0x1477d7ed0>, <unstructured.documents.elements.Text object at 0x1477e5e90>, <unstructured.documents.elements.Title object at 0x14550cf50>, <unstructured.documents.elements.Text object at 0x1477d8590>, <unstructured.documents.elements.Title object at 0x1477dea90>, <unstructured.documents.elements.Text object at 0x1477dd250>, <unstructured.documents.elements.Title object at 0x1477d8cd0>, <unstructured.documents.elements.Text object at 0x140d36510>, <unstructured.documents.elements.Text object at 0x1408cd510>, <unstructured.documents.elements.Title object at 0x1408ce8d0>, <unstructured.documents.elements.Text object at 0x1408cfc90>, <unstructured.documents.elements.Text object at 0x1408cf1d0>, <unstructured.documents.elements.Text object at 0x1408cdc90>, <unstructured.documents.elements.Text object at 0x140877910>, <unstructured.documents.elements.Text object at 0x141124390>, <unstructured.documents.elements.Text object at 0x14550c690>, <unstructured.documents.elements.Text object at 0x1408a9cd0>, <unstructured.documents.elements.Title object at 0x140d4f890>, <unstructured.documents.elements.Text object at 0x147816dd0>, <unstructured.documents.elements.Title object at 0x1477ea790>, <unstructured.documents.elements.Text object at 0x1477d9dd0>, <unstructured.documents.elements.Title object at 0x147812950>, <unstructured.documents.elements.Text object at 0x1477e9d10>, <unstructured.documents.elements.Title object at 0x1477eaa50>, <unstructured.documents.elements.Text object at 0x140d08810>, <unstructured.documents.elements.Title object at 0x1477eaf50>, <unstructured.documents.elements.Text object at 0x1477f1710>, <unstructured.documents.elements.Title object at 0x140d3f950>, <unstructured.documents.elements.Text object at 0x140d35cd0>, <unstructured.documents.elements.Title object at 0x140d3f890>, <unstructured.documents.elements.Text object at 0x14111c210>, <unstructured.documents.elements.Title object at 0x1477f1610>, <unstructured.documents.elements.Text object at 0x147817ad0>, <unstructured.documents.elements.Title object at 0x140d09610>, <unstructured.documents.elements.Text object at 0x1478137d0>, <unstructured.documents.elements.Title object at 0x1477f8210>, <unstructured.documents.elements.Text object at 0x1477dbed0>, <unstructured.documents.elements.Text object at 0x1477e9650>, <unstructured.documents.elements.Title object at 0x1477f8c50>, <unstructured.documents.elements.Text object at 0x147828490>, <unstructured.documents.elements.Text object at 0x147828590>, <unstructured.documents.elements.Text object at 0x1478286d0>, <unstructured.documents.elements.Text object at 0x147828810>, <unstructured.documents.elements.Text object at 0x1478121d0>, <unstructured.documents.elements.Text object at 0x140d7add0>, <unstructured.documents.elements.Title object at 0x1477faa50>, <unstructured.documents.elements.Text object at 0x1477fac10>, <unstructured.documents.elements.Title object at 0x1477fa890>, <unstructured.documents.elements.Text object at 0x147804810>, <unstructured.documents.elements.Title object at 0x1477e6190>, <unstructured.documents.elements.Text object at 0x1477fdc90>, <unstructured.documents.elements.Title object at 0x1477e5110>, <unstructured.documents.elements.Text object at 0x1477fdd50>, <unstructured.documents.elements.Title object at 0x1477fd4d0>, <unstructured.documents.elements.Text object at 0x1478045d0>, <unstructured.documents.elements.Title object at 0x1477fca50>, <unstructured.documents.elements.Text object at 0x147804d50>, <unstructured.documents.elements.Title object at 0x1477fe310>, <unstructured.documents.elements.Text object at 0x140cefa90>, <unstructured.documents.elements.Title object at 0x140d96510>, <unstructured.documents.elements.Text object at 0x1478053d0>, <unstructured.documents.elements.Title object at 0x140cf69d0>, <unstructured.documents.elements.Text object at 0x1477e9dd0>, <unstructured.documents.elements.Title object at 0x147810b90>, <unstructured.documents.elements.Text object at 0x147810bd0>, <unstructured.documents.elements.Text object at 0x147809450>, <unstructured.documents.elements.Title object at 0x1477fff90>, <unstructured.documents.elements.Text object at 0x140d36d90>, <unstructured.documents.elements.Text object at 0x14782ea50>, <unstructured.documents.elements.Text object at 0x147805590>, <unstructured.documents.elements.Text object at 0x147805610>, <unstructured.documents.elements.Text object at 0x141124e10>, <unstructured.documents.elements.Text object at 0x147804f10>, <unstructured.documents.elements.Text object at 0x1477d8250>, <unstructured.documents.elements.Title object at 0x14780b390>, <unstructured.documents.elements.Text object at 0x1477f8f50>, <unstructured.documents.elements.Title object at 0x1477f8dd0>, <unstructured.documents.elements.Text object at 0x1477f80d0>, <unstructured.documents.elements.Title object at 0x1477f8390>, <unstructured.documents.elements.Text object at 0x147810fd0>, <unstructured.documents.elements.Title object at 0x1477d8450>, <unstructured.documents.elements.Text object at 0x1477fb710>, <unstructured.documents.elements.Title object at 0x1477f2750>, <unstructured.documents.elements.Text object at 0x1477fc290>, <unstructured.documents.elements.Title object at 0x1477f8e10>, <unstructured.documents.elements.Text object at 0x14782fd90>, <unstructured.documents.elements.Title object at 0x1477f8650>, <unstructured.documents.elements.Text object at 0x1477f3590>, <unstructured.documents.elements.Title object at 0x147810550>, <unstructured.documents.elements.Text object at 0x1477fef10>, <unstructured.documents.elements.Title object at 0x1477f8510>, <unstructured.documents.elements.Text object at 0x1477f3890>, <unstructured.documents.elements.Title object at 0x1478408d0>, <unstructured.documents.elements.Text object at 0x1478404d0>, <unstructured.documents.elements.Title object at 0x147840d90>, <unstructured.documents.elements.Title object at 0x140897d10>, <unstructured.documents.elements.Text object at 0x147812990>, <unstructured.documents.elements.Text object at 0x147840b50>, <unstructured.documents.elements.Text object at 0x147840d50>, <unstructured.documents.elements.Text object at 0x140d978d0>, <unstructured.documents.elements.Text object at 0x140897350>, <unstructured.documents.elements.Text object at 0x140895810>, <unstructured.documents.elements.Title object at 0x141115b90>, <unstructured.documents.elements.Text object at 0x1408952d0>, <unstructured.documents.elements.Title object at 0x140894c10>, <unstructured.documents.elements.Text object at 0x147809610>, <unstructured.documents.elements.Title object at 0x14550c290>, <unstructured.documents.elements.Text object at 0x14780a410>, <unstructured.documents.elements.Text object at 0x147842b10>, <unstructured.documents.elements.Title object at 0x1477fab10>, <unstructured.documents.elements.Text object at 0x14780b810>, <unstructured.documents.elements.Text object at 0x147842990>, <unstructured.documents.elements.Text object at 0x147842590>, <unstructured.documents.elements.Text object at 0x140d0fa10>, <unstructured.documents.elements.Text object at 0x1477f3a50>, <unstructured.documents.elements.Text object at 0x141125250>, <unstructured.documents.elements.Title object at 0x147805550>, <unstructured.documents.elements.Text object at 0x1477fe050>, <unstructured.documents.elements.Title object at 0x140d94fd0>, <unstructured.documents.elements.Text object at 0x140dd1050>, <unstructured.documents.elements.Title object at 0x140d0dd10>, <unstructured.documents.elements.Text object at 0x1478113d0>, <unstructured.documents.elements.Title object at 0x140cf2350>, <unstructured.documents.elements.Text object at 0x147811ad0>, <unstructured.documents.elements.Title object at 0x140895850>, <unstructured.documents.elements.Text object at 0x140cf1010>, <unstructured.documents.elements.Title object at 0x140d0de10>, <unstructured.documents.elements.Text object at 0x147843c50>, <unstructured.documents.elements.Title object at 0x1477dfd10>, <unstructured.documents.elements.Text object at 0x147843fd0>, <unstructured.documents.elements.Title object at 0x147812410>, <unstructured.documents.elements.Text object at 0x1477dfe50>, <unstructured.documents.elements.Title object at 0x140d8d410>, <unstructured.documents.elements.Text object at 0x147848690>, <unstructured.documents.elements.Text object at 0x1477f9dd0>, <unstructured.documents.elements.Title object at 0x14780a190>, <unstructured.documents.elements.Text object at 0x147849090>, <unstructured.documents.elements.Text object at 0x1478491d0>, <unstructured.documents.elements.Text object at 0x147849310>, <unstructured.documents.elements.Text object at 0x147849450>, <unstructured.documents.elements.Text object at 0x147814e10>, <unstructured.documents.elements.Text object at 0x147813010>, <unstructured.documents.elements.Text object at 0x147815610>, <unstructured.documents.elements.Title object at 0x140cf54d0>, <unstructured.documents.elements.Text object at 0x1411125d0>, <unstructured.documents.elements.Title object at 0x1477d8f50>, <unstructured.documents.elements.Text object at 0x106bbe0d0>, <unstructured.documents.elements.Title object at 0x140cf3bd0>, <unstructured.documents.elements.Text object at 0x14058f550>, <unstructured.documents.elements.Title object at 0x14784a3d0>, <unstructured.documents.elements.Title object at 0x14784a4d0>, <unstructured.documents.elements.Text object at 0x14784a2d0>, <unstructured.documents.elements.Text object at 0x14784a390>, <unstructured.documents.elements.Text object at 0x147849f50>, <unstructured.documents.elements.Text object at 0x1477faad0>, <unstructured.documents.elements.Text object at 0x1477faf50>, <unstructured.documents.elements.Text object at 0x1478172d0>, <unstructured.documents.elements.Title object at 0x140cef290>, <unstructured.documents.elements.Text object at 0x140da1a90>, <unstructured.documents.elements.Title object at 0x1477da090>, <unstructured.documents.elements.Text object at 0x1477faa90>, <unstructured.documents.elements.Title object at 0x147829e90>, <unstructured.documents.elements.Text object at 0x147829fd0>, <unstructured.documents.elements.Title object at 0x1477dcfd0>, <unstructured.documents.elements.Text object at 0x140a856d0>, <unstructured.documents.elements.Title object at 0x1477eaa90>, <unstructured.documents.elements.Text object at 0x147806490>, <unstructured.documents.elements.Title object at 0x1477faa10>, <unstructured.documents.elements.Text object at 0x1478176d0>, <unstructured.documents.elements.Title object at 0x147806010>, <unstructured.documents.elements.Text object at 0x147817990>, <unstructured.documents.elements.Title object at 0x147813e50>, <unstructured.documents.elements.Text object at 0x1478161d0>, <unstructured.documents.elements.Title object at 0x147807790>, <unstructured.documents.elements.Text object at 0x147805410>, <unstructured.documents.elements.Title object at 0x140d37dd0>, <unstructured.documents.elements.Text object at 0x140d4c390>, <unstructured.documents.elements.NarrativeText object at 0x14782b690>, <unstructured.documents.elements.Title object at 0x14782b9d0>, <unstructured.documents.elements.Text object at 0x1477fca90>, <unstructured.documents.elements.Text object at 0x1477ffa90>, <unstructured.documents.elements.Text object at 0x140b9bb90>, <unstructured.documents.elements.Text object at 0x1477eb9d0>, <unstructured.documents.elements.Text object at 0x14782a750>, <unstructured.documents.elements.Text object at 0x14784aa90>, <unstructured.documents.elements.Text object at 0x147828b10>, <unstructured.documents.elements.Title object at 0x147828c90>, <unstructured.documents.elements.Text object at 0x1478158d0>, <unstructured.documents.elements.Title object at 0x1477d9b90>, <unstructured.documents.elements.Title object at 0x1477f9010>, <unstructured.documents.elements.Text object at 0x14784b7d0>, <unstructured.documents.elements.Text object at 0x14784b810>, <unstructured.documents.elements.Text object at 0x14784b950>, <unstructured.documents.elements.Text object at 0x1477fed50>, <unstructured.documents.elements.Text object at 0x147828e50>, <unstructured.documents.elements.Text object at 0x1408a54d0>, <unstructured.documents.elements.Title object at 0x147811a50>, <unstructured.documents.elements.Text object at 0x1477fd490>, <unstructured.documents.elements.Title object at 0x1477fcf90>, <unstructured.documents.elements.Text object at 0x1408a5710>, <unstructured.documents.elements.Title object at 0x1408a5190>, <unstructured.documents.elements.Text object at 0x122b71450>, <unstructured.documents.elements.Title object at 0x147850cd0>, <unstructured.documents.elements.Text object at 0x147850b90>, <unstructured.documents.elements.Title object at 0x1408a6010>, <unstructured.documents.elements.Text object at 0x147812250>, <unstructured.documents.elements.Title object at 0x1477ea750>, <unstructured.documents.elements.Text object at 0x1477eb150>, <unstructured.documents.elements.Title object at 0x14782c510>, <unstructured.documents.elements.Title object at 0x147808cd0>, <unstructured.documents.elements.Text object at 0x14782e2d0>, <unstructured.documents.elements.Text object at 0x14782e490>, <unstructured.documents.elements.Text object at 0x14782e550>, <unstructured.documents.elements.Text object at 0x14782df10>, <unstructured.documents.elements.Text object at 0x147816e90>, <unstructured.documents.elements.Text object at 0x14782df50>, <unstructured.documents.elements.Text object at 0x1478046d0>, <unstructured.documents.elements.Title object at 0x147804ed0>, <unstructured.documents.elements.Text object at 0x14782ca10>, <unstructured.documents.elements.Title object at 0x140d34710>, <unstructured.documents.elements.Text object at 0x147850d90>, <unstructured.documents.elements.Title object at 0x147804750>, <unstructured.documents.elements.Text object at 0x14782f090>, <unstructured.documents.elements.Title object at 0x14782f3d0>, <unstructured.documents.elements.Text object at 0x14782f6d0>, <unstructured.documents.elements.NarrativeText object at 0x147852210>, <unstructured.documents.elements.Title object at 0x1477f3f10>, <unstructured.documents.elements.Text object at 0x147852350>, <unstructured.documents.elements.Text object at 0x14782cbd0>, <unstructured.documents.elements.Text object at 0x14782cc50>, <unstructured.documents.elements.Text object at 0x14782cd90>, <unstructured.documents.elements.Text object at 0x1477f3b10>, <unstructured.documents.elements.Text object at 0x14782ff50>, <unstructured.documents.elements.Text object at 0x1477fee50>, <unstructured.documents.elements.Title object at 0x140d3cd90>, <unstructured.documents.elements.Text object at 0x147812110>, <unstructured.documents.elements.Title object at 0x1477fe250>, <unstructured.documents.elements.Text object at 0x1477d8490>, <unstructured.documents.elements.Title object at 0x1478532d0>, <unstructured.documents.elements.Title object at 0x147841390>, <unstructured.documents.elements.Text object at 0x14782d410>, <unstructured.documents.elements.Text object at 0x14782d490>, <unstructured.documents.elements.Text object at 0x14782cfd0>, <unstructured.documents.elements.Text object at 0x14782d6d0>, <unstructured.documents.elements.Text object at 0x1477d8350>, <unstructured.documents.elements.Text object at 0x1477f14d0>, <unstructured.documents.elements.Title object at 0x1478406d0>, <unstructured.documents.elements.Title object at 0x140d36610>, <unstructured.documents.elements.Title object at 0x147808a50>, <unstructured.documents.elements.Title object at 0x140d094d0>, <unstructured.documents.elements.NarrativeText object at 0x147853910>]\n"
     ]
    }
   ],
   "source": [
    "from unstructured.partition.xml import partition_xml\n",
    "\n",
    "# Partition the XML document\n",
    "partitioned_elements = partition_xml(\"open.xml\")\n",
    "\n",
    "print(partitioned_elements)\n"
   ]
  },
  {
   "cell_type": "code",
   "execution_count": 20,
   "metadata": {},
   "outputs": [
    {
     "data": {
      "text/plain": [
       "631"
      ]
     },
     "execution_count": 20,
     "metadata": {},
     "output_type": "execute_result"
    }
   ],
   "source": [
    "len(partitioned_elements)"
   ]
  },
  {
   "cell_type": "code",
   "execution_count": 21,
   "metadata": {},
   "outputs": [
    {
     "data": {
      "text/plain": [
       "Counter({'UncategorizedText': 355,\n",
       "         'Title': 235,\n",
       "         'NarrativeText': 22,\n",
       "         'EmailAddress': 13,\n",
       "         'ListItem': 6})"
      ]
     },
     "execution_count": 21,
     "metadata": {},
     "output_type": "execute_result"
    }
   ],
   "source": [
    "doc1_pdf_elements_categories = [el.category for el in partitioned_elements]\n",
    "collections.Counter(doc1_pdf_elements_categories)\n"
   ]
  },
  {
   "cell_type": "code",
   "execution_count": 17,
   "metadata": {},
   "outputs": [
    {
     "name": "stdout",
     "output_type": "stream",
     "text": [
      "Corets, Eva\n",
      "Maeve Ascendant\n",
      "Corets, Eva\n",
      "Oberon's Legacy\n"
     ]
    }
   ],
   "source": [
    "print(partitioned_elements[0].text)\n",
    "print(partitioned_elements[1].text)\n",
    "print(partitioned_elements[2].text)\n",
    "print(partitioned_elements[3].text)\n"
   ]
  },
  {
   "cell_type": "markdown",
   "metadata": {},
   "source": [
    "# Utility functions\n"
   ]
  },
  {
   "cell_type": "code",
   "execution_count": 6,
   "metadata": {},
   "outputs": [],
   "source": [
    "def partition_pdf_dld(\n",
    "    filename,\n",
    "    skip_infer_table_types=[],\n",
    "    pdf_infer_table_structure=True,\n",
    "):\n",
    "    \"\"\"\n",
    "    Partitions a PDF file into its constituent elements using the Unstructured API.\n",
    "\n",
    "    This function reads a PDF file, partitions it into its elements such as text, tables, and images,\n",
    "    and returns these elements in a structured format. It allows for the inference of table structures\n",
    "    within the PDF and can skip certain types of tables during the inference process.\n",
    "\n",
    "    Args:\n",
    "        filename (str): The path to the PDF file to be partitioned.\n",
    "        skip_infer_table_types (list[str], optional): A list of table types to skip during table structure inference. Defaults to [].\n",
    "        pdf_infer_table_structure (bool, optional): A flag indicating whether to infer table structures within the PDF. Defaults to True.\n",
    "\n",
    "    Returns:\n",
    "        list[dict]: A list of dictionaries, each representing an element extracted from the PDF file.\n",
    "    \"\"\"\n",
    "    with open(filename, \"rb\") as f:\n",
    "        files = shared.Files(\n",
    "            content=f.read(),\n",
    "            file_name=filename,\n",
    "        )\n",
    "\n",
    "    req = shared.PartitionParameters(\n",
    "        files=files,\n",
    "        strategy=\"hi_res\",\n",
    "        hi_res_model_name=\"yolox\",\n",
    "        pdf_infer_table_structure=pdf_infer_table_structure,\n",
    "        skip_infer_table_types=skip_infer_table_types,\n",
    "    )\n",
    "\n",
    "    try:\n",
    "        resp = client.general.partition(req)\n",
    "        dld_elements = dict_to_elements(resp.elements)\n",
    "    except SDKError as e:\n",
    "        print(e)\n",
    "    return dld_elements\n"
   ]
  },
  {
   "cell_type": "code",
   "execution_count": 7,
   "metadata": {},
   "outputs": [],
   "source": [
    "def parse_and_display_table_html(\n",
    "    table_html: str, print_html: bool = False, display_html: bool = True\n",
    ") -> None:\n",
    "    \"\"\"\n",
    "    Parses and displays the given HTML table string.\n",
    "\n",
    "    Args:\n",
    "        table_html (str): The HTML string representation of the table to be parsed and displayed.\n",
    "\n",
    "    Returns:\n",
    "        None\n",
    "    \"\"\"\n",
    "    parser = etree.XMLParser(remove_blank_text=True)\n",
    "    file_obj = StringIO(table_html)\n",
    "    tree = etree.parse(file_obj, parser)\n",
    "    if print_html:\n",
    "        print(etree.tostring(tree, pretty_print=True).decode())\n",
    "    if display_html:\n",
    "        display(HTML(table_html))"
   ]
  },
  {
   "cell_type": "code",
   "execution_count": 8,
   "metadata": {},
   "outputs": [],
   "source": [
    "def print_element_category_counts(elements: list) -> None:\n",
    "    \"\"\"\n",
    "    Prints the count of each category in the given list of elements.\n",
    "\n",
    "    Args:\n",
    "        elements (List[Element]): The list of elements to count the categories for.\n",
    "\n",
    "    Returns:\n",
    "        None\n",
    "    \"\"\"\n",
    "    categories = [el.category for el in elements]\n",
    "    print(collections.Counter(categories))"
   ]
  },
  {
   "cell_type": "markdown",
   "metadata": {},
   "source": [
    "# File paths\n"
   ]
  },
  {
   "cell_type": "code",
   "execution_count": 9,
   "metadata": {},
   "outputs": [],
   "source": [
    "file_dir = Path.cwd().parents[1] / \"data\" / \"pdf\"\n",
    "doc1 = file_dir / \"DOA-vs-VKA-blood-clots.pdf\"\n",
    "doc2 = file_dir / \"fimmu-14-1145145.pdf\"\n"
   ]
  },
  {
   "cell_type": "markdown",
   "metadata": {},
   "source": [
    "# Extract elements using different strategies\n"
   ]
  },
  {
   "cell_type": "markdown",
   "metadata": {},
   "source": [
    "## 1) Fast strategy -- only text extraction from a text-based PDF, then content normalization\n"
   ]
  },
  {
   "cell_type": "code",
   "execution_count": 10,
   "metadata": {},
   "outputs": [],
   "source": [
    "doc1_pdf_elements = partition_pdf(\n",
    "    filename=doc1,\n",
    "    strategy=\"fast\",\n",
    ")\n"
   ]
  },
  {
   "cell_type": "code",
   "execution_count": 11,
   "metadata": {},
   "outputs": [
    {
     "data": {
      "text/plain": [
       "[<unstructured.documents.elements.Text at 0x13fbe4650>,\n",
       " <unstructured.documents.elements.Title at 0x13fba4790>,\n",
       " <unstructured.documents.elements.Text at 0x13feabb10>,\n",
       " <unstructured.documents.elements.NarrativeText at 0x13fbe79d0>,\n",
       " <unstructured.documents.elements.Title at 0x143064dd0>,\n",
       " <unstructured.documents.elements.Text at 0x143066150>,\n",
       " <unstructured.documents.elements.Title at 0x143066490>,\n",
       " <unstructured.documents.elements.NarrativeText at 0x143071d10>,\n",
       " <unstructured.documents.elements.Title at 0x1430727d0>,\n",
       " <unstructured.documents.elements.Text at 0x143073e50>,\n",
       " <unstructured.documents.elements.ListItem at 0x143073e10>,\n",
       " <unstructured.documents.elements.NarrativeText at 0x1430762d0>,\n",
       " <unstructured.documents.elements.NarrativeText at 0x143079090>,\n",
       " <unstructured.documents.elements.Text at 0x13fc5fe50>,\n",
       " <unstructured.documents.elements.NarrativeText at 0x13fc81890>,\n",
       " <unstructured.documents.elements.ListItem at 0x143079d50>,\n",
       " <unstructured.documents.elements.NarrativeText at 0x13fcf8910>,\n",
       " <unstructured.documents.elements.NarrativeText at 0x13fd7f310>,\n",
       " <unstructured.documents.elements.ListItem at 0x13fd7f4d0>,\n",
       " <unstructured.documents.elements.NarrativeText at 0x13fda4c10>,\n",
       " <unstructured.documents.elements.Text at 0x13fc81fd0>,\n",
       " <unstructured.documents.elements.Title at 0x13fc80110>,\n",
       " <unstructured.documents.elements.Title at 0x13fbb0690>,\n",
       " <unstructured.documents.elements.Title at 0x143088bd0>,\n",
       " <unstructured.documents.elements.NarrativeText at 0x143089310>,\n",
       " <unstructured.documents.elements.NarrativeText at 0x13fc81910>,\n",
       " <unstructured.documents.elements.NarrativeText at 0x14308a710>,\n",
       " <unstructured.documents.elements.Title at 0x14308ad90>,\n",
       " <unstructured.documents.elements.NarrativeText at 0x14308af90>,\n",
       " <unstructured.documents.elements.Title at 0x13fc82c90>,\n",
       " <unstructured.documents.elements.Title at 0x14308a310>,\n",
       " <unstructured.documents.elements.NarrativeText at 0x14308bb50>,\n",
       " <unstructured.documents.elements.Title at 0x14308bd50>,\n",
       " <unstructured.documents.elements.NarrativeText at 0x1430881d0>,\n",
       " <unstructured.documents.elements.NarrativeText at 0x13fec1110>,\n",
       " <unstructured.documents.elements.Title at 0x13ff21910>,\n",
       " <unstructured.documents.elements.NarrativeText at 0x143250d10>,\n",
       " <unstructured.documents.elements.Title at 0x13fcf8b10>,\n",
       " <unstructured.documents.elements.NarrativeText at 0x143251990>,\n",
       " <unstructured.documents.elements.Title at 0x143251710>,\n",
       " <unstructured.documents.elements.NarrativeText at 0x143252250>,\n",
       " <unstructured.documents.elements.NarrativeText at 0x143252750>,\n",
       " <unstructured.documents.elements.NarrativeText at 0x143253010>,\n",
       " <unstructured.documents.elements.Title at 0x143253610>,\n",
       " <unstructured.documents.elements.NarrativeText at 0x143253d90>,\n",
       " <unstructured.documents.elements.NarrativeText at 0x143253910>,\n",
       " <unstructured.documents.elements.NarrativeText at 0x1431d0c10>,\n",
       " <unstructured.documents.elements.Title at 0x1431d0750>,\n",
       " <unstructured.documents.elements.Title at 0x1431d1410>,\n",
       " <unstructured.documents.elements.Title at 0x1431d1a90>,\n",
       " <unstructured.documents.elements.Text at 0x1431d1510>,\n",
       " <unstructured.documents.elements.NarrativeText at 0x143089ed0>,\n",
       " <unstructured.documents.elements.Title at 0x143065e50>,\n",
       " <unstructured.documents.elements.Title at 0x1431d3190>,\n",
       " <unstructured.documents.elements.ListItem at 0x1430b3110>,\n",
       " <unstructured.documents.elements.Text at 0x1431d33d0>,\n",
       " <unstructured.documents.elements.Title at 0x1430b0910>,\n",
       " <unstructured.documents.elements.Title at 0x1430b3e10>,\n",
       " <unstructured.documents.elements.ListItem at 0x1430b3e90>,\n",
       " <unstructured.documents.elements.Title at 0x1432f8090>,\n",
       " <unstructured.documents.elements.Title at 0x13fc80190>,\n",
       " <unstructured.documents.elements.Text at 0x13eaaa990>,\n",
       " <unstructured.documents.elements.Text at 0x143074390>,\n",
       " <unstructured.documents.elements.Text at 0x143075690>,\n",
       " <unstructured.documents.elements.Text at 0x13fe985d0>,\n",
       " <unstructured.documents.elements.NarrativeText at 0x13fc5d190>,\n",
       " <unstructured.documents.elements.NarrativeText at 0x1432f93d0>,\n",
       " <unstructured.documents.elements.NarrativeText at 0x1430751d0>,\n",
       " <unstructured.documents.elements.NarrativeText at 0x13fd7e010>,\n",
       " <unstructured.documents.elements.NarrativeText at 0x13fc81510>,\n",
       " <unstructured.documents.elements.Title at 0x13fc5ced0>,\n",
       " <unstructured.documents.elements.Title at 0x143076210>,\n",
       " <unstructured.documents.elements.NarrativeText at 0x143074d90>,\n",
       " <unstructured.documents.elements.Title at 0x1432f99d0>,\n",
       " <unstructured.documents.elements.Title at 0x120e068d0>,\n",
       " <unstructured.documents.elements.Title at 0x143076b90>,\n",
       " <unstructured.documents.elements.NarrativeText at 0x143076d50>,\n",
       " <unstructured.documents.elements.Title at 0x1432f8f90>,\n",
       " <unstructured.documents.elements.Title at 0x1432f8e50>,\n",
       " <unstructured.documents.elements.Title at 0x1432f9b50>,\n",
       " <unstructured.documents.elements.NarrativeText at 0x1432f9d50>,\n",
       " <unstructured.documents.elements.Title at 0x1432fa010>,\n",
       " <unstructured.documents.elements.Title at 0x1432fa210>,\n",
       " <unstructured.documents.elements.Title at 0x13fc819d0>,\n",
       " <unstructured.documents.elements.NarrativeText at 0x14334e5d0>,\n",
       " <unstructured.documents.elements.NarrativeText at 0x13fc5ea10>,\n",
       " <unstructured.documents.elements.NarrativeText at 0x13fc5ee10>,\n",
       " <unstructured.documents.elements.Text at 0x143077050>,\n",
       " <unstructured.documents.elements.Text at 0x1430775d0>,\n",
       " <unstructured.documents.elements.Text at 0x143067bd0>,\n",
       " <unstructured.documents.elements.Text at 0x13fc81a90>,\n",
       " <unstructured.documents.elements.Title at 0x143323350>,\n",
       " <unstructured.documents.elements.Title at 0x13fc5e7d0>,\n",
       " <unstructured.documents.elements.Title at 0x143377750>,\n",
       " <unstructured.documents.elements.NarrativeText at 0x1431d30d0>,\n",
       " <unstructured.documents.elements.NarrativeText at 0x13fc82850>,\n",
       " <unstructured.documents.elements.NarrativeText at 0x143077f90>,\n",
       " <unstructured.documents.elements.NarrativeText at 0x13fc83d50>,\n",
       " <unstructured.documents.elements.Title at 0x1432fb150>,\n",
       " <unstructured.documents.elements.Text at 0x1432fae50>,\n",
       " <unstructured.documents.elements.NarrativeText at 0x1432fb9d0>,\n",
       " <unstructured.documents.elements.NarrativeText at 0x1432d4c90>,\n",
       " <unstructured.documents.elements.NarrativeText at 0x1432d5990>,\n",
       " <unstructured.documents.elements.NarrativeText at 0x1432d5610>,\n",
       " <unstructured.documents.elements.NarrativeText at 0x13fc5c8d0>,\n",
       " <unstructured.documents.elements.Text at 0x1431d2610>,\n",
       " <unstructured.documents.elements.NarrativeText at 0x1431d3c10>,\n",
       " <unstructured.documents.elements.Title at 0x143252790>,\n",
       " <unstructured.documents.elements.Text at 0x1431d3990>,\n",
       " <unstructured.documents.elements.Text at 0x13fc82390>,\n",
       " <unstructured.documents.elements.Text at 0x13eaaad10>,\n",
       " <unstructured.documents.elements.Title at 0x13e43b250>,\n",
       " <unstructured.documents.elements.Text at 0x13fc83610>,\n",
       " <unstructured.documents.elements.Text at 0x13fc83790>,\n",
       " <unstructured.documents.elements.Text at 0x1432d4250>,\n",
       " <unstructured.documents.elements.NarrativeText at 0x1432d4e90>,\n",
       " <unstructured.documents.elements.Title at 0x1432d4e50>,\n",
       " <unstructured.documents.elements.Text at 0x1432d4f50>,\n",
       " <unstructured.documents.elements.Text at 0x1432d4d10>,\n",
       " <unstructured.documents.elements.Text at 0x1432d5d50>,\n",
       " <unstructured.documents.elements.NarrativeText at 0x1432d5f10>,\n",
       " <unstructured.documents.elements.Title at 0x1432d6210>,\n",
       " <unstructured.documents.elements.Text at 0x1432d6410>,\n",
       " <unstructured.documents.elements.Text at 0x1431d3e90>,\n",
       " <unstructured.documents.elements.Text at 0x1431d3f90>,\n",
       " <unstructured.documents.elements.Text at 0x14317c850>,\n",
       " <unstructured.documents.elements.Text at 0x13fcf8090>,\n",
       " <unstructured.documents.elements.Text at 0x13fcf82d0>,\n",
       " <unstructured.documents.elements.Text at 0x1432d6890>,\n",
       " <unstructured.documents.elements.Text at 0x13fcf9d90>,\n",
       " <unstructured.documents.elements.Text at 0x13fcf9f90>,\n",
       " <unstructured.documents.elements.Text at 0x13fcfa250>,\n",
       " <unstructured.documents.elements.Text at 0x13fcfae10>,\n",
       " <unstructured.documents.elements.Text at 0x13fcfb010>,\n",
       " <unstructured.documents.elements.Text at 0x13fd7de90>,\n",
       " <unstructured.documents.elements.NarrativeText at 0x14334ced0>,\n",
       " <unstructured.documents.elements.NarrativeText at 0x13feabc10>,\n",
       " <unstructured.documents.elements.Text at 0x14317d250>,\n",
       " <unstructured.documents.elements.Text at 0x14317d450>,\n",
       " <unstructured.documents.elements.Text at 0x14317d8d0>,\n",
       " <unstructured.documents.elements.ListItem at 0x1432d6a90>,\n",
       " <unstructured.documents.elements.Text at 0x1432d6c90>,\n",
       " <unstructured.documents.elements.ListItem at 0x1432d6e50>,\n",
       " <unstructured.documents.elements.Text at 0x13fcfba10>,\n",
       " <unstructured.documents.elements.Text at 0x13fc83990>,\n",
       " <unstructured.documents.elements.Text at 0x13fd7e250>,\n",
       " <unstructured.documents.elements.Text at 0x13fd7e4d0>,\n",
       " <unstructured.documents.elements.Text at 0x143066710>,\n",
       " <unstructured.documents.elements.NarrativeText at 0x1431fec90>,\n",
       " <unstructured.documents.elements.Title at 0x13fba5b90>,\n",
       " <unstructured.documents.elements.Title at 0x13fd7ce50>,\n",
       " <unstructured.documents.elements.Text at 0x14317dbd0>,\n",
       " <unstructured.documents.elements.Text at 0x14317de50>,\n",
       " <unstructured.documents.elements.Text at 0x14317e310>,\n",
       " <unstructured.documents.elements.Text at 0x13e9f83d0>,\n",
       " <unstructured.documents.elements.Text at 0x13fcf8690>,\n",
       " <unstructured.documents.elements.Text at 0x13e710c90>,\n",
       " <unstructured.documents.elements.Text at 0x143074550>,\n",
       " <unstructured.documents.elements.Text at 0x143064e10>,\n",
       " <unstructured.documents.elements.Text at 0x13e9a6e50>,\n",
       " <unstructured.documents.elements.Text at 0x13fd7f090>,\n",
       " <unstructured.documents.elements.Text at 0x13fd7ed50>,\n",
       " <unstructured.documents.elements.Text at 0x143077ed0>,\n",
       " <unstructured.documents.elements.NarrativeText at 0x13fc5de50>,\n",
       " <unstructured.documents.elements.Text at 0x13fba7510>,\n",
       " <unstructured.documents.elements.NarrativeText at 0x1431fc250>,\n",
       " <unstructured.documents.elements.Title at 0x143252f50>,\n",
       " <unstructured.documents.elements.Text at 0x14317e610>,\n",
       " <unstructured.documents.elements.Text at 0x14317e850>,\n",
       " <unstructured.documents.elements.Text at 0x14317eb90>,\n",
       " <unstructured.documents.elements.Text at 0x105fc0410>,\n",
       " <unstructured.documents.elements.Text at 0x13fcf9390>,\n",
       " <unstructured.documents.elements.Text at 0x13fcf9490>,\n",
       " <unstructured.documents.elements.Text at 0x13fd7d890>,\n",
       " <unstructured.documents.elements.Text at 0x13fd7d450>,\n",
       " <unstructured.documents.elements.Text at 0x13fd7c810>,\n",
       " <unstructured.documents.elements.Text at 0x13fd7f9d0>,\n",
       " <unstructured.documents.elements.Text at 0x1431fcb10>,\n",
       " <unstructured.documents.elements.Text at 0x1431fd150>,\n",
       " <unstructured.documents.elements.Title at 0x143074990>,\n",
       " <unstructured.documents.elements.Text at 0x14317ec90>,\n",
       " <unstructured.documents.elements.Text at 0x14317f050>,\n",
       " <unstructured.documents.elements.Text at 0x14317f390>,\n",
       " <unstructured.documents.elements.Text at 0x13fcf8dd0>,\n",
       " <unstructured.documents.elements.Text at 0x1432d7c10>,\n",
       " <unstructured.documents.elements.Text at 0x1432d7f50>,\n",
       " <unstructured.documents.elements.Text at 0x13fd7dbd0>,\n",
       " <unstructured.documents.elements.Text at 0x13fd7d690>,\n",
       " <unstructured.documents.elements.Text at 0x13fcfbf10>,\n",
       " <unstructured.documents.elements.Text at 0x1431fc6d0>,\n",
       " <unstructured.documents.elements.Text at 0x1431fcd10>,\n",
       " <unstructured.documents.elements.Text at 0x1431fd410>,\n",
       " <unstructured.documents.elements.Title at 0x13ea851d0>,\n",
       " <unstructured.documents.elements.Text at 0x14317f690>,\n",
       " <unstructured.documents.elements.Text at 0x14317f890>,\n",
       " <unstructured.documents.elements.Text at 0x14317fed0>,\n",
       " <unstructured.documents.elements.Text at 0x13fc80b10>,\n",
       " <unstructured.documents.elements.Text at 0x1432d7e10>,\n",
       " <unstructured.documents.elements.Text at 0x13fcf9b50>,\n",
       " <unstructured.documents.elements.Text at 0x13fd7d8d0>,\n",
       " <unstructured.documents.elements.Text at 0x13fd7c690>,\n",
       " <unstructured.documents.elements.Text at 0x13fcfb8d0>,\n",
       " <unstructured.documents.elements.Text at 0x1431fc910>,\n",
       " <unstructured.documents.elements.Text at 0x1431fcf10>,\n",
       " <unstructured.documents.elements.Text at 0x1431fd650>,\n",
       " <unstructured.documents.elements.NarrativeText at 0x14334ce10>,\n",
       " <unstructured.documents.elements.Title at 0x1430b0b50>,\n",
       " <unstructured.documents.elements.NarrativeText at 0x1430b0610>,\n",
       " <unstructured.documents.elements.NarrativeText at 0x1430b1350>,\n",
       " <unstructured.documents.elements.Title at 0x1430b1010>,\n",
       " <unstructured.documents.elements.NarrativeText at 0x1430b1d90>,\n",
       " <unstructured.documents.elements.NarrativeText at 0x13fbacd50>,\n",
       " <unstructured.documents.elements.NarrativeText at 0x1433a26d0>,\n",
       " <unstructured.documents.elements.Title at 0x1433a2110>,\n",
       " <unstructured.documents.elements.NarrativeText at 0x1433a2510>,\n",
       " <unstructured.documents.elements.Title at 0x1433a29d0>,\n",
       " <unstructured.documents.elements.Title at 0x1433a3310>,\n",
       " <unstructured.documents.elements.NarrativeText at 0x1433a3b10>,\n",
       " <unstructured.documents.elements.NarrativeText at 0x1433a3f10>,\n",
       " <unstructured.documents.elements.Title at 0x13fd7cb50>,\n",
       " <unstructured.documents.elements.NarrativeText at 0x1432d5210>,\n",
       " <unstructured.documents.elements.NarrativeText at 0x13fcf9950>,\n",
       " <unstructured.documents.elements.NarrativeText at 0x143485b10>,\n",
       " <unstructured.documents.elements.NarrativeText at 0x1434869d0>,\n",
       " <unstructured.documents.elements.NarrativeText at 0x143485fd0>,\n",
       " <unstructured.documents.elements.Title at 0x1430b2690>,\n",
       " <unstructured.documents.elements.NarrativeText at 0x1430b2b50>,\n",
       " <unstructured.documents.elements.NarrativeText at 0x143065550>,\n",
       " <unstructured.documents.elements.NarrativeText at 0x1430655d0>,\n",
       " <unstructured.documents.elements.NarrativeText at 0x1430b17d0>,\n",
       " <unstructured.documents.elements.NarrativeText at 0x143376590>,\n",
       " <unstructured.documents.elements.Text at 0x143075b50>,\n",
       " <unstructured.documents.elements.NarrativeText at 0x1430662d0>,\n",
       " <unstructured.documents.elements.Text at 0x1432d7190>,\n",
       " <unstructured.documents.elements.Text at 0x13fea91d0>,\n",
       " <unstructured.documents.elements.Text at 0x1431fc190>,\n",
       " <unstructured.documents.elements.NarrativeText at 0x143250210>,\n",
       " <unstructured.documents.elements.NarrativeText at 0x1431006d0>,\n",
       " <unstructured.documents.elements.Title at 0x1433a0750>,\n",
       " <unstructured.documents.elements.Title at 0x1433a1290>,\n",
       " <unstructured.documents.elements.Title at 0x1433a1510>,\n",
       " <unstructured.documents.elements.Title at 0x1433a1750>,\n",
       " <unstructured.documents.elements.NarrativeText at 0x1433a1ad0>,\n",
       " <unstructured.documents.elements.Title at 0x1433a2950>,\n",
       " <unstructured.documents.elements.Text at 0x143076890>,\n",
       " <unstructured.documents.elements.NarrativeText at 0x143065ed0>,\n",
       " <unstructured.documents.elements.Text at 0x13fc80450>,\n",
       " <unstructured.documents.elements.Text at 0x143375c90>,\n",
       " <unstructured.documents.elements.Text at 0x1431d2bd0>,\n",
       " <unstructured.documents.elements.NarrativeText at 0x14334ef10>,\n",
       " <unstructured.documents.elements.Text at 0x1432d5290>,\n",
       " <unstructured.documents.elements.Text at 0x143376850>,\n",
       " <unstructured.documents.elements.NarrativeText at 0x143376e10>,\n",
       " <unstructured.documents.elements.Title at 0x143377d90>,\n",
       " <unstructured.documents.elements.Title at 0x14317c610>,\n",
       " <unstructured.documents.elements.Title at 0x143377550>,\n",
       " <unstructured.documents.elements.Title at 0x14334fc50>,\n",
       " <unstructured.documents.elements.NarrativeText at 0x143088510>,\n",
       " <unstructured.documents.elements.NarrativeText at 0x143088710>,\n",
       " <unstructured.documents.elements.Title at 0x143375890>,\n",
       " <unstructured.documents.elements.Title at 0x1431fd7d0>,\n",
       " <unstructured.documents.elements.NarrativeText at 0x13fd7e810>,\n",
       " <unstructured.documents.elements.Title at 0x1431fe1d0>,\n",
       " <unstructured.documents.elements.NarrativeText at 0x1431fea10>,\n",
       " <unstructured.documents.elements.NarrativeText at 0x1431ff110>,\n",
       " <unstructured.documents.elements.NarrativeText at 0x1431ff910>,\n",
       " <unstructured.documents.elements.ListItem at 0x1431ff6d0>,\n",
       " <unstructured.documents.elements.Title at 0x1431fc450>,\n",
       " <unstructured.documents.elements.NarrativeText at 0x143100b10>,\n",
       " <unstructured.documents.elements.NarrativeText at 0x1431011d0>,\n",
       " <unstructured.documents.elements.Title at 0x1430886d0>,\n",
       " <unstructured.documents.elements.Title at 0x143101090>,\n",
       " <unstructured.documents.elements.NarrativeText at 0x143101490>,\n",
       " <unstructured.documents.elements.Title at 0x1431016d0>,\n",
       " <unstructured.documents.elements.NarrativeText at 0x143101910>,\n",
       " <unstructured.documents.elements.NarrativeText at 0x143101b90>,\n",
       " <unstructured.documents.elements.NarrativeText at 0x143101e50>,\n",
       " <unstructured.documents.elements.NarrativeText at 0x1431029d0>,\n",
       " <unstructured.documents.elements.NarrativeText at 0x143103010>,\n",
       " <unstructured.documents.elements.Title at 0x143102690>,\n",
       " <unstructured.documents.elements.Title at 0x1431038d0>,\n",
       " <unstructured.documents.elements.Title at 0x143103650>,\n",
       " <unstructured.documents.elements.NarrativeText at 0x143103790>,\n",
       " <unstructured.documents.elements.NarrativeText at 0x143103950>,\n",
       " <unstructured.documents.elements.Title at 0x143103b90>,\n",
       " <unstructured.documents.elements.NarrativeText at 0x143089750>,\n",
       " <unstructured.documents.elements.Title at 0x143067510>,\n",
       " <unstructured.documents.elements.NarrativeText at 0x143103f50>,\n",
       " <unstructured.documents.elements.Title at 0x1431a4f90>,\n",
       " <unstructured.documents.elements.NarrativeText at 0x1431a55d0>,\n",
       " <unstructured.documents.elements.Title at 0x1431a53d0>,\n",
       " <unstructured.documents.elements.Title at 0x1431a5e50>,\n",
       " <unstructured.documents.elements.Title at 0x1431a5c90>,\n",
       " <unstructured.documents.elements.Title at 0x1431a5e90>,\n",
       " <unstructured.documents.elements.NarrativeText at 0x1431a6a50>,\n",
       " <unstructured.documents.elements.NarrativeText at 0x1431a6610>,\n",
       " <unstructured.documents.elements.Title at 0x1431a6410>,\n",
       " <unstructured.documents.elements.NarrativeText at 0x1431a6850>,\n",
       " <unstructured.documents.elements.NarrativeText at 0x1431a6f90>,\n",
       " <unstructured.documents.elements.Title at 0x1432d7310>,\n",
       " <unstructured.documents.elements.NarrativeText at 0x1431a7a10>,\n",
       " <unstructured.documents.elements.NarrativeText at 0x14334cc50>,\n",
       " <unstructured.documents.elements.NarrativeText at 0x14334c050>,\n",
       " <unstructured.documents.elements.NarrativeText at 0x14317ced0>,\n",
       " <unstructured.documents.elements.Title at 0x143075410>,\n",
       " <unstructured.documents.elements.NarrativeText at 0x14334e1d0>,\n",
       " <unstructured.documents.elements.NarrativeText at 0x14334dc10>,\n",
       " <unstructured.documents.elements.Text at 0x1431d0f10>,\n",
       " <unstructured.documents.elements.Title at 0x143076850>,\n",
       " <unstructured.documents.elements.NarrativeText at 0x14334f6d0>,\n",
       " <unstructured.documents.elements.Title at 0x14334fbd0>,\n",
       " <unstructured.documents.elements.Title at 0x143067a90>,\n",
       " <unstructured.documents.elements.Text at 0x1431d2f90>,\n",
       " <unstructured.documents.elements.NarrativeText at 0x13fc80050>,\n",
       " <unstructured.documents.elements.Title at 0x14334db90>,\n",
       " <unstructured.documents.elements.Text at 0x13fe98490>,\n",
       " <unstructured.documents.elements.NarrativeText at 0x1432a12d0>,\n",
       " <unstructured.documents.elements.NarrativeText at 0x13fd7ea50>,\n",
       " <unstructured.documents.elements.Title at 0x1432a1c90>,\n",
       " <unstructured.documents.elements.Title at 0x1432a0f10>,\n",
       " <unstructured.documents.elements.Title at 0x1432a28d0>,\n",
       " <unstructured.documents.elements.NarrativeText at 0x14317fb50>,\n",
       " <unstructured.documents.elements.Text at 0x1432a3610>,\n",
       " <unstructured.documents.elements.Title at 0x1430b1e50>,\n",
       " <unstructured.documents.elements.Text at 0x13e6f3910>,\n",
       " <unstructured.documents.elements.Title at 0x1430b2590>,\n",
       " <unstructured.documents.elements.NarrativeText at 0x143253b90>,\n",
       " <unstructured.documents.elements.Title at 0x1432a3e50>,\n",
       " <unstructured.documents.elements.Text at 0x143320110>,\n",
       " <unstructured.documents.elements.Title at 0x1433204d0>,\n",
       " <unstructured.documents.elements.NarrativeText at 0x13fd7de50>,\n",
       " <unstructured.documents.elements.Title at 0x1433218d0>,\n",
       " <unstructured.documents.elements.NarrativeText at 0x143088dd0>,\n",
       " <unstructured.documents.elements.NarrativeText at 0x14308a290>,\n",
       " <unstructured.documents.elements.Title at 0x143322590>,\n",
       " <unstructured.documents.elements.NarrativeText at 0x13fc83550>,\n",
       " <unstructured.documents.elements.NarrativeText at 0x143321f90>,\n",
       " <unstructured.documents.elements.Title at 0x1432f8550>,\n",
       " <unstructured.documents.elements.NarrativeText at 0x143252cd0>,\n",
       " <unstructured.documents.elements.Title at 0x143074050>,\n",
       " <unstructured.documents.elements.NarrativeText at 0x143065990>,\n",
       " <unstructured.documents.elements.NarrativeText at 0x143374ad0>,\n",
       " <unstructured.documents.elements.Title at 0x143374f90>,\n",
       " <unstructured.documents.elements.Title at 0x1430679d0>,\n",
       " <unstructured.documents.elements.Title at 0x1432fa150>,\n",
       " <unstructured.documents.elements.ListItem at 0x143375650>,\n",
       " <unstructured.documents.elements.Text at 0x140221650>,\n",
       " <unstructured.documents.elements.NarrativeText at 0x1402111d0>,\n",
       " <unstructured.documents.elements.ListItem at 0x13fec0f50>,\n",
       " <unstructured.documents.elements.NarrativeText at 0x143088e50>,\n",
       " <unstructured.documents.elements.NarrativeText at 0x140215550>,\n",
       " <unstructured.documents.elements.Text at 0x143253410>,\n",
       " <unstructured.documents.elements.ListItem at 0x140220110>,\n",
       " <unstructured.documents.elements.NarrativeText at 0x13fc80ad0>,\n",
       " <unstructured.documents.elements.NarrativeText at 0x1431fec10>,\n",
       " <unstructured.documents.elements.ListItem at 0x143253210>,\n",
       " <unstructured.documents.elements.NarrativeText at 0x13fc5e5d0>,\n",
       " <unstructured.documents.elements.Text at 0x1401f8950>,\n",
       " <unstructured.documents.elements.Text at 0x143225990>,\n",
       " <unstructured.documents.elements.Title at 0x143226650>,\n",
       " <unstructured.documents.elements.Title at 0x143226a50>,\n",
       " <unstructured.documents.elements.Title at 0x1432274d0>,\n",
       " <unstructured.documents.elements.NarrativeText at 0x1432267d0>,\n",
       " <unstructured.documents.elements.NarrativeText at 0x13fe98590>,\n",
       " <unstructured.documents.elements.Title at 0x1431fc310>,\n",
       " <unstructured.documents.elements.NarrativeText at 0x13fdcfd10>,\n",
       " <unstructured.documents.elements.Title at 0x1430711d0>,\n",
       " <unstructured.documents.elements.NarrativeText at 0x143154810>,\n",
       " <unstructured.documents.elements.Title at 0x1430729d0>,\n",
       " <unstructured.documents.elements.NarrativeText at 0x13fbacbd0>,\n",
       " <unstructured.documents.elements.NarrativeText at 0x143377050>,\n",
       " <unstructured.documents.elements.Title at 0x143376f10>,\n",
       " <unstructured.documents.elements.NarrativeText at 0x143154050>,\n",
       " <unstructured.documents.elements.Title at 0x1433759d0>,\n",
       " <unstructured.documents.elements.NarrativeText at 0x1431571d0>,\n",
       " <unstructured.documents.elements.Title at 0x1431d0ad0>,\n",
       " <unstructured.documents.elements.NarrativeText at 0x1433cccd0>,\n",
       " <unstructured.documents.elements.ListItem at 0x143154350>,\n",
       " <unstructured.documents.elements.NarrativeText at 0x13ff21710>,\n",
       " <unstructured.documents.elements.NarrativeText at 0x143075e50>,\n",
       " <unstructured.documents.elements.NarrativeText at 0x1441451d0>,\n",
       " <unstructured.documents.elements.Title at 0x144145d90>,\n",
       " <unstructured.documents.elements.ListItem at 0x1430d68d0>,\n",
       " <unstructured.documents.elements.NarrativeText at 0x1430d7190>,\n",
       " <unstructured.documents.elements.NarrativeText at 0x1431ff410>,\n",
       " <unstructured.documents.elements.Title at 0x144146790>,\n",
       " <unstructured.documents.elements.ListItem at 0x144146ed0>,\n",
       " <unstructured.documents.elements.Text at 0x13fe92d50>,\n",
       " <unstructured.documents.elements.ListItem at 0x1433f6250>,\n",
       " <unstructured.documents.elements.Text at 0x1433f45d0>,\n",
       " <unstructured.documents.elements.ListItem at 0x1433f4450>,\n",
       " <unstructured.documents.elements.ListItem at 0x143fdd150>,\n",
       " <unstructured.documents.elements.ListItem at 0x1433f4ed0>,\n",
       " <unstructured.documents.elements.ListItem at 0x1433f5450>,\n",
       " <unstructured.documents.elements.ListItem at 0x13fe90b90>,\n",
       " <unstructured.documents.elements.ListItem at 0x13fe93110>,\n",
       " <unstructured.documents.elements.ListItem at 0x13fe91190>,\n",
       " <unstructured.documents.elements.ListItem at 0x13fe93ad0>,\n",
       " <unstructured.documents.elements.ListItem at 0x1433f7190>,\n",
       " <unstructured.documents.elements.ListItem at 0x143ecaf90>,\n",
       " <unstructured.documents.elements.ListItem at 0x1433f6210>,\n",
       " <unstructured.documents.elements.ListItem at 0x1433f6290>,\n",
       " <unstructured.documents.elements.ListItem at 0x1431a7690>,\n",
       " <unstructured.documents.elements.ListItem at 0x1433f7710>,\n",
       " <unstructured.documents.elements.ListItem at 0x13fe90f90>,\n",
       " <unstructured.documents.elements.ListItem at 0x13fe936d0>,\n",
       " <unstructured.documents.elements.ListItem at 0x13fe91290>,\n",
       " <unstructured.documents.elements.ListItem at 0x13fe92910>,\n",
       " <unstructured.documents.elements.ListItem at 0x13fe92550>,\n",
       " <unstructured.documents.elements.ListItem at 0x13fe93490>,\n",
       " <unstructured.documents.elements.ListItem at 0x13fe92790>,\n",
       " <unstructured.documents.elements.Text at 0x143e48d90>,\n",
       " <unstructured.documents.elements.NarrativeText at 0x1401ef950>,\n",
       " <unstructured.documents.elements.NarrativeText at 0x13fdcce90>,\n",
       " <unstructured.documents.elements.ListItem at 0x1433f4f90>,\n",
       " <unstructured.documents.elements.ListItem at 0x1433f5ad0>,\n",
       " <unstructured.documents.elements.ListItem at 0x14344eb10>,\n",
       " <unstructured.documents.elements.ListItem at 0x14344eb90>,\n",
       " <unstructured.documents.elements.ListItem at 0x14344f250>,\n",
       " <unstructured.documents.elements.ListItem at 0x14344f090>,\n",
       " <unstructured.documents.elements.ListItem at 0x14344f350>,\n",
       " <unstructured.documents.elements.ListItem at 0x14344ec50>,\n",
       " <unstructured.documents.elements.ListItem at 0x14344ed10>,\n",
       " <unstructured.documents.elements.ListItem at 0x14344ea10>,\n",
       " <unstructured.documents.elements.ListItem at 0x14344f450>,\n",
       " <unstructured.documents.elements.ListItem at 0x14344f590>,\n",
       " <unstructured.documents.elements.Title at 0x1433f6890>,\n",
       " <unstructured.documents.elements.ListItem at 0x14344ecd0>,\n",
       " <unstructured.documents.elements.ListItem at 0x14344ee10>,\n",
       " <unstructured.documents.elements.ListItem at 0x13fbad2d0>]"
      ]
     },
     "execution_count": 11,
     "metadata": {},
     "output_type": "execute_result"
    }
   ],
   "source": [
    "doc1_pdf_elements\n"
   ]
  },
  {
   "cell_type": "code",
   "execution_count": 10,
   "metadata": {},
   "outputs": [
    {
     "data": {
      "text/plain": [
       "Counter({'NarrativeText': 143,\n",
       "         'UncategorizedText': 121,\n",
       "         'Title': 114,\n",
       "         'ListItem': 52})"
      ]
     },
     "execution_count": 10,
     "metadata": {},
     "output_type": "execute_result"
    }
   ],
   "source": [
    "doc1_pdf_elements_categories = [el.category for el in doc1_pdf_elements]\n",
    "collections.Counter(doc1_pdf_elements_categories)\n"
   ]
  },
  {
   "cell_type": "markdown",
   "metadata": {},
   "source": [
    "## 2) Document-layout-detection (DLD) strategy -- extract text and layout from a mixed-format PDF\n"
   ]
  },
  {
   "cell_type": "code",
   "execution_count": 11,
   "metadata": {},
   "outputs": [
    {
     "data": {
      "text/plain": [
       "'/Users/ducdo/Repo/Demo/data/pdf/DOA-vs-VKA-blood-clots.pdf'"
      ]
     },
     "execution_count": 11,
     "metadata": {},
     "output_type": "execute_result"
    }
   ],
   "source": [
    "str(doc1)\n"
   ]
  },
  {
   "cell_type": "code",
   "execution_count": null,
   "metadata": {},
   "outputs": [],
   "source": [
    "# doc1_elements = partition_pdf_dld(\n",
    "#     filename=str(doc1), skip_infer_table_types=[], pdf_infer_table_structure=True\n",
    "# )"
   ]
  },
  {
   "cell_type": "code",
   "execution_count": 25,
   "metadata": {},
   "outputs": [],
   "source": [
    "# with open(\"DOA-vs-VKA-blood-clots_dld_elements.pkl\", \"wb\") as f:\n",
    "#     pickle.dump(doc1_elements, f)\n",
    "\n",
    "with open(\"DOA-vs-VKA-blood-clots_dld_elements.pkl\", \"rb\") as f:\n",
    "    doc1_elements = pickle.load(f)\n"
   ]
  },
  {
   "cell_type": "code",
   "execution_count": 27,
   "metadata": {},
   "outputs": [
    {
     "name": "stdout",
     "output_type": "stream",
     "text": [
      "Counter({'Title': 437, 'UncategorizedText': 125, 'ListItem': 45, 'NarrativeText': 44, 'Header': 14, 'Footer': 4, 'FigureCaption': 1, 'Table': 1})\n"
     ]
    }
   ],
   "source": [
    "print(collections.Counter([el.category for el in doc1_elements]))"
   ]
  },
  {
   "cell_type": "code",
   "execution_count": 15,
   "metadata": {},
   "outputs": [
    {
     "data": {
      "text/html": [
       "<table><thead><tr><th>Clinical Guidelines</th><th>Recommendation</th></tr></thead><tbody><tr><td rowspan=\"2\">European Alliance of Associations for Rheumatology (EULEAR), 2019 (5)</td><td>For patients with venous thrombosis, indefinite anticoagulation is recommended. DOACs may be an alternative in patients unable to achieve target INR with VKAs, or intolerant to VKAs. Rivaroxaban should not be used in triple positive patients due to the increased risk of recurrent thrombosis.</td></tr><tr><td>For arterial events, indefinite anticoagulation is also recommended, avoiding the use of DOACs</td></tr><tr><td>European Society of Cardiology (ESC), 2019 (35)</td><td>Indefinite treatment with VK As is recommended. DOACs are not recommended.</td></tr><tr><td>American Society of Hematology (ASH), 2020 (36)</td><td>Indefinite anticoagulation with VK As is recommended. The use of DOACs is discouraged</td></tr><tr><td rowspan=\"2\">British Society for Haematology (BSH), 2020 (37)</td><td>For patients with venous thrombosis, indefinite anticoagulation is recommended. DOACs should not be used in triple-positive patients. Evidence i insufficient to establish recommendations in single or double positive patients. In general, it is suggested to avoid them; however, if patients are already being treated with DOACs, they may be continued depending on the clinical profile and patient preferences.</td></tr><tr><td>In patients with arterial thrombosis, indefinite treatment with VKAs is recommended. DOACs are not recommended.</td></tr><tr><td>National Institute for Health and Care Excellence (NICE), 2020 (38)</td><td>'VKAs are recommended in triple positive patients,</td></tr><tr><td>International Society on Thrombosis and Haemostasis (ISTH), 2020 (39)</td><td>In patients with high-risk thrombotic APS*, VKAs are recommended. In patients with APS without high-risk criteria who are already on DOACs therapy, it may be maintained depending on the clinical profile and patient preference.</td></tr><tr><td>American College of Cardiology (ACC), 2024 (40)</td><td>DOAC:s are not considered standard treatment in patients with APS.</td></tr></tbody></table>"
      ],
      "text/plain": [
       "<IPython.core.display.HTML object>"
      ]
     },
     "metadata": {},
     "output_type": "display_data"
    }
   ],
   "source": [
    "doc1_tables = [el for el in doc1_elements if el.category == \"Table\"]\n",
    "# doc1_table_example = doc1_tables[0].text\n",
    "# table_html = doc1_tables[0].metadata.text_as_html\n",
    "parse_and_display_table_html(doc1_tables[0].metadata.text_as_html)"
   ]
  },
  {
   "cell_type": "code",
   "execution_count": null,
   "metadata": {},
   "outputs": [],
   "source": [
    "# doc2_elements = partition_pdf_dld(\n",
    "#     filename=str(doc2), skip_infer_table_types=[], pdf_infer_table_structure=True\n",
    "# )\n",
    "# with open(\"fimmu-14-1145145_dld_elements.pkl\", \"wb\") as f:\n",
    "#     pickle.dump(doc2_elements, f)"
   ]
  },
  {
   "cell_type": "code",
   "execution_count": 44,
   "metadata": {},
   "outputs": [],
   "source": [
    "with open(\"fimmu-14-1145145_dld_elements.pkl\", \"rb\") as f:\n",
    "    doc2_elements = pickle.load(f)\n"
   ]
  },
  {
   "cell_type": "code",
   "execution_count": 30,
   "metadata": {},
   "outputs": [
    {
     "data": {
      "text/html": [
       "<table><thead><tr><th>Medicat</th><th>Mech</th><th>Perspective</th></tr></thead><tbody><tr><td>Eculizumab</td><td>Complement 5 inhibitor</td><td>For CAPS refractory to standard treatment, CAPS receiving kidney transplantation, acute TMA in patients with aPL-related nephropathy, APS during pregnancy, or pediatric CAPS (2, 33, 34)</td></tr><tr><td>Rituximab</td><td>Type I anti-CD20 monoclonal antibody</td><td>For thrombocytopenia, hemolytic anemia, or other aPL-mediated hematological and microthrombotic manifestations or noncriteria manifestations; an alternative option for CAPS which is refractory to standard treatment, refractory obstetric APS, and pediatric CAPS (2, 33, 35)</td></tr><tr><td>Obinutuzumab</td><td>Type II anti-CD20 monoclonal antibody (B-cell depletion mainly via DCD)</td><td>Alternative option for rituximab in APS (36)</td></tr><tr><td>Belimumab</td><td>BAFF/Blys inhibitor</td><td>Potential treatment for aPL-positive patients, or primary APS with high thrombotic risk (37-39)</td></tr><tr><td>Daratumumab</td><td>Anti-CD38 monoclonal antibody</td><td>Potential treatment for refractory APS (40, 41)</td></tr><tr><td>Zanubrutinib</td><td>BTK inhibitor</td><td>Unclear, evidence still being collected</td></tr><tr><td>Anti-TNF-o therapy</td><td>Anti-TNF-o. monoclonal antibody: adalimumab, certolizumab</td><td>In refractory obstetric APS (42)</td></tr></tbody></table>"
      ],
      "text/plain": [
       "<IPython.core.display.HTML object>"
      ]
     },
     "metadata": {},
     "output_type": "display_data"
    }
   ],
   "source": [
    "doc2_tables = [el for el in doc2_elements if el.category == \"Table\"]\n",
    "# doc2_table_example = doc2_tables[0].text\n",
    "parse_and_display_table_html(doc2_tables[0].metadata.text_as_html)\n"
   ]
  },
  {
   "cell_type": "markdown",
   "metadata": {},
   "source": [
    "## Process elements\n"
   ]
  },
  {
   "cell_type": "markdown",
   "metadata": {},
   "source": [
    "### Remove references\n"
   ]
  },
  {
   "cell_type": "code",
   "execution_count": 45,
   "metadata": {},
   "outputs": [],
   "source": [
    "def remove_references(pdf_elements):\n",
    "    reference_title = [\n",
    "        el for el in pdf_elements if el.category == \"Title\" and \"References\" in el.text\n",
    "    ][0]\n",
    "    pdf_elements = [\n",
    "        el for el in pdf_elements if el.metadata.parent_id != reference_title.id\n",
    "    ]\n",
    "    return pdf_elements\n",
    "\n",
    "\n",
    "doc1_elements = remove_references(doc1_elements)\n",
    "doc2_elements = remove_references(doc2_elements)"
   ]
  },
  {
   "cell_type": "code",
   "execution_count": 48,
   "metadata": {},
   "outputs": [
    {
     "name": "stdout",
     "output_type": "stream",
     "text": [
      "Counter({'NarrativeText': 177, 'Title': 41, 'Header': 13, 'Footer': 11, 'UncategorizedText': 7, 'Table': 1, 'Image': 1, 'FigureCaption': 1})\n"
     ]
    }
   ],
   "source": [
    "print(collections.Counter([el.category for el in doc2_elements]))\n"
   ]
  },
  {
   "cell_type": "markdown",
   "metadata": {},
   "source": [
    "<p style=\"background-color:#fff6e4; padding:15px; border-width:3px; border-color:#f5ecda; border-style:solid; border-radius:6px\"> Still need to do more processing to remove references</p>\n"
   ]
  },
  {
   "cell_type": "markdown",
   "metadata": {},
   "source": [
    "## Create chunks\n"
   ]
  },
  {
   "cell_type": "code",
   "execution_count": 49,
   "metadata": {},
   "outputs": [],
   "source": [
    "doc1_chunks = chunk_by_title(\n",
    "    doc1_elements,\n",
    "    combine_text_under_n_chars=100,\n",
    "    max_characters=3000,\n",
    ")\n",
    "\n",
    "doc2_chunks = chunk_by_title(\n",
    "    doc2_elements,\n",
    "    combine_text_under_n_chars=100,\n",
    "    max_characters=3000,\n",
    ")\n"
   ]
  },
  {
   "cell_type": "markdown",
   "metadata": {},
   "source": [
    "# Create embeddings\n"
   ]
  },
  {
   "cell_type": "code",
   "execution_count": 52,
   "metadata": {},
   "outputs": [],
   "source": [
    "from langchain.embeddings import OpenAIEmbeddings\n",
    "from langchain.schema import Document\n",
    "from langchain.vectorstores.pgvector import PGVector"
   ]
  },
  {
   "cell_type": "code",
   "execution_count": 60,
   "metadata": {},
   "outputs": [],
   "source": [
    "documents = []\n",
    "for chunk in doc2_chunks:\n",
    "    metadata = {}\n",
    "    metadata[\"source\"] = str(doc2).split(\"/\")[-1]\n",
    "    documents.append(Document(page_content=chunk.text, metadata=metadata))"
   ]
  },
  {
   "cell_type": "code",
   "execution_count": 87,
   "metadata": {},
   "outputs": [
    {
     "data": {
      "text/plain": [
       "Document(metadata={'source': 'fimmu-14-1145145.pdf'}, page_content='?frontiers | Frontiers in Immunology\\n\\nTYPE Review PUBLISHED 19 May 2023 DOI 10.3389/fimmu.2023.1145145\\n\\n® Check for updates')"
      ]
     },
     "execution_count": 87,
     "metadata": {},
     "output_type": "execute_result"
    }
   ],
   "source": [
    "documents[0]"
   ]
  },
  {
   "cell_type": "code",
   "execution_count": 98,
   "metadata": {},
   "outputs": [],
   "source": [
    "from uuid import uuid4\n",
    "\n",
    "uuids = [str(uuid4()) for _ in range(len(documents))]\n"
   ]
  },
  {
   "cell_type": "markdown",
   "metadata": {},
   "source": [
    "# Upload embeddings\n"
   ]
  },
  {
   "cell_type": "code",
   "execution_count": 116,
   "metadata": {},
   "outputs": [
    {
     "data": {
      "text/plain": [
       "True"
      ]
     },
     "execution_count": 116,
     "metadata": {},
     "output_type": "execute_result"
    }
   ],
   "source": [
    "load_dotenv()\n"
   ]
  },
  {
   "cell_type": "code",
   "execution_count": 113,
   "metadata": {},
   "outputs": [
    {
     "data": {
      "text/plain": [
       "'text-embedding-3-small'"
      ]
     },
     "execution_count": 113,
     "metadata": {},
     "output_type": "execute_result"
    }
   ],
   "source": [
    "os.getenv(\"OPENAI_EMBEDDING_MODEL\")\n"
   ]
  },
  {
   "cell_type": "code",
   "execution_count": 114,
   "metadata": {},
   "outputs": [],
   "source": [
    "embeddings = OpenAIEmbeddings(model=os.getenv(\"OPENAI_EMBEDDING_MODEL\"))\n"
   ]
  },
  {
   "cell_type": "code",
   "execution_count": 115,
   "metadata": {},
   "outputs": [
    {
     "data": {
      "text/plain": [
       "'text-embedding-3-small'"
      ]
     },
     "execution_count": 115,
     "metadata": {},
     "output_type": "execute_result"
    }
   ],
   "source": [
    "embeddings.model"
   ]
  },
  {
   "cell_type": "code",
   "execution_count": 117,
   "metadata": {},
   "outputs": [],
   "source": [
    "from pinecone import Pinecone, ServerlessSpec\n",
    "from langchain_pinecone import PineconeVectorStore\n",
    "\n",
    "pinecone_api_key = os.environ.get(\"PINECONE_API_KEY\")\n",
    "pc = Pinecone(api_key=pinecone_api_key)\n"
   ]
  },
  {
   "cell_type": "code",
   "execution_count": 118,
   "metadata": {},
   "outputs": [],
   "source": [
    "import time\n",
    "\n",
    "index_name = os.getenv(\"PINECONE_INDEX_NAME\")\n",
    "\n",
    "existing_indexes = [index_info[\"name\"] for index_info in pc.list_indexes()]\n",
    "\n",
    "if index_name not in existing_indexes:\n",
    "    pc.create_index(\n",
    "        name=index_name,\n",
    "        dimension=1536,\n",
    "        metric=\"cosine\",\n",
    "        spec=ServerlessSpec(cloud=\"aws\", region=\"us-east-1\"),\n",
    "    )\n",
    "    while not pc.describe_index(index_name).status[\"ready\"]:\n",
    "        time.sleep(1)\n",
    "\n",
    "index = pc.Index(index_name)\n"
   ]
  },
  {
   "cell_type": "code",
   "execution_count": 126,
   "metadata": {},
   "outputs": [],
   "source": [
    "vector_store = PineconeVectorStore(index=index, embedding=embeddings)\n",
    "if index.describe_index_stats().total_vector_count > 0:\n",
    "    print(\"Deleting existing vectors\")\n",
    "    vector_store.delete(delete_all=True)\n"
   ]
  },
  {
   "cell_type": "code",
   "execution_count": 127,
   "metadata": {},
   "outputs": [
    {
     "data": {
      "text/plain": [
       "['025d6442-38bb-40a5-b926-b37d372ca716',\n",
       " 'a5bbd1f2-d9ef-4510-a9aa-017b67771482',\n",
       " 'b917e9df-ce05-4d61-9844-0be5d06aaf60',\n",
       " '0f64c5a3-1af7-4c96-a398-14e8f1bf82ad',\n",
       " 'c899814b-400a-4988-a53f-6660a012db0e',\n",
       " 'd4870cdb-565c-4f2d-a507-a7f785f38de2',\n",
       " 'd7a91249-a187-43a3-b8fb-b0d23a931214',\n",
       " '9906bf38-96e2-4f65-94a5-c62598a89156',\n",
       " '425499d7-f61c-4e0a-bc80-ca10dec1eb4c',\n",
       " '1af981b7-1359-4d01-aa27-389cb1fbb5cd',\n",
       " '3a7565b4-815b-478e-8cd5-8b0ea10bb7f3',\n",
       " 'f7ca473a-d68d-4c01-8cb2-2d4527f99abe',\n",
       " 'e3672b13-3cd5-4470-ad75-8a072b50eaf9',\n",
       " '8e0569a1-a04b-4cae-bc55-0a724941c1dd',\n",
       " '92fa2472-77c2-4281-91d0-c369e5a75f78',\n",
       " 'ae94bdb8-a19d-4f8f-ba6c-892fa5f28663',\n",
       " '765518de-9899-48c4-aeaa-fba835dbfa01',\n",
       " '16764bbb-eaa7-4895-8255-df8f0a66b586',\n",
       " '5d2d67d4-bc01-4f98-a210-70fbd6ed062e',\n",
       " 'bc41ba5a-671c-4750-a327-1e8e980d24f7',\n",
       " '151d89fa-9159-45e4-97a4-41806a579ac6',\n",
       " '86c3d229-1d60-47e9-8cba-f9ccd3697a9d',\n",
       " '15c44cbb-d62c-4f50-a581-bceab6f270b3',\n",
       " '2c6b0f52-96fb-4fe3-a361-e5f5a903c49e',\n",
       " '7950c973-9105-4534-a913-b983a4d1c163',\n",
       " '63519bf9-4198-404a-811a-314b2c098791',\n",
       " 'b8a8d329-7762-418a-9da4-8bd499f76151',\n",
       " 'd7ecfd2e-438a-4afa-aaab-1a594ffc0f56',\n",
       " 'cdee694e-10fb-40a4-b4d4-48636f3607fd',\n",
       " 'c2149ba6-a239-429e-ae6e-7cea9bf4cc71',\n",
       " 'f5b84fd6-5626-40c7-ac69-5492d8ac408c',\n",
       " '8ccccb84-d807-45f3-a0dc-49c326bf9b65',\n",
       " '939fb9dc-9811-45a1-aa2f-91b9115ff26c',\n",
       " '1dc07b60-0f50-428a-b959-7a5cf39dba50',\n",
       " '918ea216-62e6-4c74-afc9-8cc5389a4ca2',\n",
       " '43d33b38-c2d0-4bec-9512-d5f69640a081',\n",
       " '4da218e0-2375-4acf-b637-74e9cb8e7082',\n",
       " 'f907ed5c-4e2c-4881-81c1-7c29a2d6319b',\n",
       " '58cf3e75-da84-4feb-9324-2d21bb713a4d',\n",
       " 'f0ff0a2e-4583-451b-871b-90ce87dd016a',\n",
       " '17279d74-bf02-40a3-9cab-538347aa1583',\n",
       " '7abefa48-04ab-464b-952e-c376b940fc91',\n",
       " '92459e98-efa5-40ea-8443-e16aa9bbdd38',\n",
       " 'cd2610d2-dad4-4940-96d6-2bb8495b39ee',\n",
       " '23665636-9dd2-4423-ba67-4a1a3aa6efed',\n",
       " '661723e0-8fda-4e68-887f-6848da3df276']"
      ]
     },
     "execution_count": 127,
     "metadata": {},
     "output_type": "execute_result"
    }
   ],
   "source": [
    "vector_store.add_documents(documents=documents, ids=uuids)"
   ]
  },
  {
   "cell_type": "code",
   "execution_count": 129,
   "metadata": {},
   "outputs": [
    {
     "name": "stdout",
     "output_type": "stream",
     "text": [
      "[Document(id='939fb9dc-9811-45a1-aa2f-91b9115ff26c', metadata={'source': 'fimmu-14-1145145.pdf'}, page_content='Conclusions\\n\\nAlthough anticoagulation remains the cornerstone of APS treatment, signiﬁcant attention is being drawn towards studying a number of biologics. It is important to note that biologics are primarily reserved for patients with refractory APS or CAPS. However, the accuracy of biologics make them a promising option for the development of optimal therapies for personalized medicine. Innovative biologic-focused therapeutic approaches are being investigated to treat APS, which may ultimately reduce mortality rates among individuals with APS.'), Document(id='d7a91249-a187-43a3-b8fb-b0d23a931214', metadata={'source': 'fimmu-14-1145145.pdf'}, page_content='Introduction\\n\\nAntiphospholipid syndrome (APS) is a systemic autoimmune disease, characterized by thrombosis or recurrent pregnancy morbidity, with the persistent presence of antiphospholipid antibodies (aPLs) (1, 2). APS can occur as an isolated condition (primary APS, PAPS) or secondary to systemic lupus erythematosus (SLE) or other rheumatic diseases (SAPS) (3, 4).\\n\\nThe clinical manifestations of APS include thrombosis, obstetrical complications and “noncriteria” manifestations (2). Thrombosis can cause occlusive events in venous, arterial, or microvascular systems (5). Catastrophic APS (CAPS) affects approximately 1% of APS patients and can cause multiple thromboses of medium and small arteries, leading to fulminant multiple vital organ dysfunction (6–9). Obstetrical complications often involve unexplained, consecutive spontaneous abortions, fetal death, or premature birth due to eclampsia, severe preeclampsia, and intrauterine growth restriction (3, 10, 11). In addition, other clinical manifestations, known as “noncriteria” manifestations, include\\n\\nFrontiers in Immunology\\n\\n01\\n\\nfrontiersin.org\\n\\nYun et al.\\n\\n10.3389/ﬁmmu.2023.1145145\\n\\nthrombocytopenia (2), hemolytic anemia (5), livedo reticularis (12), accelerated atherosclerosis and cardiac valve disease (13), nephropathy (14), neurological impairment (2), and bone necrosis (12).\\n\\nAnticoagulation therapy is considered a fundamental cornerstone of APS management (15). However, conventional prevention and treatment strategies fail in approximately 20-30% of obstetric APS and more than 30% of thrombotic APS cases (16, 17). Furthermore, traditional medications are often ineffective in treating CAPS, refractory APS, and noncriteria manifestations (1, 2, 18–20).\\n\\nThe understanding of APS pathogenesis has grown in recent years, prompting investigation into new targeted therapies (2, 7). Multiple mechanisms have been proposed, such as B cell-mediated production of aPLs, particularly anti-b2-glycoprotein I antibody (21, 22); activation of complement (23–26); and stimulation of endothelial cells (27), platelets (28, 29), neutrophils (30, 31), and monocytes (32). This review focuses on biologics as potential targeted therapies for APS based on its underlying mechanisms. We will discuss possible biologics beyond antithrombotic agents (Table 1).'), Document(id='f907ed5c-4e2c-4881-81c1-7c29a2d6319b', metadata={'source': 'fimmu-14-1145145.pdf'}, page_content='References\\n\\n07\\n\\nfrontiersin.org\\n\\nYun et al.\\n\\n10.3389/ﬁmmu.2023.1145145\\n\\nantiphospholipid syndrome treatment trends. Lupus (2020) 29(12):1571–93. doi: 10.1177/0961203320950461\\n\\n43. Vega-Ostertag M, Liu X, Kwan-Ki H, Chen P, Pierangeli S. A human monoclonal antiprothrombin antibody is thrombogenic in vivo and upregulates expression of tissue factor and e-selectin on endothelial cells. Br J Haematol (2006) 135(2):214–9. doi: 10.1111/j.1365-2141.2006.06283.x\\n\\n44. Rand JH, Wu XX, Quinn AS, Ashton AW, Chen PP, Hathcock JJ, et al. Hydroxychloroquine protects the annexin A5 anticoagulant shield from disruption by antiphospholipid antibodies: evidence for a novel effect for an old antimalarial drug. Blood (2010) 115(11):2292–9. doi: 10.1182/blood-2009-04-213520\\n\\n45. Wahezi DM, Ilowite NT, Wu XX, Pelkmans L, Laat B, Schanberg LE, et al. Annexin A5 anticoagulant activity in children with systemic lupus erythematosus and the association with antibodies to domain I of b2-glycoprotein I. Lupus (2013) 22 (7):702–11. doi: 10.1177/0961203313490241\\n\\n46. Liestøl S, Sandset PM, Jacobsen EM, Mowinckel MC, Wisløff F. Decreased anticoagulant response to tissue factor pathway inhibitor type 1 in plasmas from patients with lupus anticoagulants. Br J Haematol (2007) 136(1):131–7. doi: 10.1111/ j.1365-2141.2006.06385.x\\n\\n47. Brandt KJ, Kruithof EK, de Moerloose P. Receptors involved in cell activation by antiphospholipid antibodies. Thromb Res (2013) 132(4):408–13. doi: 10.1016/ j.thromres.2013.08.015\\n\\n48. Zhou H, Chen D, Xie H, Xia L, Wang T, Yuan W, et al. Activation of MAPKs in the anti-b2GPI/b2GPI-induced tissue factor expression through TLR4/IRAKs pathway ( 2 0 1 2 ) 1 3 0 ( 4 ) : e 2 2 9 – 3 5 . d oi : 1 0 . 1 0 1 6 / i n T H P - 1 c e l l s . T h r o m b R e s j.thromres.2012.08.303\\n\\n49. Chighizola CB, Raschi E, Borghi MO, Meroni PL. Update on the pathogenesis and treatment of the antiphospholipid syndrome. Curr Opin Rheumatol (2015) 27 (5):476–82. doi: 10.1097/BOR.0000000000000200\\n\\n50. Proulle V, Furie RA, Merrill-Skoloff G, Furie BC, Furie B. Platelets are required for enhanced activation of the endothelium and ﬁbrinogen in a mouse thrombosis model of APS. Blood (2014) 124(4):611–22. doi: 10.1182/blood-2014-02-554980\\n\\n51. Khattri S, Zandman-Goddard G, Peeva E. B-cell directed therapies in antiphospholipid antibody syndrome–new directions based on murine and human data. Autoimmun Rev (2012) 11(10):717–22. doi: 10.1016/j.autrev.2011.12.011\\n\\n52. Emmi G, Urban ML, Scalera A, Becatti M, Fiorillo C, Silvestri E, et al. Repeated low-dose courses of rituximab in SLE-associated antiphospholipid syndrome: data from a tertiary dedicated centre. Semin Arthritis Rheumatol (2017) 46(4):e21–e3. doi: 10.1016/j.semarthrit.2016.08.002'), Document(id='7abefa48-04ab-464b-952e-c376b940fc91', metadata={'source': 'fimmu-14-1145145.pdf'}, page_content='86. Alvarez-Rodriguez L, Riancho-Zarrabeitia L, Calvo-Alén J, López-Hoyos M, Martı́nez-Taboada V. Peripheral b-cell subset distribution in primary antiphospholipid syndrome. Int J Mol Sci (2018) 19(2):589. doi: 10.3390/ijms19020589\\n\\n87. van den Hoogen LL, Palla G, Bekker CPJ, Fritsch-Stork RDE, Radstake T, van Roon JAG. Increased b-cell activating factor (BAFF)/B-lymphocyte stimulator (BLyS) in primary antiphospholipid syndrome is associated with higher adjusted global antiphospholipid syndrome scores. RMD Open (2018) 4(2):e000693. doi: 10.1136/ rmdopen-2018-000693\\n\\n88. Kahn P, Ramanujam M, Bethunaickan R, Huang W, Tao H, Madaio MP, et al. Prevention of murine antiphospholipid syndrome by BAFF blockade. Arthritis Rheumatol (2008) 58(9):2824–34. doi: 10.1002/art.23764\\n\\n89. Yoshizuka R, Hasegawa H, Kamiya M, Umezawa N, Yasuda S. Refractory antiphospholipid antibody syndrome-induced thrombocytopaenia successfully treated with belimumab. Lupus (2022) 31(5):624–7. doi: 10.1177/09612033221089138\\n\\n90. Powell M, Hill D, Eudy A, Landy H, Petri M. OP0041 pregnancy outcomes for systemic lupus erythematosus (SLE) subjects with conception during belimumab intravenous (IV) and subcutaneous (SC) placebo-controlled clinical trials and long term extension trials. Ann Rheumatic Dis (2014) 73(Suppl 2):75–6. doi: 10.1136/ annrheumdis-2014-eular.4484\\n\\n91. Kello N, Khoury LE, Marder G, Furie R, Zapantis E, Horowitz DL. Secondary thrombotic microangiopathy in systemic lupus erythematosus and antiphospholipid syndrome, the role of complement and use of eculizumab: case series and review of literature. Semin Arthritis Rheumatol (2019) 49(1):74–83. doi: 10.1016/ j.semarthrit.2018.11.005\\n\\n92. Erkan D, Salmon JE. The role of complement inhibition in thrombotic angiopathies and antiphospholipid syndrome. Turk J Haematol (2016) 33(1):1–7. doi: 10.4274/tjh.2015.0197\\n\\n93. Chaturvedi S, Braunstein EM, Yuan X, Yu J, Alexander A, Chen H, et al. Complement activity and complement regulatory gene mutations are associated with thrombosis in APS and CAPS. Blood (2020) 135(4):239–51. doi: 10.1182/ blood.2019003863\\n\\n94. Trouw LA, Pickering MC, Blom AM. The complement system as a potential therapeutic target in rheumatic disease. Nat Rev Rheumatol (2017) 13(9):538–47. doi: 10.1038/nrrheum.2017.125\\n\\n95. Romay-Penabad Z, Liu XX, Montiel-Manzano G, De Martinez EP, Pierangeli SS. C5a receptor-deﬁcient mice are protected from thrombophilia and endothelial cell activation induced by some antiphospholipid antibodies. Ann New York Acad Sci (2007) 1108(1):554–66. doi: 10.1196/annals.1422.058\\n\\n96. Shapira I, Andrade D, Allen SL, Salmon JE. Brief report: induction of sustained remission in recurrent catastrophic antiphospholipid syndrome via inhibition of terminal complement with eculizumab. Arthritis Rheumatol (2012) 64(8):2719–23. doi: 10.1002/art.34440'), Document(id='b917e9df-ce05-4d61-9844-0be5d06aaf60', metadata={'source': 'fimmu-14-1145145.pdf'}, page_content='CITATION\\n\\nYun Z, Duan L, Liu X, Cai Q and Li C (2023) An update on the biologics for the treatment of antiphospholipid syndrome. Front. Immunol. 14:1145145. doi: 10.3389/fimmu.2023.1145145'), Document(id='cd2610d2-dad4-4940-96d6-2bb8495b39ee', metadata={'source': 'fimmu-14-1145145.pdf'}, page_content=\"108. Lonze BE, Zachary AA, Magro CM, Desai NM, Orandi BJ, Dagher NN, et al. Eculizumab prevents recurrent antiphospholipid antibody syndrome and enables successful renal transplantation. Am J Transpl (2014) 14(2):459–65. doi: 10.1111/ ajt.12540\\n\\n109. Geethakumari PR, Mille P, Gulati R, Nagalla S. Complement inhibition with eculizumab for thrombotic microangiopathy rescues a living-donor kidney transplant in a patient with antiphospholipid antibody syndrome. Transfus Apher Sci (2017) 56 (3):400–3. doi: 10.1016/j.transci.2017.02.007\\n\\n110. Bakhtar O, Thajudeen B, Braunhut BL, Yost SE, Bracamonte ER, Sussman AN, et al. A case of thrombotic microangiopathy associated with antiphospholipid antibody syndrome successfully treated with eculizumab. Transplantation (2014) 98(3):e17–8. doi: 10.1097/TP.0000000000000267\\n\\n111. Canaud G, Kamar N, Anglicheau D, Esposito L, Rabant M, Noël LH, et al. Eculizumab improves posttransplant thrombotic microangiopathy due to antiphospholipid syndrome recurrence but fails to prevent chronic vascular changes. Am J Transpl (2013) 13(8):2179–85. doi: 10.1111/ajt.12319\\n\\n112. Chidharla A, Syed SB, Chatterjee T, Tarantino MD. A case report of COVID- associated catastrophic antiphospholipid syndrome successfully treated with eculizumab. J Blood Med (2021) 12:929–33. doi: 10.2147/JBM.S324873\\n\\n113. Miyasaka N, Miura O, Kawaguchi T, Arima N, Morishita E, Usuki K, et al. Pregnancy outcomes of patients with paroxysmal nocturnal hemoglobinuria treated with eculizumab: a Japanese experience and updated review. Int J Hematol (2016) 103 (6):703–12. doi: 10.1007/s12185-016-1946-x\\n\\n114. Kelly RJ, Höchsmann B, Szer J, Kulasekararaj A, de Guibert S, Röth A, et al. Eculizumab in pregnant patients with paroxysmal nocturnal hemoglobinuria. N Engl J Med (2015) 373(11):1032–9. doi: 10.1056/NEJMoa1502950\\n\\n115. Stefanovic V. The extended use of eculizumab in pregnancy and complement Activation-Associated diseases affecting maternal, fetal and neonatal kidneys-the future is now? J Clin Med (2019) 8(3):407. doi: 10.3390/jcm8030407\\n\\n116. Gustavsen A, Skattum L, Bergseth G, Lorentzen B, Floisand Y, Bosnes V, et al. Effect on mother and child of eculizumab given before caesarean section in a patient with severe antiphospholipid syndrome: a case report. Med (Baltimore) (2017) 96(11): e6338. doi: 10.1097/MD.0000000000006338\\n\\n117. Rovere-Querini P, Canti V, Erra R, Bianchi E, Slaviero G, D'Angelo A, et al. Eculizumab in a pregnant patient with laboratory onset of catastrophic antiphospholipid syndrome: a case report. Med (Baltimore) (2018) 97(40):e12584. doi: 10.1097/MD.0000000000012584\\n\\n118. Dmytrijuk A, Robie-Suh K, Cohen MH, Rieves D, Weiss K, Pazdur R. FDA Report: eculizumab (Soliris) for the treatment of patients with paroxysmal nocturnal hemoglobinuria. Oncologist (2008) 13(9):993–1000. doi: 10.1634/theoncologist.2008- 0086\\n\\n119. Crum-Cianﬂone N, Sullivan E. Meningococcal vaccinations. Infect Dis Ther (2016) 5(2):89–112. doi: 10.1007/s40121-016-0107-0\"), Document(id='8e0569a1-a04b-4cae-bc55-0a724941c1dd', metadata={'source': 'fimmu-14-1145145.pdf'}, page_content='Limitations\\n\\nAfter receiving rituximab retreatment, two patients reported a thrombotic exacerbation. In both cases, it is believed that the immune complex, composed of rituximab and human anti- chimeric antibody (HACA), activated the complement process, resulting in a prothrombotic state in APS. Additionally, it is possible that infusion reactions contributed to the development of\\n\\nFrontiers in Immunology\\n\\n03\\n\\nfrontiersin.org\\n\\nYun et al.\\n\\n10.3389/ﬁmmu.2023.1145145\\n\\ntransverse myelitis in one of the patients (77). It is important to note that placental transfer of rituximab can affect the development of fetal and neonatal B cells, which could increase susceptibility to infections. Therefore, rituximab should be discontinued at least 6 months before conception (78). Other potential complications of rituximab treatment include neurological injury, infections, recurrence of arterial thromboembolic events, and rarely severe bone pain (79). However, long-term investigations have shown that adverse effects were consistent between the placebo and rituximab cohort, and serious infections or infusion reactions did not increase over time (80).\\n\\nBecause rituximab does not directly eliminate plasma cells, its use may lead to insufﬁcient suppression of aPL-producing plasma cells in patients with APS (81). In combination therapy, other treatments targeting plasma cells may be considered. Generally, rituximab is not recommended as a ﬁrst-line treatment for CAPS patients due to uncertainty regarding long-term efﬁcacy or adverse effects, as well as high cost (12, 82). The widespread utility of rituximab in aPL-positive patients still requires further investigation.'), Document(id='8ccccb84-d807-45f3-a0dc-49c326bf9b65', metadata={'source': 'fimmu-14-1145145.pdf'}, page_content='Clinical trials for various monoclonal antibodies\\n\\nWe have compiled information on clinical trials for various biologics that are either completed or still recruiting. This is due to the high-level of evidence classiﬁcation and recommendation in clinical trials. Some of these biologics have already been thoroughly introduced above, while others may be simply included due to their presently unknown effects.\\n\\nA completed phase II clinical trial focused on eculizumab enabling renal transplantation in patients with a history of APS or CAPS, but no results were posted (clinicaltrials.gov#: NCT01029587). In an open- label, prospective pilot study of rituximab in 19 patients with primary APS, although the decrease of aPL titers could not be observed, the rituximab was found to be effective in controlling noncriteria\\n\\nmanifestations such as skin ulcers, nephropathy, cognitive dysfunction, and thrombocytopenia. Twelve serious adverse events involving hospitalization in 7 patients were recorded (79). An ongoing open-label, prospective, phase II descriptive pilot trial is evaluating belimumab therapy for refractory or noncriteria manifestations of APS (clinicaltrials.gov#: NCT05020782). Additionally, a phase II clinical trial is currently evaluating the addition of certolizumab to usual treatment (a heparin agent and low-dose aspirin) in pregnant women with APS (clinicaltrials.gov#: NCT03152058).\\n\\nBruton tyrosine kinase (BTK) plays a signiﬁcant role in regulating B cell proliferation, survival, differentiation, and cytokine expression (138), as well as inﬂuencing platelet activation (139). As such, zanubrutinib, a BTK inhibitor, is being studied in a prospective, single-arm, open-label clinical trial for the treatment of APS with secondary thrombocytopenia (clinicaltrials.gov#: NCT05199909). Furthermore, an open-label, phase II trial investigating the use of the complement C5 inhibitor ALXN1007 for the treatment of noncriteria manifestations of APS was terminated due to low patient enrollment (clinicaltrials.gov#: NCT02128269).'), Document(id='d7ecfd2e-438a-4afa-aaab-1a594ffc0f56', metadata={'source': 'fimmu-14-1145145.pdf'}, page_content='Recommendations and limitations\\n\\nDaratumumab may be suitable for APS patients who are unresponsive to anticoagulant t herapy and s tandard immunosuppression (40, 41). Due to daratumumab’s ability to only suppress long-lived plasma cells, sustainable responses will rely on disallowing the regeneration of autoreactive plasma cells. Therefore, long-term maintenance therapies, such as belimumab may be required (41). While only a few case reports have provided rationales for targeting of CD38 in autoimmune diseases, large clinical trials, as well as appropriate treatment schedules and populations are still needed (41). It is worth noting that the\\n\\nFrontiers in Immunology\\n\\n05\\n\\nfrontiersin.org\\n\\nYun et al.\\n\\n10.3389/ﬁmmu.2023.1145145\\n\\nadverse effects of daratumumab on pregnancy or conception remain unknown.'), Document(id='2c6b0f52-96fb-4fe3-a361-e5f5a903c49e', metadata={'source': 'fimmu-14-1145145.pdf'}, page_content='Limitations\\n\\nCurrently, clinical data consists mainly of case reports or series, which may contain signiﬁcant bias. The 16th International Congress on aPL Task Force Report on APS Treatment Trends highlighted the importance of the addition of eculizumab for the treatment of CAPS, refractory APS with TMA, and obstetric APS (42). However, it remains to be proved whether general aPL- positive patients will respond effectively to eculizumab (92).\\n\\nIn addition, there are safety considerations in the administration of eculizumab, including Neisseria meningitis infections (118) and other encapsulated organisms (e.g., Streptococcus pneumoniae and Haemophilus inﬂuenza). Therefore, patients should be vaccinated prior to eculizumab treatment (119). Another concern is the extremely high cost, which exceeds $500,000 per year (120). Due to the high economic burden, the use of eculizumab in prevention of CASP should only be available when standard treatments have failed.')]\n"
     ]
    }
   ],
   "source": [
    "retriever = vector_store.as_retriever(\n",
    "    # search_type=os.getenv(\"RETRIEVER_SEARCH_TYPE\"),\n",
    "    search_kwargs={\"k\": 10},\n",
    ")\n",
    "print(retriever.invoke(\"What are some conclusions about anticoagulation\"))"
   ]
  },
  {
   "cell_type": "code",
   "execution_count": 130,
   "metadata": {},
   "outputs": [
    {
     "data": {
      "text/plain": [
       "[Document(id='939fb9dc-9811-45a1-aa2f-91b9115ff26c', metadata={'source': 'fimmu-14-1145145.pdf'}, page_content='Conclusions\\n\\nAlthough anticoagulation remains the cornerstone of APS treatment, signiﬁcant attention is being drawn towards studying a number of biologics. It is important to note that biologics are primarily reserved for patients with refractory APS or CAPS. However, the accuracy of biologics make them a promising option for the development of optimal therapies for personalized medicine. Innovative biologic-focused therapeutic approaches are being investigated to treat APS, which may ultimately reduce mortality rates among individuals with APS.'),\n",
       " Document(id='f907ed5c-4e2c-4881-81c1-7c29a2d6319b', metadata={'source': 'fimmu-14-1145145.pdf'}, page_content='References\\n\\n07\\n\\nfrontiersin.org\\n\\nYun et al.\\n\\n10.3389/ﬁmmu.2023.1145145\\n\\nantiphospholipid syndrome treatment trends. Lupus (2020) 29(12):1571–93. doi: 10.1177/0961203320950461\\n\\n43. Vega-Ostertag M, Liu X, Kwan-Ki H, Chen P, Pierangeli S. A human monoclonal antiprothrombin antibody is thrombogenic in vivo and upregulates expression of tissue factor and e-selectin on endothelial cells. Br J Haematol (2006) 135(2):214–9. doi: 10.1111/j.1365-2141.2006.06283.x\\n\\n44. Rand JH, Wu XX, Quinn AS, Ashton AW, Chen PP, Hathcock JJ, et al. Hydroxychloroquine protects the annexin A5 anticoagulant shield from disruption by antiphospholipid antibodies: evidence for a novel effect for an old antimalarial drug. Blood (2010) 115(11):2292–9. doi: 10.1182/blood-2009-04-213520\\n\\n45. Wahezi DM, Ilowite NT, Wu XX, Pelkmans L, Laat B, Schanberg LE, et al. Annexin A5 anticoagulant activity in children with systemic lupus erythematosus and the association with antibodies to domain I of b2-glycoprotein I. Lupus (2013) 22 (7):702–11. doi: 10.1177/0961203313490241\\n\\n46. Liestøl S, Sandset PM, Jacobsen EM, Mowinckel MC, Wisløff F. Decreased anticoagulant response to tissue factor pathway inhibitor type 1 in plasmas from patients with lupus anticoagulants. Br J Haematol (2007) 136(1):131–7. doi: 10.1111/ j.1365-2141.2006.06385.x\\n\\n47. Brandt KJ, Kruithof EK, de Moerloose P. Receptors involved in cell activation by antiphospholipid antibodies. Thromb Res (2013) 132(4):408–13. doi: 10.1016/ j.thromres.2013.08.015\\n\\n48. Zhou H, Chen D, Xie H, Xia L, Wang T, Yuan W, et al. Activation of MAPKs in the anti-b2GPI/b2GPI-induced tissue factor expression through TLR4/IRAKs pathway ( 2 0 1 2 ) 1 3 0 ( 4 ) : e 2 2 9 – 3 5 . d oi : 1 0 . 1 0 1 6 / i n T H P - 1 c e l l s . T h r o m b R e s j.thromres.2012.08.303\\n\\n49. Chighizola CB, Raschi E, Borghi MO, Meroni PL. Update on the pathogenesis and treatment of the antiphospholipid syndrome. Curr Opin Rheumatol (2015) 27 (5):476–82. doi: 10.1097/BOR.0000000000000200\\n\\n50. Proulle V, Furie RA, Merrill-Skoloff G, Furie BC, Furie B. Platelets are required for enhanced activation of the endothelium and ﬁbrinogen in a mouse thrombosis model of APS. Blood (2014) 124(4):611–22. doi: 10.1182/blood-2014-02-554980\\n\\n51. Khattri S, Zandman-Goddard G, Peeva E. B-cell directed therapies in antiphospholipid antibody syndrome–new directions based on murine and human data. Autoimmun Rev (2012) 11(10):717–22. doi: 10.1016/j.autrev.2011.12.011\\n\\n52. Emmi G, Urban ML, Scalera A, Becatti M, Fiorillo C, Silvestri E, et al. Repeated low-dose courses of rituximab in SLE-associated antiphospholipid syndrome: data from a tertiary dedicated centre. Semin Arthritis Rheumatol (2017) 46(4):e21–e3. doi: 10.1016/j.semarthrit.2016.08.002'),\n",
       " Document(id='8ccccb84-d807-45f3-a0dc-49c326bf9b65', metadata={'source': 'fimmu-14-1145145.pdf'}, page_content='Clinical trials for various monoclonal antibodies\\n\\nWe have compiled information on clinical trials for various biologics that are either completed or still recruiting. This is due to the high-level of evidence classiﬁcation and recommendation in clinical trials. Some of these biologics have already been thoroughly introduced above, while others may be simply included due to their presently unknown effects.\\n\\nA completed phase II clinical trial focused on eculizumab enabling renal transplantation in patients with a history of APS or CAPS, but no results were posted (clinicaltrials.gov#: NCT01029587). In an open- label, prospective pilot study of rituximab in 19 patients with primary APS, although the decrease of aPL titers could not be observed, the rituximab was found to be effective in controlling noncriteria\\n\\nmanifestations such as skin ulcers, nephropathy, cognitive dysfunction, and thrombocytopenia. Twelve serious adverse events involving hospitalization in 7 patients were recorded (79). An ongoing open-label, prospective, phase II descriptive pilot trial is evaluating belimumab therapy for refractory or noncriteria manifestations of APS (clinicaltrials.gov#: NCT05020782). Additionally, a phase II clinical trial is currently evaluating the addition of certolizumab to usual treatment (a heparin agent and low-dose aspirin) in pregnant women with APS (clinicaltrials.gov#: NCT03152058).\\n\\nBruton tyrosine kinase (BTK) plays a signiﬁcant role in regulating B cell proliferation, survival, differentiation, and cytokine expression (138), as well as inﬂuencing platelet activation (139). As such, zanubrutinib, a BTK inhibitor, is being studied in a prospective, single-arm, open-label clinical trial for the treatment of APS with secondary thrombocytopenia (clinicaltrials.gov#: NCT05199909). Furthermore, an open-label, phase II trial investigating the use of the complement C5 inhibitor ALXN1007 for the treatment of noncriteria manifestations of APS was terminated due to low patient enrollment (clinicaltrials.gov#: NCT02128269).'),\n",
       " Document(id='b917e9df-ce05-4d61-9844-0be5d06aaf60', metadata={'source': 'fimmu-14-1145145.pdf'}, page_content='CITATION\\n\\nYun Z, Duan L, Liu X, Cai Q and Li C (2023) An update on the biologics for the treatment of antiphospholipid syndrome. Front. Immunol. 14:1145145. doi: 10.3389/fimmu.2023.1145145'),\n",
       " Document(id='7abefa48-04ab-464b-952e-c376b940fc91', metadata={'source': 'fimmu-14-1145145.pdf'}, page_content='86. Alvarez-Rodriguez L, Riancho-Zarrabeitia L, Calvo-Alén J, López-Hoyos M, Martı́nez-Taboada V. Peripheral b-cell subset distribution in primary antiphospholipid syndrome. Int J Mol Sci (2018) 19(2):589. doi: 10.3390/ijms19020589\\n\\n87. van den Hoogen LL, Palla G, Bekker CPJ, Fritsch-Stork RDE, Radstake T, van Roon JAG. Increased b-cell activating factor (BAFF)/B-lymphocyte stimulator (BLyS) in primary antiphospholipid syndrome is associated with higher adjusted global antiphospholipid syndrome scores. RMD Open (2018) 4(2):e000693. doi: 10.1136/ rmdopen-2018-000693\\n\\n88. Kahn P, Ramanujam M, Bethunaickan R, Huang W, Tao H, Madaio MP, et al. Prevention of murine antiphospholipid syndrome by BAFF blockade. Arthritis Rheumatol (2008) 58(9):2824–34. doi: 10.1002/art.23764\\n\\n89. Yoshizuka R, Hasegawa H, Kamiya M, Umezawa N, Yasuda S. Refractory antiphospholipid antibody syndrome-induced thrombocytopaenia successfully treated with belimumab. Lupus (2022) 31(5):624–7. doi: 10.1177/09612033221089138\\n\\n90. Powell M, Hill D, Eudy A, Landy H, Petri M. OP0041 pregnancy outcomes for systemic lupus erythematosus (SLE) subjects with conception during belimumab intravenous (IV) and subcutaneous (SC) placebo-controlled clinical trials and long term extension trials. Ann Rheumatic Dis (2014) 73(Suppl 2):75–6. doi: 10.1136/ annrheumdis-2014-eular.4484\\n\\n91. Kello N, Khoury LE, Marder G, Furie R, Zapantis E, Horowitz DL. Secondary thrombotic microangiopathy in systemic lupus erythematosus and antiphospholipid syndrome, the role of complement and use of eculizumab: case series and review of literature. Semin Arthritis Rheumatol (2019) 49(1):74–83. doi: 10.1016/ j.semarthrit.2018.11.005\\n\\n92. Erkan D, Salmon JE. The role of complement inhibition in thrombotic angiopathies and antiphospholipid syndrome. Turk J Haematol (2016) 33(1):1–7. doi: 10.4274/tjh.2015.0197\\n\\n93. Chaturvedi S, Braunstein EM, Yuan X, Yu J, Alexander A, Chen H, et al. Complement activity and complement regulatory gene mutations are associated with thrombosis in APS and CAPS. Blood (2020) 135(4):239–51. doi: 10.1182/ blood.2019003863\\n\\n94. Trouw LA, Pickering MC, Blom AM. The complement system as a potential therapeutic target in rheumatic disease. Nat Rev Rheumatol (2017) 13(9):538–47. doi: 10.1038/nrrheum.2017.125\\n\\n95. Romay-Penabad Z, Liu XX, Montiel-Manzano G, De Martinez EP, Pierangeli SS. C5a receptor-deﬁcient mice are protected from thrombophilia and endothelial cell activation induced by some antiphospholipid antibodies. Ann New York Acad Sci (2007) 1108(1):554–66. doi: 10.1196/annals.1422.058\\n\\n96. Shapira I, Andrade D, Allen SL, Salmon JE. Brief report: induction of sustained remission in recurrent catastrophic antiphospholipid syndrome via inhibition of terminal complement with eculizumab. Arthritis Rheumatol (2012) 64(8):2719–23. doi: 10.1002/art.34440'),\n",
       " Document(id='d7a91249-a187-43a3-b8fb-b0d23a931214', metadata={'source': 'fimmu-14-1145145.pdf'}, page_content='Introduction\\n\\nAntiphospholipid syndrome (APS) is a systemic autoimmune disease, characterized by thrombosis or recurrent pregnancy morbidity, with the persistent presence of antiphospholipid antibodies (aPLs) (1, 2). APS can occur as an isolated condition (primary APS, PAPS) or secondary to systemic lupus erythematosus (SLE) or other rheumatic diseases (SAPS) (3, 4).\\n\\nThe clinical manifestations of APS include thrombosis, obstetrical complications and “noncriteria” manifestations (2). Thrombosis can cause occlusive events in venous, arterial, or microvascular systems (5). Catastrophic APS (CAPS) affects approximately 1% of APS patients and can cause multiple thromboses of medium and small arteries, leading to fulminant multiple vital organ dysfunction (6–9). Obstetrical complications often involve unexplained, consecutive spontaneous abortions, fetal death, or premature birth due to eclampsia, severe preeclampsia, and intrauterine growth restriction (3, 10, 11). In addition, other clinical manifestations, known as “noncriteria” manifestations, include\\n\\nFrontiers in Immunology\\n\\n01\\n\\nfrontiersin.org\\n\\nYun et al.\\n\\n10.3389/ﬁmmu.2023.1145145\\n\\nthrombocytopenia (2), hemolytic anemia (5), livedo reticularis (12), accelerated atherosclerosis and cardiac valve disease (13), nephropathy (14), neurological impairment (2), and bone necrosis (12).\\n\\nAnticoagulation therapy is considered a fundamental cornerstone of APS management (15). However, conventional prevention and treatment strategies fail in approximately 20-30% of obstetric APS and more than 30% of thrombotic APS cases (16, 17). Furthermore, traditional medications are often ineffective in treating CAPS, refractory APS, and noncriteria manifestations (1, 2, 18–20).\\n\\nThe understanding of APS pathogenesis has grown in recent years, prompting investigation into new targeted therapies (2, 7). Multiple mechanisms have been proposed, such as B cell-mediated production of aPLs, particularly anti-b2-glycoprotein I antibody (21, 22); activation of complement (23–26); and stimulation of endothelial cells (27), platelets (28, 29), neutrophils (30, 31), and monocytes (32). This review focuses on biologics as potential targeted therapies for APS based on its underlying mechanisms. We will discuss possible biologics beyond antithrombotic agents (Table 1).'),\n",
       " Document(id='cd2610d2-dad4-4940-96d6-2bb8495b39ee', metadata={'source': 'fimmu-14-1145145.pdf'}, page_content=\"108. Lonze BE, Zachary AA, Magro CM, Desai NM, Orandi BJ, Dagher NN, et al. Eculizumab prevents recurrent antiphospholipid antibody syndrome and enables successful renal transplantation. Am J Transpl (2014) 14(2):459–65. doi: 10.1111/ ajt.12540\\n\\n109. Geethakumari PR, Mille P, Gulati R, Nagalla S. Complement inhibition with eculizumab for thrombotic microangiopathy rescues a living-donor kidney transplant in a patient with antiphospholipid antibody syndrome. Transfus Apher Sci (2017) 56 (3):400–3. doi: 10.1016/j.transci.2017.02.007\\n\\n110. Bakhtar O, Thajudeen B, Braunhut BL, Yost SE, Bracamonte ER, Sussman AN, et al. A case of thrombotic microangiopathy associated with antiphospholipid antibody syndrome successfully treated with eculizumab. Transplantation (2014) 98(3):e17–8. doi: 10.1097/TP.0000000000000267\\n\\n111. Canaud G, Kamar N, Anglicheau D, Esposito L, Rabant M, Noël LH, et al. Eculizumab improves posttransplant thrombotic microangiopathy due to antiphospholipid syndrome recurrence but fails to prevent chronic vascular changes. Am J Transpl (2013) 13(8):2179–85. doi: 10.1111/ajt.12319\\n\\n112. Chidharla A, Syed SB, Chatterjee T, Tarantino MD. A case report of COVID- associated catastrophic antiphospholipid syndrome successfully treated with eculizumab. J Blood Med (2021) 12:929–33. doi: 10.2147/JBM.S324873\\n\\n113. Miyasaka N, Miura O, Kawaguchi T, Arima N, Morishita E, Usuki K, et al. Pregnancy outcomes of patients with paroxysmal nocturnal hemoglobinuria treated with eculizumab: a Japanese experience and updated review. Int J Hematol (2016) 103 (6):703–12. doi: 10.1007/s12185-016-1946-x\\n\\n114. Kelly RJ, Höchsmann B, Szer J, Kulasekararaj A, de Guibert S, Röth A, et al. Eculizumab in pregnant patients with paroxysmal nocturnal hemoglobinuria. N Engl J Med (2015) 373(11):1032–9. doi: 10.1056/NEJMoa1502950\\n\\n115. Stefanovic V. The extended use of eculizumab in pregnancy and complement Activation-Associated diseases affecting maternal, fetal and neonatal kidneys-the future is now? J Clin Med (2019) 8(3):407. doi: 10.3390/jcm8030407\\n\\n116. Gustavsen A, Skattum L, Bergseth G, Lorentzen B, Floisand Y, Bosnes V, et al. Effect on mother and child of eculizumab given before caesarean section in a patient with severe antiphospholipid syndrome: a case report. Med (Baltimore) (2017) 96(11): e6338. doi: 10.1097/MD.0000000000006338\\n\\n117. Rovere-Querini P, Canti V, Erra R, Bianchi E, Slaviero G, D'Angelo A, et al. Eculizumab in a pregnant patient with laboratory onset of catastrophic antiphospholipid syndrome: a case report. Med (Baltimore) (2018) 97(40):e12584. doi: 10.1097/MD.0000000000012584\\n\\n118. Dmytrijuk A, Robie-Suh K, Cohen MH, Rieves D, Weiss K, Pazdur R. FDA Report: eculizumab (Soliris) for the treatment of patients with paroxysmal nocturnal hemoglobinuria. Oncologist (2008) 13(9):993–1000. doi: 10.1634/theoncologist.2008- 0086\\n\\n119. Crum-Cianﬂone N, Sullivan E. Meningococcal vaccinations. Infect Dis Ther (2016) 5(2):89–112. doi: 10.1007/s40121-016-0107-0\"),\n",
       " Document(id='d4870cdb-565c-4f2d-a507-a7f785f38de2', metadata={'source': 'fimmu-14-1145145.pdf'}, page_content='KEYWORDS\\n\\nbiologics, antiphospholipid syndrome, eculizumab, rituximab, belimumab, daratumumab, anti-TNF-a antibodies, obinutuzumab'),\n",
       " Document(id='92459e98-efa5-40ea-8443-e16aa9bbdd38', metadata={'source': 'fimmu-14-1145145.pdf'}, page_content='97. López-Benjume B, Rodrı́guez-Pintó I, Amigo MC, Erkan D, Shoenfeld Y, Cervera R, et al. Eculizumab use in catastrophic antiphospholipid syndrome (CAPS): descriptive analysis from the \"CAPS registry\". Autoimmun Rev (2022) 21(4):103055. doi: 10.1016/j.autrev.2022.103055\\n\\n98. Kronbichler A, Frank R, Kirschﬁnk M, Szilágyi A , Csuka D, Prohászka Z, et al. Efﬁcacy of eculizumab in a patient with immunoadsorption-dependent catastrophic antiphospholipid syndrome: a case report. Med (Baltimore) (2014) 93(26):e143. doi: 10.1097/MD.0000000000000143\\n\\n99. Zikos TA, Sokolove J, Ahuja N, Berube C. Eculizumab induces sustained remission in a patient with refractory primary catastrophic antiphospholipid syndrome. J Clin Rheumatol (2015) 21(6):311–3. doi: 10.1097/RHU.0000000000000290\\n\\n100. Strakhan M, Hurtado-Sbordoni M, Galeas N, Bakirhan K, Alexis K, Elrafei T. 36-year-old female with catastrophic antiphospholipid syndrome treated with eculizumab: a case report and review of literature. Case Rep Hematol (2014) 2014:704371. doi: 10.1155/2014/704371\\n\\n101. Guillot M, Rafat C, Buob D, Coppo P, Jamme M, Rondeau E, et al. Eculizumab for catastrophic antiphospholipid syndrome-a case report and literature review. Rheumatol (Oxford) (2018) 57(11):2055–7. doi: 10.1093/rheumatology/key228\\n\\n102. Tinti MG, Carnevale V, Inglese M, Molinaro F, Bernal M, Migliore A, et al. Eculizumab in refractory catastrophic antiphospholipid syndrome: a case report and systematic review of the literature. Clin Exp Med (2019) 19(3):281–8. doi: 10.1007/ s10238-019-00565-8\\n\\n103. Nauseef JT, Lim HI, DeSancho MT. Successful outcome with eculizumab treatment in a patient with antiphospholipid syndrome presenting with an unusual thrombotic storm. J Thromb Thrombolysis (2021) 52(2):597–600. doi: 10.1007/s11239- 020-02343-w\\n\\n104. Wig S, Chan M, Thachil J, Bruce I, Barnes T. A case of relapsing and refractory catastrophic anti-phospholipid syndrome successfully managed with eculizumab, a complement 5 inhibitor. Rheumatol (Oxford) (2016) 55(2):382–4. doi: 10.1093/ rheumatology/kev371\\n\\n105. Skoczynska M, Crowther MA, Chowaniec M, Ponikowska M, Chaturvedi S, Legault K. Thrombotic microangiopathy in the course of catastrophic antiphospholipid\\n\\nsyndrome successfully treated with eculizumab: case report and systematic review of the literature. Lupus (2020) 29(6):631–9. doi: 10.1177/0961203320917460\\n\\n106. de Holanda MI, Pôrto LC, Wagner T, Christiani LF, Palma LMP. Use of eculizumab in a systemic lupus erythemathosus patient presenting thrombotic microangiopathy and heterozygous deletion in CFHR1-CFHR3. A Case Rep Systematic Rev Clin Rheumatol (2017) 36(12):2859–67. doi: 10.1007/s10067-017- 3823-2\\n\\n107. Lonze BE, Singer AL, Montgomery RA. Eculizumab and renal transplantation in a patient with CAPS. N Engl J Med (2010) 362(18):1744–5. doi: 10.1056/ NEJMc0910965'),\n",
       " Document(id='c2149ba6-a239-429e-ae6e-7cea9bf4cc71', metadata={'source': 'fimmu-14-1145145.pdf'}, page_content='Application in obstetric APS\\n\\nIn a recent case series, eighteen aPL-positive women with obstetric APS which were refractory to low molecular weight heparin, aspirin, and hydroxychloroquine were treated with adalimumab or certolizumab. Positive obstetric results were obtained in 70% of patients. TNF-a blockers were all well tolerated without adverse effects (133).')]"
      ]
     },
     "execution_count": 130,
     "metadata": {},
     "output_type": "execute_result"
    }
   ],
   "source": [
    "retriever.invoke(\"{'query': 'anticoagulation conclusions'}\")\n"
   ]
  },
  {
   "cell_type": "code",
   "execution_count": null,
   "metadata": {},
   "outputs": [],
   "source": []
  }
 ],
 "metadata": {
  "kernelspec": {
   "display_name": ".venv",
   "language": "python",
   "name": "python3"
  },
  "language_info": {
   "codemirror_mode": {
    "name": "ipython",
    "version": 3
   },
   "file_extension": ".py",
   "mimetype": "text/x-python",
   "name": "python",
   "nbconvert_exporter": "python",
   "pygments_lexer": "ipython3",
   "version": "3.11.9"
  }
 },
 "nbformat": 4,
 "nbformat_minor": 2
}
