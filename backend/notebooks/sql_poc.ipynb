{
 "cells": [
  {
   "cell_type": "code",
   "execution_count": 1,
   "metadata": {},
   "outputs": [
    {
     "name": "stdout",
     "output_type": "stream",
     "text": [
      "/Users/ducdo/Repo/Demo\n"
     ]
    }
   ],
   "source": [
    "import sys\n",
    "import os\n",
    "\n",
    "# Get the current working directory\n",
    "current_dir = os.getcwd()\n",
    "\n",
    "# Construct the path to the 'Demo' directory, two levels up\n",
    "demo_path = os.path.abspath(os.path.join(current_dir, \"../..\"))\n",
    "print(demo_path)\n",
    "# Add the 'Demo' directory to the Python path\n",
    "sys.path.append(demo_path)\n"
   ]
  },
  {
   "cell_type": "markdown",
   "metadata": {},
   "source": [
    "# Import modules\n"
   ]
  },
  {
   "cell_type": "code",
   "execution_count": 2,
   "metadata": {},
   "outputs": [],
   "source": [
    "from langchain_community.utilities import SQLDatabase\n",
    "from backend.config import CONNECTION_STRING"
   ]
  },
  {
   "cell_type": "markdown",
   "metadata": {},
   "source": [
    "# Set up database connection\n"
   ]
  },
  {
   "cell_type": "code",
   "execution_count": 3,
   "metadata": {},
   "outputs": [
    {
     "name": "stderr",
     "output_type": "stream",
     "text": [
      "/Users/ducdo/Repo/Demo/.venv/lib/python3.12/site-packages/langchain_community/utilities/sql_database.py:123: SAWarning: Did not recognize type 'vector' of column 'embedding'\n",
      "  self._metadata.reflect(\n"
     ]
    }
   ],
   "source": [
    "db = SQLDatabase.from_uri(CONNECTION_STRING, sample_rows_in_table_info=3)\n"
   ]
  },
  {
   "cell_type": "code",
   "execution_count": 15,
   "metadata": {},
   "outputs": [
    {
     "name": "stdout",
     "output_type": "stream",
     "text": [
      "postgresql\n",
      "['alembic_version', 'document', 'evaluation', 'item', 'langchain_pg_collection', 'langchain_pg_embedding', 'purchase_history', 'search_query', 'user']\n"
     ]
    }
   ],
   "source": [
    "print(db.dialect)\n",
    "print(db.get_usable_table_names())\n"
   ]
  },
  {
   "cell_type": "markdown",
   "metadata": {},
   "source": [
    "# Get context\n"
   ]
  },
  {
   "cell_type": "code",
   "execution_count": 20,
   "metadata": {},
   "outputs": [
    {
     "name": "stdout",
     "output_type": "stream",
     "text": [
      "{'table_info': '\\nCREATE TABLE \"user\" (\\n\\tname VARCHAR NOT NULL, \\n\\temail VARCHAR NOT NULL, \\n\\tphone_number VARCHAR NOT NULL, \\n\\taddress VARCHAR NOT NULL, \\n\\tuser_id SERIAL NOT NULL, \\n\\tcreated_at TIMESTAMP WITHOUT TIME ZONE NOT NULL, \\n\\tupdated_at TIMESTAMP WITHOUT TIME ZONE NOT NULL, \\n\\tCONSTRAINT user_pkey PRIMARY KEY (user_id)\\n)\\n\\n/*\\n3 rows from user table:\\nname\\temail\\tphone_number\\taddress\\tuser_id\\tcreated_at\\tupdated_at\\nJohn Doe\\tjohn@example.com\\t1234567890\\t123 Main St\\t1\\t2024-08-27 15:04:05.980881\\t2024-08-27 15:04:05.980892\\nMary Smith\\tmary@example.com\\t0987654321\\t456 Elm St\\t2\\t2024-08-27 15:04:05.981068\\t2024-08-27 15:04:05.981072\\n*/\\n\\n\\nCREATE TABLE alembic_version (\\n\\tversion_num VARCHAR(32) NOT NULL, \\n\\tCONSTRAINT alembic_version_pkc PRIMARY KEY (version_num)\\n)\\n\\n/*\\n3 rows from alembic_version table:\\nversion_num\\nb72fd792d675\\n*/\\n\\n\\nCREATE TABLE document (\\n\\tsource VARCHAR NOT NULL, \\n\\ttitle VARCHAR NOT NULL, \\n\\tdescription VARCHAR, \\n\\tlanguage VARCHAR NOT NULL, \\n\\tpage_content VARCHAR NOT NULL, \\n\\tid SERIAL NOT NULL, \\n\\tCONSTRAINT document_pkey PRIMARY KEY (id)\\n)\\n\\n/*\\n3 rows from document table:\\nsource\\ttitle\\tdescription\\tlanguage\\tpage_content\\tid\\nhttps://www.usebutton.com/\\tButton - Powering the commerce-driven internet\\tButton empowers the world\\'s biggest Brands to supercharge their mobile marketing and ad performance \\tNo language found.\\tButton - Powering the commerce-driven internetSolutionsButton Retail MediaFor PublishersFor Retailer\\t78\\nhttps://www.usebutton.com/retail-media\\tButton for Retail Media\\tNone\\tNo language found.\\tButton for Retail MediaSolutionsButton Retail MediaFor PublishersFor RetailersFor CreatorsButton Mar\\t79\\nhttps://www.usebutton.com/for-publishers\\tFor Publishers\\tNone\\tNo language found.\\tFor PublishersSolutionsButton Retail MediaFor PublishersFor RetailersFor CreatorsButton MarketplaceC\\t80\\n*/\\n\\n\\nCREATE TABLE evaluation (\\n\\tquestion VARCHAR NOT NULL, \\n\\tanswer VARCHAR NOT NULL, \\n\\tsource VARCHAR NOT NULL, \\n\\tid SERIAL NOT NULL, \\n\\tCONSTRAINT evaluation_pkey PRIMARY KEY (id)\\n)\\n\\n/*\\n3 rows from evaluation table:\\nquestion\\tanswer\\tsource\\tid\\nq1\\ta1\\ts1\\t1\\nq2\\ta1\\ts1\\t2\\n*/\\n\\n\\nCREATE TABLE item (\\n\\titem_name VARCHAR NOT NULL, \\n\\tcategory VARCHAR NOT NULL, \\n\\tprice DOUBLE PRECISION NOT NULL, \\n\\tbrand VARCHAR NOT NULL, \\n\\tcolor VARCHAR NOT NULL, \\n\\tsize VARCHAR NOT NULL, \\n\\timage_url VARCHAR NOT NULL, \\n\\tdescription VARCHAR NOT NULL, \\n\\titem_id SERIAL NOT NULL, \\n\\tcreated_at TIMESTAMP WITHOUT TIME ZONE NOT NULL, \\n\\tupdated_at TIMESTAMP WITHOUT TIME ZONE NOT NULL, \\n\\tCONSTRAINT item_pkey PRIMARY KEY (item_id)\\n)\\n\\n/*\\n3 rows from item table:\\nitem_name\\tcategory\\tprice\\tbrand\\tcolor\\tsize\\timage_url\\tdescription\\titem_id\\tcreated_at\\tupdated_at\\nRunning Shoe\\tFootwear\\t89.99\\tNike\\tBlue\\t10\\thttps://example.com/nike_shoe.jpg\\tComfortable running shoe\\t1\\t2024-08-27 15:04:06.031115\\t2024-08-27 15:04:06.031121\\nCasual Sneaker\\tFootwear\\t59.99\\tAdidas\\tWhite\\t9\\thttps://example.com/adidas_sneaker.jpg\\tStylish casual sneaker\\t2\\t2024-08-27 15:04:06.031270\\t2024-08-27 15:04:06.031273\\nHiking Boot\\tFootwear\\t129.99\\tMerrell\\tBrown\\t11\\thttps://example.com/merrell_boot.jpg\\tDurable hiking boot\\t3\\t2024-08-27 15:04:06.031371\\t2024-08-27 15:04:06.031374\\n*/\\n\\n\\nCREATE TABLE langchain_pg_collection (\\n\\tuuid UUID NOT NULL, \\n\\tname VARCHAR NOT NULL, \\n\\tcmetadata JSON, \\n\\tCONSTRAINT langchain_pg_collection_pkey PRIMARY KEY (uuid), \\n\\tCONSTRAINT langchain_pg_collection_name_key UNIQUE (name)\\n)\\n\\n/*\\n3 rows from langchain_pg_collection table:\\nuuid\\tname\\tcmetadata\\nc31754cd-5d75-4d75-8e14-fab4bcfcfe2e\\tscraped\\tNone\\n*/\\n\\n\\nCREATE TABLE langchain_pg_embedding (\\n\\tid VARCHAR NOT NULL, \\n\\tcollection_id UUID, \\n\\tdocument VARCHAR, \\n\\tcmetadata JSONB, \\n\\tCONSTRAINT langchain_pg_embedding_pkey PRIMARY KEY (id), \\n\\tCONSTRAINT langchain_pg_embedding_collection_id_fkey FOREIGN KEY(collection_id) REFERENCES langchain_pg_collection (uuid) ON DELETE CASCADE\\n)\\n\\n/*\\n3 rows from langchain_pg_embedding table:\\nid\\tcollection_id\\tdocument\\tcmetadata\\ne9ec5a2a-def1-41ee-b19f-f8c6610e1553\\tc31754cd-5d75-4d75-8e14-fab4bcfcfe2e\\tButton - Powering the commerce-driven internetSolutionsButton Retail MediaFor PublishersFor Retailer\\t{\\'title\\': \\'Button - Powering the commerce-driven internet\\', \\'source\\': \\'https://www.usebutton.com/\\', \\n94acb242-8295-470f-b181-f82f83aad052\\tc31754cd-5d75-4d75-8e14-fab4bcfcfe2e\\tcreator and app tracking platforms lack reliability for today\\'s marketing models. Button optimizes \"\\t{\\'title\\': \\'Button - Powering the commerce-driven internet\\', \\'source\\': \\'https://www.usebutton.com/\\', \\nd281f5c4-73ea-4bdd-9731-6257ec37a601\\tc31754cd-5d75-4d75-8e14-fab4bcfcfe2e\\tcare most about with integration options that require no code. AI-Enhanced OptimizationLeveraging AI\\t{\\'title\\': \\'Button - Powering the commerce-driven internet\\', \\'source\\': \\'https://www.usebutton.com/\\', \\n*/\\n\\n\\nCREATE TABLE purchase_history (\\n\\tquantity INTEGER NOT NULL, \\n\\tpurchase_date TIMESTAMP WITHOUT TIME ZONE NOT NULL, \\n\\ttotal_price DOUBLE PRECISION NOT NULL, \\n\\tpurchase_id SERIAL NOT NULL, \\n\\tuser_id INTEGER NOT NULL, \\n\\titem_id INTEGER NOT NULL, \\n\\tCONSTRAINT purchase_history_pkey PRIMARY KEY (purchase_id), \\n\\tCONSTRAINT purchase_history_item_id_fkey FOREIGN KEY(item_id) REFERENCES item (item_id), \\n\\tCONSTRAINT purchase_history_user_id_fkey FOREIGN KEY(user_id) REFERENCES \"user\" (user_id)\\n)\\n\\n/*\\n3 rows from purchase_history table:\\nquantity\\tpurchase_date\\ttotal_price\\tpurchase_id\\tuser_id\\titem_id\\n1\\t2024-08-22 15:04:06.044731\\t89.99\\t1\\t1\\t1\\n1\\t2024-08-24 15:04:06.046605\\t129.99\\t2\\t2\\t5\\n2\\t2024-08-26 15:04:06.047675\\t11.98\\t3\\t1\\t7\\n*/\\n\\n\\nCREATE TABLE search_query (\\n\\tquery_text VARCHAR NOT NULL, \\n\\tquery_id SERIAL NOT NULL, \\n\\tuser_id INTEGER NOT NULL, \\n\\tcreated_at TIMESTAMP WITHOUT TIME ZONE NOT NULL, \\n\\tresult_item_ids INTEGER[], \\n\\tCONSTRAINT search_query_pkey PRIMARY KEY (query_id), \\n\\tCONSTRAINT search_query_user_id_fkey FOREIGN KEY(user_id) REFERENCES \"user\" (user_id)\\n)\\n\\n/*\\n3 rows from search_query table:\\nquery_text\\tquery_id\\tuser_id\\tcreated_at\\tresult_item_ids\\n\\n*/', 'table_names': 'alembic_version, document, evaluation, item, langchain_pg_collection, langchain_pg_embedding, purchase_history, search_query, user'}\n",
      "dict_keys(['table_info', 'table_names'])\n"
     ]
    }
   ],
   "source": [
    "# Get context\n",
    "context = db.get_context()\n",
    "print(context)\n",
    "print(context.keys())\n"
   ]
  },
  {
   "cell_type": "code",
   "execution_count": 19,
   "metadata": {},
   "outputs": [
    {
     "name": "stdout",
     "output_type": "stream",
     "text": [
      "\n",
      "CREATE TABLE \"user\" (\n",
      "\tname VARCHAR NOT NULL, \n",
      "\temail VARCHAR NOT NULL, \n",
      "\tphone_number VARCHAR NOT NULL, \n",
      "\taddress VARCHAR NOT NULL, \n",
      "\tuser_id SERIAL NOT NULL, \n",
      "\tcreated_at TIMESTAMP WITHOUT TIME ZONE NOT NULL, \n",
      "\tupdated_at TIMESTAMP WITHOUT TIME ZONE NOT NULL, \n",
      "\tCONSTRAINT user_pkey PRIMARY KEY (user_id)\n",
      ")\n",
      "\n",
      "/*\n",
      "3 rows from user table:\n",
      "name\temail\tphone_number\taddress\tuser_id\tcreated_at\tupdated_at\n",
      "John Doe\tjohn@example.com\t1234567890\t123 Main St\t1\t2024-08-27 15:04:05.980881\t2024-08-27 15:04:05.980892\n",
      "Mary Smith\tmary@example.com\t0987654321\t456 Elm St\t2\t2024-08-27 15:04:05.981068\t2024-08-27 15:04:05.981072\n",
      "*/\n",
      "\n",
      "\n",
      "CREATE TABLE alembic_version (\n",
      "\tversion_num VARCHAR(32) NOT NULL, \n",
      "\tCONSTRAINT alembic_version_pkc PRIMARY KEY (version_num)\n",
      ")\n",
      "\n",
      "/*\n",
      "3 rows from alembic_version table:\n",
      "version_num\n",
      "b72fd792d675\n",
      "*/\n",
      "\n",
      "\n",
      "CREATE TABLE document (\n",
      "\tsource VARCHAR NOT NULL, \n",
      "\ttitle VARCHAR NOT NULL, \n",
      "\tdescription VARCHAR, \n",
      "\tlanguage VARCHAR NOT NULL, \n",
      "\tpage_content VARCHAR NOT NULL, \n",
      "\tid SERIAL NOT NULL, \n",
      "\tCONSTRAINT document_pkey PRIMARY KEY (id)\n",
      ")\n",
      "\n",
      "/*\n",
      "3 rows from document table:\n",
      "source\ttitle\tdescription\tlanguage\tpage_content\tid\n",
      "https://www.usebutton.com/\tButton - Powering the commerce-driven internet\tButton empowers the world's biggest Brands to supercharge their mobile marketing and ad performance \tNo language found.\tButton - Powering the commerce-driven internetSolutionsButton Retail MediaFor PublishersFor Retailer\t78\n",
      "https://www.usebutton.com/retail-media\tButton for Retail Media\tNone\tNo language found.\tButton for Retail MediaSolutionsButton Retail MediaFor PublishersFor RetailersFor CreatorsButton Mar\t79\n",
      "https://www.usebutton.com/for-publishers\tFor Publishers\tNone\tNo language found.\tFor PublishersSolutionsButton Retail MediaFor PublishersFor RetailersFor CreatorsButton MarketplaceC\t80\n",
      "*/\n",
      "\n",
      "\n",
      "CREATE TABLE evaluation (\n",
      "\tquestion VARCHAR NOT NULL, \n",
      "\tanswer VARCHAR NOT NULL, \n",
      "\tsource VARCHAR NOT NULL, \n",
      "\tid SERIAL NOT NULL, \n",
      "\tCONSTRAINT evaluation_pkey PRIMARY KEY (id)\n",
      ")\n",
      "\n",
      "/*\n",
      "3 rows from evaluation table:\n",
      "question\tanswer\tsource\tid\n",
      "q1\ta1\ts1\t1\n",
      "q2\ta1\ts1\t2\n",
      "*/\n",
      "\n",
      "\n",
      "CREATE TABLE item (\n",
      "\titem_name VARCHAR NOT NULL, \n",
      "\tcategory VARCHAR NOT NULL, \n",
      "\tprice DOUBLE PRECISION NOT NULL, \n",
      "\tbrand VARCHAR NOT NULL, \n",
      "\tcolor VARCHAR NOT NULL, \n",
      "\tsize VARCHAR NOT NULL, \n",
      "\timage_url VARCHAR NOT NULL, \n",
      "\tdescription VARCHAR NOT NULL, \n",
      "\titem_id SERIAL NOT NULL, \n",
      "\tcreated_at TIMESTAMP WITHOUT TIME ZONE NOT NULL, \n",
      "\tupdated_at TIMESTAMP WITHOUT TIME ZONE NOT NULL, \n",
      "\tCONSTRAINT item_pkey PRIMARY KEY (item_id)\n",
      ")\n",
      "\n",
      "/*\n",
      "3 rows from item table:\n",
      "item_name\tcategory\tprice\tbrand\tcolor\tsize\timage_url\tdescription\titem_id\tcreated_at\tupdated_at\n",
      "Running Shoe\tFootwear\t89.99\tNike\tBlue\t10\thttps://example.com/nike_shoe.jpg\tComfortable running shoe\t1\t2024-08-27 15:04:06.031115\t2024-08-27 15:04:06.031121\n",
      "Casual Sneaker\tFootwear\t59.99\tAdidas\tWhite\t9\thttps://example.com/adidas_sneaker.jpg\tStylish casual sneaker\t2\t2024-08-27 15:04:06.031270\t2024-08-27 15:04:06.031273\n",
      "Hiking Boot\tFootwear\t129.99\tMerrell\tBrown\t11\thttps://example.com/merrell_boot.jpg\tDurable hiking boot\t3\t2024-08-27 15:04:06.031371\t2024-08-27 15:04:06.031374\n",
      "*/\n",
      "\n",
      "\n",
      "CREATE TABLE langchain_pg_collection (\n",
      "\tuuid UUID NOT NULL, \n",
      "\tname VARCHAR NOT NULL, \n",
      "\tcmetadata JSON, \n",
      "\tCONSTRAINT langchain_pg_collection_pkey PRIMARY KEY (uuid), \n",
      "\tCONSTRAINT langchain_pg_collection_name_key UNIQUE (name)\n",
      ")\n",
      "\n",
      "/*\n",
      "3 rows from langchain_pg_collection table:\n",
      "uuid\tname\tcmetadata\n",
      "c31754cd-5d75-4d75-8e14-fab4bcfcfe2e\tscraped\tNone\n",
      "*/\n",
      "\n",
      "\n",
      "CREATE TABLE langchain_pg_embedding (\n",
      "\tid VARCHAR NOT NULL, \n",
      "\tcollection_id UUID, \n",
      "\tdocument VARCHAR, \n",
      "\tcmetadata JSONB, \n",
      "\tCONSTRAINT langchain_pg_embedding_pkey PRIMARY KEY (id), \n",
      "\tCONSTRAINT langchain_pg_embedding_collection_id_fkey FOREIGN KEY(collection_id) REFERENCES langchain_pg_collection (uuid) ON DELETE CASCADE\n",
      ")\n",
      "\n",
      "/*\n",
      "3 rows from langchain_pg_embedding table:\n",
      "id\tcollection_id\tdocument\tcmetadata\n",
      "e9ec5a2a-def1-41ee-b19f-f8c6610e1553\tc31754cd-5d75-4d75-8e14-fab4bcfcfe2e\tButton - Powering the commerce-driven internetSolutionsButton Retail MediaFor PublishersFor Retailer\t{'title': 'Button - Powering the commerce-driven internet', 'source': 'https://www.usebutton.com/', \n",
      "94acb242-8295-470f-b181-f82f83aad052\tc31754cd-5d75-4d75-8e14-fab4bcfcfe2e\tcreator and app tracking platforms lack reliability for today's marketing models. Button optimizes \"\t{'title': 'Button - Powering the commerce-driven internet', 'source': 'https://www.usebutton.com/', \n",
      "d281f5c4-73ea-4bdd-9731-6257ec37a601\tc31754cd-5d75-4d75-8e14-fab4bcfcfe2e\tcare most about with integration options that require no code. AI-Enhanced OptimizationLeveraging AI\t{'title': 'Button - Powering the commerce-driven internet', 'source': 'https://www.usebutton.com/', \n",
      "*/\n",
      "\n",
      "\n",
      "CREATE TABLE purchase_history (\n",
      "\tquantity INTEGER NOT NULL, \n",
      "\tpurchase_date TIMESTAMP WITHOUT TIME ZONE NOT NULL, \n",
      "\ttotal_price DOUBLE PRECISION NOT NULL, \n",
      "\tpurchase_id SERIAL NOT NULL, \n",
      "\tuser_id INTEGER NOT NULL, \n",
      "\titem_id INTEGER NOT NULL, \n",
      "\tCONSTRAINT purchase_history_pkey PRIMARY KEY (purchase_id), \n",
      "\tCONSTRAINT purchase_history_item_id_fkey FOREIGN KEY(item_id) REFERENCES item (item_id), \n",
      "\tCONSTRAINT purchase_history_user_id_fkey FOREIGN KEY(user_id) REFERENCES \"user\" (user_id)\n",
      ")\n",
      "\n",
      "/*\n",
      "3 rows from purchase_history table:\n",
      "quantity\tpurchase_date\ttotal_price\tpurchase_id\tuser_id\titem_id\n",
      "1\t2024-08-22 15:04:06.044731\t89.99\t1\t1\t1\n",
      "1\t2024-08-24 15:04:06.046605\t129.99\t2\t2\t5\n",
      "2\t2024-08-26 15:04:06.047675\t11.98\t3\t1\t7\n",
      "*/\n",
      "\n",
      "\n",
      "CREATE TABLE search_query (\n",
      "\tquery_text VARCHAR NOT NULL, \n",
      "\tquery_id SERIAL NOT NULL, \n",
      "\tuser_id INTEGER NOT NULL, \n",
      "\tcreated_at TIMESTAMP WITHOUT TIME ZONE NOT NULL, \n",
      "\tresult_item_ids INTEGER[], \n",
      "\tCONSTRAINT search_query_pkey PRIMARY KEY (query_id), \n",
      "\tCONSTRAINT search_query_user_id_fkey FOREIGN KEY(user_id) REFERENCES \"user\" (user_id)\n",
      ")\n",
      "\n",
      "/*\n",
      "3 rows from search_query table:\n",
      "query_text\tquery_id\tuser_id\tcreated_at\tresult_item_ids\n",
      "\n",
      "*/\n"
     ]
    }
   ],
   "source": [
    "print(context[\"table_info\"])"
   ]
  },
  {
   "cell_type": "code",
   "execution_count": 21,
   "metadata": {},
   "outputs": [
    {
     "name": "stdout",
     "output_type": "stream",
     "text": [
      "alembic_version, document, evaluation, item, langchain_pg_collection, langchain_pg_embedding, purchase_history, search_query, user\n"
     ]
    }
   ],
   "source": [
    "print(context[\"table_names\"])\n"
   ]
  },
  {
   "cell_type": "markdown",
   "metadata": {},
   "source": [
    "# Chain\n"
   ]
  },
  {
   "cell_type": "markdown",
   "metadata": {},
   "source": [
    "## Convert question to sql query\n"
   ]
  },
  {
   "cell_type": "code",
   "execution_count": 29,
   "metadata": {},
   "outputs": [
    {
     "data": {
      "text/plain": [
       "'SELECT i.item_name, i.price, i.brand, i.color, i.size\\nFROM item i\\nJOIN purchase_history ph ON i.item_id = ph.item_id\\nJOIN \"user\" u ON ph.user_id = u.user_id\\nWHERE u.name = \\'John Doe\\'\\nLIMIT 5;'"
      ]
     },
     "execution_count": 29,
     "metadata": {},
     "output_type": "execute_result"
    }
   ],
   "source": [
    "from langchain.chains import create_sql_query_chain\n",
    "from langchain_openai import ChatOpenAI\n",
    "\n",
    "llm = ChatOpenAI(model=\"gpt-3.5-turbo\", temperature=0)\n",
    "chain = create_sql_query_chain(llm, db)\n",
    "response = chain.invoke({\"question\": \"What things that Jon bought\"})\n",
    "response\n"
   ]
  },
  {
   "cell_type": "code",
   "execution_count": 30,
   "metadata": {},
   "outputs": [
    {
     "name": "stdout",
     "output_type": "stream",
     "text": [
      "SELECT i.item_name, i.price, i.brand, i.color, i.size\n",
      "FROM item i\n",
      "JOIN purchase_history ph ON i.item_id = ph.item_id\n",
      "JOIN \"user\" u ON ph.user_id = u.user_id\n",
      "WHERE u.name = 'John Doe'\n",
      "LIMIT 5;\n"
     ]
    }
   ],
   "source": [
    "print(response)"
   ]
  },
  {
   "cell_type": "code",
   "execution_count": 31,
   "metadata": {},
   "outputs": [
    {
     "data": {
      "text/plain": [
       "\"[('Running Shoe', 89.99, 'Nike', 'Blue', '10'), ('Mechanical Pencil', 5.99, 'Pentel', 'Black', '0.5mm'), ('Travel Backpack', 89.99, 'Osprey', 'Black', '30L')]\""
      ]
     },
     "execution_count": 31,
     "metadata": {},
     "output_type": "execute_result"
    }
   ],
   "source": [
    "db.run(response)\n"
   ]
  },
  {
   "cell_type": "code",
   "execution_count": null,
   "metadata": {},
   "outputs": [],
   "source": []
  }
 ],
 "metadata": {
  "kernelspec": {
   "display_name": ".venv",
   "language": "python",
   "name": "python3"
  },
  "language_info": {
   "codemirror_mode": {
    "name": "ipython",
    "version": 3
   },
   "file_extension": ".py",
   "mimetype": "text/x-python",
   "name": "python",
   "nbconvert_exporter": "python",
   "pygments_lexer": "ipython3",
   "version": "3.11.9"
  }
 },
 "nbformat": 4,
 "nbformat_minor": 2
}
